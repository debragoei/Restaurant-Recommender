{
 "cells": [
  {
   "cell_type": "markdown",
   "id": "4d1f127c-0cab-423f-877a-f01abe5fdbdb",
   "metadata": {},
   "source": [
    "# Data Importing"
   ]
  },
  {
   "cell_type": "markdown",
   "id": "c201d1be-c6f2-4624-96b1-a3a6db77b51d",
   "metadata": {},
   "source": [
    "This notebook will mainly cover the steps I've taken to import and clean the datasets from Kaggle. For more detailed descriptions on the problem statement and methodology of my Capstone Project, please refer to the Part 2 Jupyter Notebook in this Repository."
   ]
  },
  {
   "cell_type": "code",
   "execution_count": 1,
   "id": "53cbd5bc-84b1-42a2-a02a-a532fec7d5d2",
   "metadata": {},
   "outputs": [],
   "source": [
    "#Import Libraries\n",
    "\n",
    "import pandas as pd\n",
    "import numpy as np\n",
    "import matplotlib as plt\n",
    "\n",
    "import json\n",
    "import requests\n",
    "import time\n",
    "import nltk\n",
    "import regex as re\n",
    "from collections import Counter\n",
    "from bs4 import BeautifulSoup"
   ]
  },
  {
   "cell_type": "markdown",
   "id": "81d8974d-f343-4487-b6e9-180b1c28d258",
   "metadata": {},
   "source": [
    "Sources:\n",
    "- \"Convert Yelp Dataset to CSV\" by [*George Hou*](https://towardsdatascience.com/converting-yelp-dataset-to-csv-using-pandas-2a4c8f03bd88)\n",
    "- General Assembly DSIR 222 Coursework: Hank Butler, John Hazard, Heather Robbins"
   ]
  },
  {
   "cell_type": "markdown",
   "id": "ba7c1cef-44cf-4c9c-97a2-8ff7f8702a44",
   "metadata": {},
   "source": [
    "From the Kaggle Dataset, the 3 main json files that I will be importing and analyzing for my Capstone Project are the business, review and user files."
   ]
  },
  {
   "cell_type": "markdown",
   "id": "ea7b0204-0620-43df-95ee-7a03745597f8",
   "metadata": {},
   "source": [
    "### Loading and cleaning the business.json file"
   ]
  },
  {
   "cell_type": "code",
   "execution_count": 9,
   "id": "2742e943-7870-49c3-8913-e237039ca0c0",
   "metadata": {},
   "outputs": [],
   "source": [
    "business_json_path = '../Data/business.json'"
   ]
  },
  {
   "cell_type": "code",
   "execution_count": 10,
   "id": "52761aec-6f41-4e10-b69d-6811520630fc",
   "metadata": {},
   "outputs": [],
   "source": [
    "df_b = pd.read_json(business_json_path, lines=True)"
   ]
  },
  {
   "cell_type": "code",
   "execution_count": 11,
   "id": "d95dea30-3339-4d53-82d9-c4cd46c7aec6",
   "metadata": {},
   "outputs": [],
   "source": [
    "# 1 = open, 0 = closed\n",
    "df_b = df_b[df_b['is_open']==1]"
   ]
  },
  {
   "cell_type": "code",
   "execution_count": 12,
   "id": "9fd6f6c8-88a7-45f6-a540-89793d25ab58",
   "metadata": {},
   "outputs": [],
   "source": [
    "# must keep business_id to merge with reviews\n",
    "drop_columns = ['hours','is_open','review_count']\n",
    "df_b = df_b.drop(drop_columns, axis=1)"
   ]
  },
  {
   "cell_type": "markdown",
   "id": "61d70838-bcc1-4218-9c91-e6aff80a363b",
   "metadata": {},
   "source": [
    "For this Capstone Project, we are only focusing on Restaurant and F&B Businesses. As such, we will be restricting the categories that businesses can contain in our filtered dataset. Based on the above count plot, we will be restricting these broad categories to: Restaurants, Fast Food, Breakfast & Brunch, Cafes."
   ]
  },
  {
   "cell_type": "code",
   "execution_count": 13,
   "id": "71cc8176-09ed-407c-87c3-98f2a5efd7ff",
   "metadata": {},
   "outputs": [],
   "source": [
    "# split businesses by category\n",
    "business_restaurant = df_b[df_b['categories'].str.contains(\n",
    "              'Restaurant',\n",
    "              case=False, na=False)]"
   ]
  },
  {
   "cell_type": "code",
   "execution_count": 14,
   "id": "fd831f25-1e43-4f46-b243-cafbcf62bab9",
   "metadata": {},
   "outputs": [],
   "source": [
    "df_explode = df_b.assign(categories = df_b.categories\n",
    "                         .str.split(', ')).explode('categories')"
   ]
  },
  {
   "cell_type": "code",
   "execution_count": 15,
   "id": "1b11edcb-b037-40e5-8e75-2608da4ca173",
   "metadata": {},
   "outputs": [
    {
     "data": {
      "text/plain": [
       "Restaurants      42237\n",
       "Shopping         26734\n",
       "Food             23208\n",
       "Home Services    18455\n",
       "Beauty & Spas    16545\n",
       "                 ...  \n",
       "Geneticists          1\n",
       "Makerspaces          1\n",
       "Fencing Clubs        1\n",
       "Flyboarding          1\n",
       "Churros              1\n",
       "Name: categories, Length: 1290, dtype: int64"
      ]
     },
     "execution_count": 15,
     "metadata": {},
     "output_type": "execute_result"
    }
   ],
   "source": [
    "df_explode.categories.value_counts()"
   ]
  },
  {
   "cell_type": "code",
   "execution_count": 16,
   "id": "02ca4670-1550-449f-9000-464fb293d25e",
   "metadata": {},
   "outputs": [
    {
     "data": {
      "text/plain": [
       "Restaurants            42237\n",
       "Restaurant Supplies       20\n",
       "Pop-Up Restaurants        10\n",
       "Name: categories, dtype: int64"
      ]
     },
     "execution_count": 16,
     "metadata": {},
     "output_type": "execute_result"
    }
   ],
   "source": [
    "df_explode[df_explode.categories.str.contains('Restaurant',\n",
    "                      case=True,na=False)].categories.value_counts()"
   ]
  },
  {
   "cell_type": "code",
   "execution_count": 17,
   "id": "54511824-c0a4-41ca-b248-0ddfd8bdef3a",
   "metadata": {},
   "outputs": [
    {
     "data": {
      "text/html": [
       "<div>\n",
       "<style scoped>\n",
       "    .dataframe tbody tr th:only-of-type {\n",
       "        vertical-align: middle;\n",
       "    }\n",
       "\n",
       "    .dataframe tbody tr th {\n",
       "        vertical-align: top;\n",
       "    }\n",
       "\n",
       "    .dataframe thead th {\n",
       "        text-align: right;\n",
       "    }\n",
       "</style>\n",
       "<table border=\"1\" class=\"dataframe\">\n",
       "  <thead>\n",
       "    <tr style=\"text-align: right;\">\n",
       "      <th></th>\n",
       "      <th>business_id</th>\n",
       "      <th>name</th>\n",
       "      <th>address</th>\n",
       "      <th>city</th>\n",
       "      <th>state</th>\n",
       "      <th>postal_code</th>\n",
       "      <th>latitude</th>\n",
       "      <th>longitude</th>\n",
       "      <th>stars</th>\n",
       "      <th>attributes</th>\n",
       "      <th>categories</th>\n",
       "    </tr>\n",
       "  </thead>\n",
       "  <tbody>\n",
       "    <tr>\n",
       "      <th>1</th>\n",
       "      <td>QXAEGFB4oINsVuTFxEYKFQ</td>\n",
       "      <td>Emerald Chinese Restaurant</td>\n",
       "      <td>30 Eglinton Avenue W</td>\n",
       "      <td>Mississauga</td>\n",
       "      <td>ON</td>\n",
       "      <td>L5R 3E7</td>\n",
       "      <td>43.605499</td>\n",
       "      <td>-79.652289</td>\n",
       "      <td>2.5</td>\n",
       "      <td>{'RestaurantsReservations': 'True', 'GoodForMe...</td>\n",
       "      <td>Specialty Food, Restaurants, Dim Sum, Imported...</td>\n",
       "    </tr>\n",
       "    <tr>\n",
       "      <th>2</th>\n",
       "      <td>gnKjwL_1w79qoiV3IC_xQQ</td>\n",
       "      <td>Musashi Japanese Restaurant</td>\n",
       "      <td>10110 Johnston Rd, Ste 15</td>\n",
       "      <td>Charlotte</td>\n",
       "      <td>NC</td>\n",
       "      <td>28210</td>\n",
       "      <td>35.092564</td>\n",
       "      <td>-80.859132</td>\n",
       "      <td>4.0</td>\n",
       "      <td>{'GoodForKids': 'True', 'NoiseLevel': 'u'avera...</td>\n",
       "      <td>Sushi Bars, Restaurants, Japanese</td>\n",
       "    </tr>\n",
       "    <tr>\n",
       "      <th>11</th>\n",
       "      <td>1Dfx3zM-rW4n-31KeC8sJg</td>\n",
       "      <td>Taco Bell</td>\n",
       "      <td>2450 E Indian School Rd</td>\n",
       "      <td>Phoenix</td>\n",
       "      <td>AZ</td>\n",
       "      <td>85016</td>\n",
       "      <td>33.495194</td>\n",
       "      <td>-112.028588</td>\n",
       "      <td>3.0</td>\n",
       "      <td>{'RestaurantsTakeOut': 'True', 'BusinessParkin...</td>\n",
       "      <td>Restaurants, Breakfast &amp; Brunch, Mexican, Taco...</td>\n",
       "    </tr>\n",
       "    <tr>\n",
       "      <th>13</th>\n",
       "      <td>fweCYi8FmbJXHCqLnwuk8w</td>\n",
       "      <td>Marco's Pizza</td>\n",
       "      <td>5981 Andrews Rd</td>\n",
       "      <td>Mentor-on-the-Lake</td>\n",
       "      <td>OH</td>\n",
       "      <td>44060</td>\n",
       "      <td>41.708520</td>\n",
       "      <td>-81.359556</td>\n",
       "      <td>4.0</td>\n",
       "      <td>{'RestaurantsPriceRange2': '2', 'BusinessAccep...</td>\n",
       "      <td>Italian, Restaurants, Pizza, Chicken Wings</td>\n",
       "    </tr>\n",
       "    <tr>\n",
       "      <th>23</th>\n",
       "      <td>1RHY4K3BD22FK7Cfftn8Mg</td>\n",
       "      <td>Marathon Diner</td>\n",
       "      <td>Center Core - Food Court, Fl 3, Pittsburgh Int...</td>\n",
       "      <td>Pittsburgh</td>\n",
       "      <td>PA</td>\n",
       "      <td>15231</td>\n",
       "      <td>40.496177</td>\n",
       "      <td>-80.246011</td>\n",
       "      <td>4.0</td>\n",
       "      <td>{'RestaurantsTakeOut': 'True', 'BusinessParkin...</td>\n",
       "      <td>Sandwiches, Salad, Restaurants, Burgers, Comfo...</td>\n",
       "    </tr>\n",
       "  </tbody>\n",
       "</table>\n",
       "</div>"
      ],
      "text/plain": [
       "               business_id                         name  \\\n",
       "1   QXAEGFB4oINsVuTFxEYKFQ   Emerald Chinese Restaurant   \n",
       "2   gnKjwL_1w79qoiV3IC_xQQ  Musashi Japanese Restaurant   \n",
       "11  1Dfx3zM-rW4n-31KeC8sJg                    Taco Bell   \n",
       "13  fweCYi8FmbJXHCqLnwuk8w                Marco's Pizza   \n",
       "23  1RHY4K3BD22FK7Cfftn8Mg               Marathon Diner   \n",
       "\n",
       "                                              address                city  \\\n",
       "1                                30 Eglinton Avenue W         Mississauga   \n",
       "2                           10110 Johnston Rd, Ste 15           Charlotte   \n",
       "11                            2450 E Indian School Rd             Phoenix   \n",
       "13                                    5981 Andrews Rd  Mentor-on-the-Lake   \n",
       "23  Center Core - Food Court, Fl 3, Pittsburgh Int...          Pittsburgh   \n",
       "\n",
       "   state postal_code   latitude   longitude  stars  \\\n",
       "1     ON     L5R 3E7  43.605499  -79.652289    2.5   \n",
       "2     NC       28210  35.092564  -80.859132    4.0   \n",
       "11    AZ       85016  33.495194 -112.028588    3.0   \n",
       "13    OH       44060  41.708520  -81.359556    4.0   \n",
       "23    PA       15231  40.496177  -80.246011    4.0   \n",
       "\n",
       "                                           attributes  \\\n",
       "1   {'RestaurantsReservations': 'True', 'GoodForMe...   \n",
       "2   {'GoodForKids': 'True', 'NoiseLevel': 'u'avera...   \n",
       "11  {'RestaurantsTakeOut': 'True', 'BusinessParkin...   \n",
       "13  {'RestaurantsPriceRange2': '2', 'BusinessAccep...   \n",
       "23  {'RestaurantsTakeOut': 'True', 'BusinessParkin...   \n",
       "\n",
       "                                           categories  \n",
       "1   Specialty Food, Restaurants, Dim Sum, Imported...  \n",
       "2                   Sushi Bars, Restaurants, Japanese  \n",
       "11  Restaurants, Breakfast & Brunch, Mexican, Taco...  \n",
       "13         Italian, Restaurants, Pizza, Chicken Wings  \n",
       "23  Sandwiches, Salad, Restaurants, Burgers, Comfo...  "
      ]
     },
     "execution_count": 17,
     "metadata": {},
     "output_type": "execute_result"
    }
   ],
   "source": [
    "business_restaurant.head()"
   ]
  },
  {
   "cell_type": "code",
   "execution_count": 18,
   "id": "da89ae7b-4682-4b90-b2ba-b907e585e763",
   "metadata": {},
   "outputs": [
    {
     "data": {
      "text/plain": [
       "(42252, 11)"
      ]
     },
     "execution_count": 18,
     "metadata": {},
     "output_type": "execute_result"
    }
   ],
   "source": [
    "business_restaurant.shape"
   ]
  },
  {
   "cell_type": "code",
   "execution_count": 19,
   "id": "360a32ba-8c8a-40c8-ab58-1925fff0d603",
   "metadata": {},
   "outputs": [
    {
     "data": {
      "text/plain": [
       "ON     10507\n",
       "AZ      7680\n",
       "NV      5124\n",
       "QC      4397\n",
       "OH      4209\n",
       "NC      3174\n",
       "PA      2933\n",
       "AB      2315\n",
       "WI      1167\n",
       "IL       457\n",
       "SC       264\n",
       "NY        12\n",
       "XWY        2\n",
       "CON        1\n",
       "AR         1\n",
       "XGM        1\n",
       "VT         1\n",
       "BC         1\n",
       "NM         1\n",
       "WA         1\n",
       "CA         1\n",
       "NE         1\n",
       "VA         1\n",
       "AL         1\n",
       "Name: state, dtype: int64"
      ]
     },
     "execution_count": 19,
     "metadata": {},
     "output_type": "execute_result"
    }
   ],
   "source": [
    "business_restaurant['state'].value_counts()"
   ]
  },
  {
   "cell_type": "code",
   "execution_count": 20,
   "id": "47952c25-9f4b-4377-9e4d-d8953361a36e",
   "metadata": {},
   "outputs": [],
   "source": [
    "csv_bus = \"../Data/businesses.csv\"\n",
    "business_restaurant.to_csv(csv_bus, index=False)"
   ]
  },
  {
   "cell_type": "markdown",
   "id": "8885f5b7-b71a-449e-9aa3-ce8e7da30810",
   "metadata": {
    "tags": []
   },
   "source": [
    "### Loading and cleaning the review.json file"
   ]
  },
  {
   "cell_type": "code",
   "execution_count": 21,
   "id": "d9c3d4ff-73c4-4809-b704-ae1e344517c3",
   "metadata": {},
   "outputs": [],
   "source": [
    "review_json_path = '../Data/review.json'"
   ]
  },
  {
   "cell_type": "code",
   "execution_count": 22,
   "id": "c27c4697-5a2d-4135-b449-d467e07d4cd7",
   "metadata": {},
   "outputs": [],
   "source": [
    "size = 1000000\n",
    "review = pd.read_json(review_json_path, lines=True,\n",
    "                      dtype={'review_id':str,'user_id':str,\n",
    "                             'business_id':str,'stars':int,\n",
    "                             'date':str,'text':str,'useful':int,\n",
    "                             'funny':int,'cool':int},\n",
    "                     chunksize=size)"
   ]
  },
  {
   "cell_type": "code",
   "execution_count": 24,
   "id": "86015401-c583-4266-aca2-aa471620d589",
   "metadata": {},
   "outputs": [
    {
     "name": "stdout",
     "output_type": "stream",
     "text": [
      "542224 out of 1,000,000 related reviews\n",
      "528775 out of 1,000,000 related reviews\n",
      "536867 out of 1,000,000 related reviews\n",
      "514039 out of 1,000,000 related reviews\n",
      "543781 out of 1,000,000 related reviews\n",
      "538411 out of 1,000,000 related reviews\n",
      "362868 out of 1,000,000 related reviews\n"
     ]
    }
   ],
   "source": [
    "# There are multiple chunks to be read\n",
    "chunk_list = []\n",
    "for chunk_review in review:\n",
    "    # Drop columns that aren't needed\n",
    "    chunk_review = chunk_review.drop(['review_id','useful','funny','cool'], axis=1)\n",
    "    # Renaming column name to avoid conflict with business overall star rating\n",
    "    chunk_review = chunk_review.rename(columns={'stars': 'review_stars'})\n",
    "    # Inner merge with edited business file so only reviews related to the business remain\n",
    "    chunk_merged = pd.merge(business_restaurant, chunk_review, on='business_id', how='inner')\n",
    "    # Show feedback on progress\n",
    "    print(f\"{chunk_merged.shape[0]} out of {size:,} related reviews\")\n",
    "    chunk_list.append(chunk_merged)"
   ]
  },
  {
   "cell_type": "code",
   "execution_count": 30,
   "id": "dd1eeff4-6d4a-45cd-bb35-466d9f50490c",
   "metadata": {},
   "outputs": [],
   "source": [
    "# After trimming down the review file, concatenate all relevant data back to one dataframe\n",
    "df = pd.concat(chunk_list, ignore_index=True, join='outer', axis=0)"
   ]
  },
  {
   "cell_type": "markdown",
   "id": "08f45ab1-871d-4a44-8b03-e32d95794b00",
   "metadata": {},
   "source": [
    "### Converting the dataframe to a new CSV file"
   ]
  },
  {
   "cell_type": "code",
   "execution_count": 31,
   "id": "5311aece-6d6f-4152-9fa6-74163dcde9a9",
   "metadata": {},
   "outputs": [],
   "source": [
    "csv_name = \"yelp_restaurant_reviews.csv\"\n",
    "df.to_csv(csv_name, index=False)"
   ]
  }
 ],
 "metadata": {
  "kernelspec": {
   "display_name": "Python 3 (ipykernel)",
   "language": "python",
   "name": "python3"
  },
  "language_info": {
   "codemirror_mode": {
    "name": "ipython",
    "version": 3
   },
   "file_extension": ".py",
   "mimetype": "text/x-python",
   "name": "python",
   "nbconvert_exporter": "python",
   "pygments_lexer": "ipython3",
   "version": "3.9.7"
  }
 },
 "nbformat": 4,
 "nbformat_minor": 5
}
