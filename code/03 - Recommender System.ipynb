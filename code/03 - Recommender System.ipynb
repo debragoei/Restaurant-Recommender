{
 "cells": [
  {
   "cell_type": "markdown",
   "id": "f5114f3b-87e5-48b5-b118-ba5ef1bdc317",
   "metadata": {},
   "source": [
    "# Recommender System"
   ]
  },
  {
   "cell_type": "markdown",
   "id": "b41b4417-eb3c-475f-b696-b590d903a255",
   "metadata": {},
   "source": [
    "For this project, we will be build 2 Recommender System Models to recommend restaurants based on our dataset\n",
    "\n",
    "The first model is a content-based recommendation system that recommends 20 restaurants based on a selection, intended to be recommended based on past data where applicable. Using a cosine similarity matrix\n",
    "\n",
    "The secon model is a location-based recommendation system that utilizes longitude and latitude to recommend the top 10 restaurants closest based on location, ideally taking into account overall review ratings.\n"
   ]
  },
  {
   "cell_type": "markdown",
   "id": "7cc9b776-25d9-4aef-b77a-944304aa8137",
   "metadata": {},
   "source": [
    "Source:\n",
    "- \"Build Your Own Clustering Based Recommendation Engine in 15 minutes\" by Ashish Rana [*(Medium)*](https://towardsdatascience.com/build-your-own-clustering-based-recommendation-engine-in-15-minutes-bdddd591d394)\n",
    "- \"Review of Clustering-Based Recommender Systems\" by [*Irina Beregovskaya, Mikhail Koroteev*](https://arxiv.org/abs/2109.12839)\n",
    "- \"Location-Based Recommendations\" by Abdishakur[*Medium*(https://towardsdatascience.com/location-based-recommendations-bb70af7b1538])"
   ]
  },
  {
   "cell_type": "code",
   "execution_count": 67,
   "id": "f7aba6a7-682a-4ef5-96a3-df31de369495",
   "metadata": {},
   "outputs": [],
   "source": [
    "import pandas as pd\n",
    "import numpy as np\n",
    "import plotly.express as px\n",
    "import matplotlib.pyplot as plt\n",
    "from sklearn import metrics\n",
    "from sklearn.cluster import KMeans\n",
    "from sklearn.feature_extraction.text import TfidfVectorizer, CountVectorizer\n",
    "from sklearn.metrics.pairwise import cosine_similarity\n",
    "from sklearn.metrics import silhouette_score\n",
    "\n",
    "import os\n",
    "import ast\n",
    "import pickle"
   ]
  },
  {
   "cell_type": "code",
   "execution_count": 22,
   "id": "eb47df9a-083a-4589-815c-c0c8d1497e88",
   "metadata": {},
   "outputs": [],
   "source": [
    "data = pd.read_csv('../Data/GTA_sentimentt.csv')"
   ]
  },
  {
   "cell_type": "code",
   "execution_count": 23,
   "id": "38e8942a-6c54-4f5e-bc70-0ac23e7aa4e1",
   "metadata": {},
   "outputs": [
    {
     "data": {
      "text/html": [
       "<div>\n",
       "<style scoped>\n",
       "    .dataframe tbody tr th:only-of-type {\n",
       "        vertical-align: middle;\n",
       "    }\n",
       "\n",
       "    .dataframe tbody tr th {\n",
       "        vertical-align: top;\n",
       "    }\n",
       "\n",
       "    .dataframe thead th {\n",
       "        text-align: right;\n",
       "    }\n",
       "</style>\n",
       "<table border=\"1\" class=\"dataframe\">\n",
       "  <thead>\n",
       "    <tr style=\"text-align: right;\">\n",
       "      <th></th>\n",
       "      <th>business_id</th>\n",
       "      <th>name</th>\n",
       "      <th>city</th>\n",
       "      <th>state</th>\n",
       "      <th>latitude</th>\n",
       "      <th>longitude</th>\n",
       "      <th>stars</th>\n",
       "      <th>attributes</th>\n",
       "      <th>categories</th>\n",
       "      <th>user_id</th>\n",
       "      <th>review_stars</th>\n",
       "      <th>text</th>\n",
       "      <th>review_counts</th>\n",
       "      <th>year</th>\n",
       "      <th>text_word_count</th>\n",
       "      <th>pos_neg</th>\n",
       "      <th>text_clean</th>\n",
       "    </tr>\n",
       "  </thead>\n",
       "  <tbody>\n",
       "    <tr>\n",
       "      <th>0</th>\n",
       "      <td>QXAEGFB4oINsVuTFxEYKFQ</td>\n",
       "      <td>Emerald Chinese Restaurant</td>\n",
       "      <td>Mississauga</td>\n",
       "      <td>ON</td>\n",
       "      <td>43.605499</td>\n",
       "      <td>-79.652289</td>\n",
       "      <td>2.5</td>\n",
       "      <td>{'RestaurantsReservations': 'True', 'GoodForMe...</td>\n",
       "      <td>Specialty Food, Restaurants, Dim Sum, Imported...</td>\n",
       "      <td>2K62MJ4CJ19L8Tp5pRfjfQ</td>\n",
       "      <td>3.0</td>\n",
       "      <td>My girlfriend and I went for dinner at Emerald...</td>\n",
       "      <td>134</td>\n",
       "      <td>2017</td>\n",
       "      <td>242</td>\n",
       "      <td>0</td>\n",
       "      <td>girlfriend went dinner emerald chinese thursda...</td>\n",
       "    </tr>\n",
       "    <tr>\n",
       "      <th>1</th>\n",
       "      <td>QXAEGFB4oINsVuTFxEYKFQ</td>\n",
       "      <td>Emerald Chinese Restaurant</td>\n",
       "      <td>Mississauga</td>\n",
       "      <td>ON</td>\n",
       "      <td>43.605499</td>\n",
       "      <td>-79.652289</td>\n",
       "      <td>2.5</td>\n",
       "      <td>{'RestaurantsReservations': 'True', 'GoodForMe...</td>\n",
       "      <td>Specialty Food, Restaurants, Dim Sum, Imported...</td>\n",
       "      <td>SuOLY03LW5ZcnynKhbTydA</td>\n",
       "      <td>3.0</td>\n",
       "      <td>***No automatic doors, not baby friendly!*** I...</td>\n",
       "      <td>134</td>\n",
       "      <td>2016</td>\n",
       "      <td>43</td>\n",
       "      <td>0</td>\n",
       "      <td>automatic door baby friendly frequent chinese ...</td>\n",
       "    </tr>\n",
       "  </tbody>\n",
       "</table>\n",
       "</div>"
      ],
      "text/plain": [
       "              business_id                        name         city state  \\\n",
       "0  QXAEGFB4oINsVuTFxEYKFQ  Emerald Chinese Restaurant  Mississauga    ON   \n",
       "1  QXAEGFB4oINsVuTFxEYKFQ  Emerald Chinese Restaurant  Mississauga    ON   \n",
       "\n",
       "    latitude  longitude  stars  \\\n",
       "0  43.605499 -79.652289    2.5   \n",
       "1  43.605499 -79.652289    2.5   \n",
       "\n",
       "                                          attributes  \\\n",
       "0  {'RestaurantsReservations': 'True', 'GoodForMe...   \n",
       "1  {'RestaurantsReservations': 'True', 'GoodForMe...   \n",
       "\n",
       "                                          categories                 user_id  \\\n",
       "0  Specialty Food, Restaurants, Dim Sum, Imported...  2K62MJ4CJ19L8Tp5pRfjfQ   \n",
       "1  Specialty Food, Restaurants, Dim Sum, Imported...  SuOLY03LW5ZcnynKhbTydA   \n",
       "\n",
       "   review_stars                                               text  \\\n",
       "0           3.0  My girlfriend and I went for dinner at Emerald...   \n",
       "1           3.0  ***No automatic doors, not baby friendly!*** I...   \n",
       "\n",
       "   review_counts  year  text_word_count  pos_neg  \\\n",
       "0            134  2017              242        0   \n",
       "1            134  2016               43        0   \n",
       "\n",
       "                                          text_clean  \n",
       "0  girlfriend went dinner emerald chinese thursda...  \n",
       "1  automatic door baby friendly frequent chinese ...  "
      ]
     },
     "execution_count": 23,
     "metadata": {},
     "output_type": "execute_result"
    }
   ],
   "source": [
    "data.head(2)"
   ]
  },
  {
   "cell_type": "code",
   "execution_count": 24,
   "id": "7aa11bf2-ca53-4041-9717-6b08734f1db3",
   "metadata": {},
   "outputs": [
    {
     "data": {
      "text/plain": [
       "(328594, 17)"
      ]
     },
     "execution_count": 24,
     "metadata": {},
     "output_type": "execute_result"
    }
   ],
   "source": [
    "data.shape\n"
   ]
  },
  {
   "cell_type": "code",
   "execution_count": 25,
   "id": "356d7c3b-7c43-413c-acdb-619df25c6c40",
   "metadata": {},
   "outputs": [
    {
     "data": {
      "text/html": [
       "<div>\n",
       "<style scoped>\n",
       "    .dataframe tbody tr th:only-of-type {\n",
       "        vertical-align: middle;\n",
       "    }\n",
       "\n",
       "    .dataframe tbody tr th {\n",
       "        vertical-align: top;\n",
       "    }\n",
       "\n",
       "    .dataframe thead th {\n",
       "        text-align: right;\n",
       "    }\n",
       "</style>\n",
       "<table border=\"1\" class=\"dataframe\">\n",
       "  <thead>\n",
       "    <tr style=\"text-align: right;\">\n",
       "      <th></th>\n",
       "      <th>name</th>\n",
       "      <th>rev</th>\n",
       "    </tr>\n",
       "  </thead>\n",
       "  <tbody>\n",
       "    <tr>\n",
       "      <th>0</th>\n",
       "      <td>&amp;Company Resto Bar</td>\n",
       "      <td>dont know happened place went girlfriend satur...</td>\n",
       "    </tr>\n",
       "    <tr>\n",
       "      <th>1</th>\n",
       "      <td>'ONO Poké Bar</td>\n",
       "      <td>45 craving poke bowl longest time im super hap...</td>\n",
       "    </tr>\n",
       "    <tr>\n",
       "      <th>2</th>\n",
       "      <td>00 Gelato</td>\n",
       "      <td>one best gelatos toronto chocolate raspberry f...</td>\n",
       "    </tr>\n",
       "    <tr>\n",
       "      <th>3</th>\n",
       "      <td>0109 Dessert &amp; Chocolate</td>\n",
       "      <td>delicious place loved environment cleanliness ...</td>\n",
       "    </tr>\n",
       "    <tr>\n",
       "      <th>4</th>\n",
       "      <td>1 Plus 2 Pizza &amp; Wings</td>\n",
       "      <td>worst customer service everhate place u dont k...</td>\n",
       "    </tr>\n",
       "    <tr>\n",
       "      <th>...</th>\n",
       "      <td>...</td>\n",
       "      <td>...</td>\n",
       "    </tr>\n",
       "    <tr>\n",
       "      <th>5484</th>\n",
       "      <td>pico de gallo</td>\n",
       "      <td>office delivery order pico de gallo thoroughly...</td>\n",
       "    </tr>\n",
       "    <tr>\n",
       "      <th>5485</th>\n",
       "      <td>süüp health bar</td>\n",
       "      <td>came across hidden gem chance coupon tried unl...</td>\n",
       "    </tr>\n",
       "    <tr>\n",
       "      <th>5486</th>\n",
       "      <td>teashop 168</td>\n",
       "      <td>man wish still sold frozen yougurt yougen fruz...</td>\n",
       "    </tr>\n",
       "    <tr>\n",
       "      <th>5487</th>\n",
       "      <td>yuan yuan Chinese Restaurant</td>\n",
       "      <td>kinda new northern chinese cuisine dining area...</td>\n",
       "    </tr>\n",
       "    <tr>\n",
       "      <th>5488</th>\n",
       "      <td>z-teca Gourmet Burritos</td>\n",
       "      <td>truly wretched tiny portion disgusting food hi...</td>\n",
       "    </tr>\n",
       "  </tbody>\n",
       "</table>\n",
       "<p>5489 rows × 2 columns</p>\n",
       "</div>"
      ],
      "text/plain": [
       "                              name  \\\n",
       "0               &Company Resto Bar   \n",
       "1                    'ONO Poké Bar   \n",
       "2                        00 Gelato   \n",
       "3         0109 Dessert & Chocolate   \n",
       "4           1 Plus 2 Pizza & Wings   \n",
       "...                            ...   \n",
       "5484                 pico de gallo   \n",
       "5485               süüp health bar   \n",
       "5486                   teashop 168   \n",
       "5487  yuan yuan Chinese Restaurant   \n",
       "5488       z-teca Gourmet Burritos   \n",
       "\n",
       "                                                    rev  \n",
       "0     dont know happened place went girlfriend satur...  \n",
       "1     45 craving poke bowl longest time im super hap...  \n",
       "2     one best gelatos toronto chocolate raspberry f...  \n",
       "3     delicious place loved environment cleanliness ...  \n",
       "4     worst customer service everhate place u dont k...  \n",
       "...                                                 ...  \n",
       "5484  office delivery order pico de gallo thoroughly...  \n",
       "5485  came across hidden gem chance coupon tried unl...  \n",
       "5486  man wish still sold frozen yougurt yougen fruz...  \n",
       "5487  kinda new northern chinese cuisine dining area...  \n",
       "5488  truly wretched tiny portion disgusting food hi...  \n",
       "\n",
       "[5489 rows x 2 columns]"
      ]
     },
     "execution_count": 25,
     "metadata": {},
     "output_type": "execute_result"
    }
   ],
   "source": [
    "cbf = data.groupby('name')['text_clean'].sum()\n",
    "cbf = cbf.to_frame(name = 'rev').reset_index()\n",
    "cbf"
   ]
  },
  {
   "cell_type": "code",
   "execution_count": null,
   "id": "0debc653-ef1d-400f-b876-da9ca220b18a",
   "metadata": {},
   "outputs": [],
   "source": [
    "We are now left with from 7,283 unique restaurants from our initial cleaned GTA file"
   ]
  },
  {
   "cell_type": "code",
   "execution_count": 26,
   "id": "bcf0d7b4-9a9b-4eca-85ef-96975a444eeb",
   "metadata": {
    "tags": []
   },
   "outputs": [],
   "source": [
    "cbf.to_csv('../Data/GTA_cbf_final.csv', index = False)"
   ]
  },
  {
   "cell_type": "code",
   "execution_count": 30,
   "id": "ff510a95-77b5-4190-aa3a-02354b78edd2",
   "metadata": {},
   "outputs": [],
   "source": [
    "cbf = pd.read_csv('../Data/GTA_cbf_final 2.csv')"
   ]
  },
  {
   "cell_type": "code",
   "execution_count": 32,
   "id": "9254dc3a-bda9-49da-9228-f1196114ce62",
   "metadata": {},
   "outputs": [
    {
     "data": {
      "text/html": [
       "<div>\n",
       "<style scoped>\n",
       "    .dataframe tbody tr th:only-of-type {\n",
       "        vertical-align: middle;\n",
       "    }\n",
       "\n",
       "    .dataframe tbody tr th {\n",
       "        vertical-align: top;\n",
       "    }\n",
       "\n",
       "    .dataframe thead th {\n",
       "        text-align: right;\n",
       "    }\n",
       "</style>\n",
       "<table border=\"1\" class=\"dataframe\">\n",
       "  <thead>\n",
       "    <tr style=\"text-align: right;\">\n",
       "      <th></th>\n",
       "      <th>name</th>\n",
       "      <th>rev</th>\n",
       "    </tr>\n",
       "  </thead>\n",
       "  <tbody>\n",
       "    <tr>\n",
       "      <th>0</th>\n",
       "      <td>&amp;Company Resto Bar</td>\n",
       "      <td>dont know happened place went girlfriend satur...</td>\n",
       "    </tr>\n",
       "    <tr>\n",
       "      <th>1</th>\n",
       "      <td>'ONO Poké Bar</td>\n",
       "      <td>45 craving poke bowl longest time im super hap...</td>\n",
       "    </tr>\n",
       "    <tr>\n",
       "      <th>2</th>\n",
       "      <td>00 Gelato</td>\n",
       "      <td>one best gelatos toronto chocolate raspberry f...</td>\n",
       "    </tr>\n",
       "    <tr>\n",
       "      <th>3</th>\n",
       "      <td>0109 Dessert &amp; Chocolate</td>\n",
       "      <td>delicious place loved environment cleanliness ...</td>\n",
       "    </tr>\n",
       "    <tr>\n",
       "      <th>4</th>\n",
       "      <td>1 Plus 2 Pizza &amp; Wings</td>\n",
       "      <td>worst customer service everhate place u dont k...</td>\n",
       "    </tr>\n",
       "  </tbody>\n",
       "</table>\n",
       "</div>"
      ],
      "text/plain": [
       "                       name                                                rev\n",
       "0        &Company Resto Bar  dont know happened place went girlfriend satur...\n",
       "1             'ONO Poké Bar  45 craving poke bowl longest time im super hap...\n",
       "2                 00 Gelato  one best gelatos toronto chocolate raspberry f...\n",
       "3  0109 Dessert & Chocolate  delicious place loved environment cleanliness ...\n",
       "4    1 Plus 2 Pizza & Wings  worst customer service everhate place u dont k..."
      ]
     },
     "execution_count": 32,
     "metadata": {},
     "output_type": "execute_result"
    }
   ],
   "source": [
    "cbf.head()"
   ]
  },
  {
   "cell_type": "code",
   "execution_count": 33,
   "id": "61130d6b-cf98-491c-9940-6bfb7d5eb200",
   "metadata": {},
   "outputs": [
    {
     "data": {
      "text/html": [
       "<div>\n",
       "<style scoped>\n",
       "    .dataframe tbody tr th:only-of-type {\n",
       "        vertical-align: middle;\n",
       "    }\n",
       "\n",
       "    .dataframe tbody tr th {\n",
       "        vertical-align: top;\n",
       "    }\n",
       "\n",
       "    .dataframe thead th {\n",
       "        text-align: right;\n",
       "    }\n",
       "</style>\n",
       "<table border=\"1\" class=\"dataframe\">\n",
       "  <thead>\n",
       "    <tr style=\"text-align: right;\">\n",
       "      <th></th>\n",
       "      <th>rev</th>\n",
       "    </tr>\n",
       "    <tr>\n",
       "      <th>name</th>\n",
       "      <th></th>\n",
       "    </tr>\n",
       "  </thead>\n",
       "  <tbody>\n",
       "    <tr>\n",
       "      <th>&amp;Company Resto Bar</th>\n",
       "      <td>{'dont know happened place went girlfriend sat...</td>\n",
       "    </tr>\n",
       "    <tr>\n",
       "      <th>'ONO Poké Bar</th>\n",
       "      <td>{'45 craving poke bowl longest time im super h...</td>\n",
       "    </tr>\n",
       "    <tr>\n",
       "      <th>00 Gelato</th>\n",
       "      <td>{'one best gelatos toronto chocolate raspberry...</td>\n",
       "    </tr>\n",
       "    <tr>\n",
       "      <th>0109 Dessert &amp; Chocolate</th>\n",
       "      <td>{'delicious place loved environment cleanlines...</td>\n",
       "    </tr>\n",
       "    <tr>\n",
       "      <th>1 Plus 2 Pizza &amp; Wings</th>\n",
       "      <td>{'worst customer service everhate place u dont...</td>\n",
       "    </tr>\n",
       "  </tbody>\n",
       "</table>\n",
       "</div>"
      ],
      "text/plain": [
       "                                                                        rev\n",
       "name                                                                       \n",
       "&Company Resto Bar        {'dont know happened place went girlfriend sat...\n",
       "'ONO Poké Bar             {'45 craving poke bowl longest time im super h...\n",
       "00 Gelato                 {'one best gelatos toronto chocolate raspberry...\n",
       "0109 Dessert & Chocolate  {'delicious place loved environment cleanlines...\n",
       "1 Plus 2 Pizza & Wings    {'worst customer service everhate place u dont..."
      ]
     },
     "execution_count": 33,
     "metadata": {},
     "output_type": "execute_result"
    }
   ],
   "source": [
    "cbf['rev'] = cbf['rev'].map(lambda x: x.replace(\", \",\"', '\"))\n",
    "cbf['rev'] = cbf['rev'].map(lambda x: str(\"'\") + x + str(\"'\"))\n",
    "f = lambda x: x[\"rev\"].split(\", \")\n",
    "cbf['rev'] = cbf.apply(f, axis=1)\n",
    "cbf['rev'] = cbf['rev'].map(lambda x: set(x))\n",
    "cbf.set_index('name', inplace = True)\n",
    "cbf.head()"
   ]
  },
  {
   "cell_type": "code",
   "execution_count": 35,
   "id": "de0bbc26-f3cb-47c9-b54f-faeb15232957",
   "metadata": {},
   "outputs": [],
   "source": [
    "cbf.to_csv('../Data/GTATop5_final.csv', index = False)"
   ]
  },
  {
   "cell_type": "code",
   "execution_count": 39,
   "id": "ded1f1bb-32d0-46da-addc-8e0b13b04961",
   "metadata": {},
   "outputs": [
    {
     "data": {
      "text/html": [
       "<div>\n",
       "<style scoped>\n",
       "    .dataframe tbody tr th:only-of-type {\n",
       "        vertical-align: middle;\n",
       "    }\n",
       "\n",
       "    .dataframe tbody tr th {\n",
       "        vertical-align: top;\n",
       "    }\n",
       "\n",
       "    .dataframe thead th {\n",
       "        text-align: right;\n",
       "    }\n",
       "</style>\n",
       "<table border=\"1\" class=\"dataframe\">\n",
       "  <thead>\n",
       "    <tr style=\"text-align: right;\">\n",
       "      <th></th>\n",
       "      <th>rev</th>\n",
       "      <th>bag_of_words</th>\n",
       "    </tr>\n",
       "    <tr>\n",
       "      <th>name</th>\n",
       "      <th></th>\n",
       "      <th></th>\n",
       "    </tr>\n",
       "  </thead>\n",
       "  <tbody>\n",
       "    <tr>\n",
       "      <th>&amp;Company Resto Bar</th>\n",
       "      <td>{'dont know happened place went girlfriend sat...</td>\n",
       "      <td>dont know happened place went girlfriend satur...</td>\n",
       "    </tr>\n",
       "    <tr>\n",
       "      <th>'ONO Poké Bar</th>\n",
       "      <td>{'45 craving poke bowl longest time im super h...</td>\n",
       "      <td>45 craving poke bowl longest time im super hap...</td>\n",
       "    </tr>\n",
       "    <tr>\n",
       "      <th>00 Gelato</th>\n",
       "      <td>{'one best gelatos toronto chocolate raspberry...</td>\n",
       "      <td>one best gelatos toronto chocolate raspberry f...</td>\n",
       "    </tr>\n",
       "    <tr>\n",
       "      <th>0109 Dessert &amp; Chocolate</th>\n",
       "      <td>{'delicious place loved environment cleanlines...</td>\n",
       "      <td>delicious place loved environment cleanliness ...</td>\n",
       "    </tr>\n",
       "    <tr>\n",
       "      <th>1 Plus 2 Pizza &amp; Wings</th>\n",
       "      <td>{'worst customer service everhate place u dont...</td>\n",
       "      <td>worst customer service everhate place u dont k...</td>\n",
       "    </tr>\n",
       "  </tbody>\n",
       "</table>\n",
       "</div>"
      ],
      "text/plain": [
       "                                                                        rev  \\\n",
       "name                                                                          \n",
       "&Company Resto Bar        {'dont know happened place went girlfriend sat...   \n",
       "'ONO Poké Bar             {'45 craving poke bowl longest time im super h...   \n",
       "00 Gelato                 {'one best gelatos toronto chocolate raspberry...   \n",
       "0109 Dessert & Chocolate  {'delicious place loved environment cleanlines...   \n",
       "1 Plus 2 Pizza & Wings    {'worst customer service everhate place u dont...   \n",
       "\n",
       "                                                               bag_of_words  \n",
       "name                                                                         \n",
       "&Company Resto Bar        dont know happened place went girlfriend satur...  \n",
       "'ONO Poké Bar             45 craving poke bowl longest time im super hap...  \n",
       "00 Gelato                 one best gelatos toronto chocolate raspberry f...  \n",
       "0109 Dessert & Chocolate  delicious place loved environment cleanliness ...  \n",
       "1 Plus 2 Pizza & Wings    worst customer service everhate place u dont k...  "
      ]
     },
     "execution_count": 39,
     "metadata": {},
     "output_type": "execute_result"
    }
   ],
   "source": [
    "cbf['bag_of_words'] = ''\n",
    "columns = cbf.columns\n",
    "for index, row in cbf.iterrows():\n",
    "    words = ''\n",
    "    for col in columns:\n",
    "            words = words + ' '.join(row[col])+ ' '\n",
    "    row['bag_of_words'] = words\n",
    "    \n",
    "cbf.drop(columns = [col for col in toronto_final.columns if col!= 'bag_of_words'], inplace = True)\n",
    "cbf['bag_of_words'] = cbf['bag_of_words'].map(lambda x: x.replace(\"'\", \"\"))\n",
    "cbf.head()"
   ]
  },
  {
   "cell_type": "code",
   "execution_count": 41,
   "id": "6beee99b-ca05-4ceb-bd1e-93cb467843ac",
   "metadata": {},
   "outputs": [],
   "source": [
    "to_drop = ['rev']\n",
    "cbdf = cbf.drop(to_drop, axis=1)"
   ]
  },
  {
   "cell_type": "markdown",
   "id": "33a0da70-52f5-4e30-8620-3a2a82429a18",
   "metadata": {},
   "source": [
    "Instantiate CountVectorizer"
   ]
  },
  {
   "cell_type": "code",
   "execution_count": 43,
   "id": "f471d6a6-bf25-40c9-b400-c8af6f3fcee0",
   "metadata": {},
   "outputs": [
    {
     "data": {
      "text/plain": [
       "0          &Company Resto Bar\n",
       "1               'ONO Poké Bar\n",
       "2                   00 Gelato\n",
       "3    0109 Dessert & Chocolate\n",
       "4      1 Plus 2 Pizza & Wings\n",
       "Name: name, dtype: object"
      ]
     },
     "execution_count": 43,
     "metadata": {},
     "output_type": "execute_result"
    }
   ],
   "source": [
    "count = CountVectorizer()\n",
    "count_matrix = count.fit_transform(cbdf['bag_of_words'])\n",
    "indices = pd.Series(cbf.index)\n",
    "indices[:5]"
   ]
  },
  {
   "cell_type": "code",
   "execution_count": 44,
   "id": "1c40d8d3-e769-45e4-a3c1-127e1f3d5bc6",
   "metadata": {},
   "outputs": [
    {
     "data": {
      "text/plain": [
       "(5489, 354662)"
      ]
     },
     "execution_count": 44,
     "metadata": {},
     "output_type": "execute_result"
    }
   ],
   "source": [
    "count_matrix.shape"
   ]
  },
  {
   "cell_type": "code",
   "execution_count": 45,
   "id": "3ed54cd8-810f-4278-b3da-d99f91cdede9",
   "metadata": {},
   "outputs": [
    {
     "data": {
      "text/plain": [
       "array([[1.        , 0.41667411, 0.42299182, ..., 0.29335032, 0.31254051,\n",
       "        0.47960124],\n",
       "       [0.41667411, 1.        , 0.32829283, ..., 0.18559611, 0.2473865 ,\n",
       "        0.6000993 ],\n",
       "       [0.42299182, 0.32829283, 1.        , ..., 0.23987927, 0.20868153,\n",
       "        0.3527169 ],\n",
       "       ...,\n",
       "       [0.29335032, 0.18559611, 0.23987927, ..., 1.        , 0.12062909,\n",
       "        0.21828735],\n",
       "       [0.31254051, 0.2473865 , 0.20868153, ..., 0.12062909, 1.        ,\n",
       "        0.27613497],\n",
       "       [0.47960124, 0.6000993 , 0.3527169 , ..., 0.21828735, 0.27613497,\n",
       "        1.        ]])"
      ]
     },
     "execution_count": 45,
     "metadata": {},
     "output_type": "execute_result"
    }
   ],
   "source": [
    "cos_sim = cosine_similarity(count_matrix, count_matrix)\n",
    "cos_sim"
   ]
  },
  {
   "cell_type": "code",
   "execution_count": 48,
   "id": "32f0e4f5-75ce-4089-ab66-8b2cce96ff6c",
   "metadata": {},
   "outputs": [
    {
     "data": {
      "text/html": [
       "<div>\n",
       "<style scoped>\n",
       "    .dataframe tbody tr th:only-of-type {\n",
       "        vertical-align: middle;\n",
       "    }\n",
       "\n",
       "    .dataframe tbody tr th {\n",
       "        vertical-align: top;\n",
       "    }\n",
       "\n",
       "    .dataframe thead th {\n",
       "        text-align: right;\n",
       "    }\n",
       "</style>\n",
       "<table border=\"1\" class=\"dataframe\">\n",
       "  <thead>\n",
       "    <tr style=\"text-align: right;\">\n",
       "      <th></th>\n",
       "      <th>bag_of_words</th>\n",
       "    </tr>\n",
       "    <tr>\n",
       "      <th>name</th>\n",
       "      <th></th>\n",
       "    </tr>\n",
       "  </thead>\n",
       "  <tbody>\n",
       "    <tr>\n",
       "      <th>pico de gallo</th>\n",
       "      <td>office delivery order pico de gallo thoroughly...</td>\n",
       "    </tr>\n",
       "    <tr>\n",
       "      <th>süüp health bar</th>\n",
       "      <td>came across hidden gem chance coupon tried unl...</td>\n",
       "    </tr>\n",
       "    <tr>\n",
       "      <th>teashop 168</th>\n",
       "      <td>man wish still sold frozen yougurt yougen fruz...</td>\n",
       "    </tr>\n",
       "    <tr>\n",
       "      <th>yuan yuan Chinese Restaurant</th>\n",
       "      <td>kinda new northern chinese cuisine dining area...</td>\n",
       "    </tr>\n",
       "    <tr>\n",
       "      <th>z-teca Gourmet Burritos</th>\n",
       "      <td>truly wretched tiny portion disgusting food hi...</td>\n",
       "    </tr>\n",
       "  </tbody>\n",
       "</table>\n",
       "</div>"
      ],
      "text/plain": [
       "                                                                   bag_of_words\n",
       "name                                                                           \n",
       "pico de gallo                 office delivery order pico de gallo thoroughly...\n",
       "süüp health bar               came across hidden gem chance coupon tried unl...\n",
       "teashop 168                   man wish still sold frozen yougurt yougen fruz...\n",
       "yuan yuan Chinese Restaurant  kinda new northern chinese cuisine dining area...\n",
       "z-teca Gourmet Burritos       truly wretched tiny portion disgusting food hi..."
      ]
     },
     "execution_count": 48,
     "metadata": {},
     "output_type": "execute_result"
    }
   ],
   "source": [
    "cbdf.tail()"
   ]
  },
  {
   "cell_type": "code",
   "execution_count": 46,
   "id": "65486827-e389-4fde-a30b-a52b80df34de",
   "metadata": {},
   "outputs": [],
   "source": [
    "def content_based_recommendations(name, cos_sim = cos_sim):\n",
    "    \n",
    "    recommended_restaurants = []\n",
    "    \n",
    "    indx = indices[indices == name].index[0]\n",
    "\n",
    "    score_series = pd.Series(cos_sim[indx]).sort_values(ascending = False)\n",
    "\n",
    "    top_20_indexes = list(score_series.iloc[1:21].index)\n",
    "   \n",
    "    for i in top_20_indexes:\n",
    "        recommended_restaurants.append(list(cbdf.index)[i])\n",
    "        \n",
    "    return recommended_restaurants"
   ]
  },
  {
   "cell_type": "code",
   "execution_count": 47,
   "id": "2d69ee62-12b2-4fec-9fdf-926c9adf0497",
   "metadata": {},
   "outputs": [
    {
     "data": {
      "text/plain": [
       "['Touti Gelati and Cafe',\n",
       " 'Hotel Gelato',\n",
       " 'Ti Amo Gelato & Cafe',\n",
       " 'Kekou Gelato House',\n",
       " '0109 Dessert & Chocolate',\n",
       " \"Dunk'n Dip\",\n",
       " \"Lamanna's Bakery\",\n",
       " 'Lazio Italian Bakery',\n",
       " 'Film Cafe by Eative',\n",
       " 'Manic Coffee',\n",
       " 'Nanashake',\n",
       " 'Sicilian Sidewalk Cafe',\n",
       " 'D-Spot Dessert Cafe & Bistro',\n",
       " 'Put A Cone On It',\n",
       " 'Cafe Vite',\n",
       " 'Tre Mari Bakery',\n",
       " 'Church Street Espresso',\n",
       " \"Dunk 'N Dip\",\n",
       " 'Bodira Cafe and Fine Foods',\n",
       " 'Cacao 70 Eatery & Dip Shop']"
      ]
     },
     "execution_count": 47,
     "metadata": {},
     "output_type": "execute_result"
    }
   ],
   "source": [
    "content_based_recommendations('00 Gelato')"
   ]
  },
  {
   "cell_type": "code",
   "execution_count": 54,
   "id": "e54c733c-f184-4836-9929-308d1a1fc6af",
   "metadata": {},
   "outputs": [
    {
     "data": {
      "text/plain": [
       "['Dim Sum King Seafood Restaurant',\n",
       " 'Perfect Chinese Restaurant',\n",
       " 'Rol San',\n",
       " 'Sky Dragon Chinese Restaurant',\n",
       " 'Blue Lagoon Seafood Master',\n",
       " 'Crown Princess Fine Dining',\n",
       " 'Casa Imperial Fine Chinese Cuisine',\n",
       " 'Rosewood Chinese Cuisine',\n",
       " 'Century Palace Chinese Restaurant',\n",
       " 'Kwan',\n",
       " 'Fancy Chinese Cuisine',\n",
       " 'Crown Prince Fine Dining & Banquet',\n",
       " 'Very Fair Chinese Restaurant',\n",
       " 'Very Fair',\n",
       " 'JAM House Seafood Restaurant',\n",
       " 'Summit Garden Chinese',\n",
       " 'Golden Duke Chinese Cuisine',\n",
       " 'Casa Deluz Banquet Hall',\n",
       " 'Bliss Chinese Cuisine',\n",
       " 'Golden Fountain Chinese Restaurant']"
      ]
     },
     "execution_count": 54,
     "metadata": {},
     "output_type": "execute_result"
    }
   ],
   "source": [
    "content_based_recommendations('Emerald Chinese Restaurant')"
   ]
  },
  {
   "cell_type": "code",
   "execution_count": 56,
   "id": "4f1ed7e8-aa5f-4b43-adaf-ae50ef4dbaa1",
   "metadata": {},
   "outputs": [],
   "source": [
    "pickle.dump(cbdf,open('../code/restaurant_list.pkl','wb'))\n",
    "pickle.dump(cos_sim,open('../code/similarity.pkl','wb'))"
   ]
  },
  {
   "cell_type": "code",
   "execution_count": null,
   "id": "b28adff2-8d41-4428-bcaa-a82725a62d60",
   "metadata": {},
   "outputs": [],
   "source": []
  },
  {
   "cell_type": "markdown",
   "id": "4246abb4-3718-46f0-a9dd-567c91546e62",
   "metadata": {},
   "source": [
    "### Location-Based Recommender System"
   ]
  },
  {
   "cell_type": "markdown",
   "id": "4dc890a5-10a1-41e6-a146-6b2fe8886bb2",
   "metadata": {},
   "source": [
    "[*Kmeans clustering*](https://arxiv.org/abs/2109.12839) - Using clustering can address several known issues in recommendation systems, including increasing the diversity, consistency, and reliability of recommendations; the data sparsity of user-preference matrices; and changes in user preferences over time."
   ]
  },
  {
   "cell_type": "code",
   "execution_count": 60,
   "id": "299e5af1-d227-475f-a75b-c5173f6ee93a",
   "metadata": {},
   "outputs": [
    {
     "data": {
      "text/html": [
       "<div>\n",
       "<style scoped>\n",
       "    .dataframe tbody tr th:only-of-type {\n",
       "        vertical-align: middle;\n",
       "    }\n",
       "\n",
       "    .dataframe tbody tr th {\n",
       "        vertical-align: top;\n",
       "    }\n",
       "\n",
       "    .dataframe thead th {\n",
       "        text-align: right;\n",
       "    }\n",
       "</style>\n",
       "<table border=\"1\" class=\"dataframe\">\n",
       "  <thead>\n",
       "    <tr style=\"text-align: right;\">\n",
       "      <th></th>\n",
       "      <th>business_id</th>\n",
       "      <th>name</th>\n",
       "      <th>city</th>\n",
       "      <th>state</th>\n",
       "      <th>latitude</th>\n",
       "      <th>longitude</th>\n",
       "      <th>stars</th>\n",
       "      <th>attributes</th>\n",
       "      <th>categories</th>\n",
       "      <th>user_id</th>\n",
       "      <th>review_stars</th>\n",
       "      <th>text</th>\n",
       "      <th>review_counts</th>\n",
       "      <th>year</th>\n",
       "      <th>text_word_count</th>\n",
       "      <th>pos_neg</th>\n",
       "      <th>text_clean</th>\n",
       "    </tr>\n",
       "  </thead>\n",
       "  <tbody>\n",
       "    <tr>\n",
       "      <th>0</th>\n",
       "      <td>QXAEGFB4oINsVuTFxEYKFQ</td>\n",
       "      <td>Emerald Chinese Restaurant</td>\n",
       "      <td>Mississauga</td>\n",
       "      <td>ON</td>\n",
       "      <td>43.605499</td>\n",
       "      <td>-79.652289</td>\n",
       "      <td>2.5</td>\n",
       "      <td>{'RestaurantsReservations': 'True', 'GoodForMe...</td>\n",
       "      <td>Specialty Food, Restaurants, Dim Sum, Imported...</td>\n",
       "      <td>2K62MJ4CJ19L8Tp5pRfjfQ</td>\n",
       "      <td>3.0</td>\n",
       "      <td>My girlfriend and I went for dinner at Emerald...</td>\n",
       "      <td>134</td>\n",
       "      <td>2017</td>\n",
       "      <td>242</td>\n",
       "      <td>0</td>\n",
       "      <td>girlfriend went dinner emerald chinese thursda...</td>\n",
       "    </tr>\n",
       "    <tr>\n",
       "      <th>1</th>\n",
       "      <td>QXAEGFB4oINsVuTFxEYKFQ</td>\n",
       "      <td>Emerald Chinese Restaurant</td>\n",
       "      <td>Mississauga</td>\n",
       "      <td>ON</td>\n",
       "      <td>43.605499</td>\n",
       "      <td>-79.652289</td>\n",
       "      <td>2.5</td>\n",
       "      <td>{'RestaurantsReservations': 'True', 'GoodForMe...</td>\n",
       "      <td>Specialty Food, Restaurants, Dim Sum, Imported...</td>\n",
       "      <td>SuOLY03LW5ZcnynKhbTydA</td>\n",
       "      <td>3.0</td>\n",
       "      <td>***No automatic doors, not baby friendly!*** I...</td>\n",
       "      <td>134</td>\n",
       "      <td>2016</td>\n",
       "      <td>43</td>\n",
       "      <td>0</td>\n",
       "      <td>automatic door baby friendly frequent chinese ...</td>\n",
       "    </tr>\n",
       "  </tbody>\n",
       "</table>\n",
       "</div>"
      ],
      "text/plain": [
       "              business_id                        name         city state  \\\n",
       "0  QXAEGFB4oINsVuTFxEYKFQ  Emerald Chinese Restaurant  Mississauga    ON   \n",
       "1  QXAEGFB4oINsVuTFxEYKFQ  Emerald Chinese Restaurant  Mississauga    ON   \n",
       "\n",
       "    latitude  longitude  stars  \\\n",
       "0  43.605499 -79.652289    2.5   \n",
       "1  43.605499 -79.652289    2.5   \n",
       "\n",
       "                                          attributes  \\\n",
       "0  {'RestaurantsReservations': 'True', 'GoodForMe...   \n",
       "1  {'RestaurantsReservations': 'True', 'GoodForMe...   \n",
       "\n",
       "                                          categories                 user_id  \\\n",
       "0  Specialty Food, Restaurants, Dim Sum, Imported...  2K62MJ4CJ19L8Tp5pRfjfQ   \n",
       "1  Specialty Food, Restaurants, Dim Sum, Imported...  SuOLY03LW5ZcnynKhbTydA   \n",
       "\n",
       "   review_stars                                               text  \\\n",
       "0           3.0  My girlfriend and I went for dinner at Emerald...   \n",
       "1           3.0  ***No automatic doors, not baby friendly!*** I...   \n",
       "\n",
       "   review_counts  year  text_word_count  pos_neg  \\\n",
       "0            134  2017              242        0   \n",
       "1            134  2016               43        0   \n",
       "\n",
       "                                          text_clean  \n",
       "0  girlfriend went dinner emerald chinese thursda...  \n",
       "1  automatic door baby friendly frequent chinese ...  "
      ]
     },
     "execution_count": 60,
     "metadata": {},
     "output_type": "execute_result"
    }
   ],
   "source": [
    "data.head(2)"
   ]
  },
  {
   "cell_type": "code",
   "execution_count": 61,
   "id": "3cfda1f2-f872-458c-b574-d9f8cad29ce0",
   "metadata": {},
   "outputs": [],
   "source": [
    "# Elbow method to determine the number of K in Kmeans Clustering\n",
    "coords = data[['longitude','latitude']]\n",
    "\n",
    "distortions = []\n",
    "K = range(1,25)\n",
    "for k in K:\n",
    "    kmeansModel = KMeans(n_clusters=k)\n",
    "    kmeansModel = kmeansModel.fit(coords)\n",
    "    distortions.append(kmeansModel.inertia_)"
   ]
  },
  {
   "cell_type": "code",
   "execution_count": 65,
   "id": "219bb9d9-95db-4b23-9349-110b7d0b9097",
   "metadata": {},
   "outputs": [
    {
     "data": {
      "image/png": "[encoded data removed]",
      "text/plain": [
       "<Figure size 720x432 with 1 Axes>"
      ]
     },
     "metadata": {
      "needs_background": "light"
     },
     "output_type": "display_data"
    }
   ],
   "source": [
    "fig, ax = plt.subplots(figsize=(10, 6))\n",
    "plt.plot(K, distortions, marker='o')\n",
    "plt.xlabel('k')\n",
    "plt.ylabel('Distortions')\n",
    "plt.title('Elbow Method For Optimal k')\n",
    "plt.savefig('elbow.png')\n",
    "plt.show()"
   ]
  },
  {
   "cell_type": "code",
   "execution_count": null,
   "id": "d5007467-bbff-4064-9014-fbc3ffc273d5",
   "metadata": {},
   "outputs": [],
   "source": [
    "px.scatter_mapbox(data, lat=\"latitude\", lon=\"longitude\", color=\"cluster\", size='review_counts', \n",
    "                  hover_data= ['name', 'latitude', 'longitude'], zoom=10, width=1200, height=800)"
   ]
  },
  {
   "cell_type": "code",
   "execution_count": null,
   "id": "05cc27e3-51bc-4e22-af19-3e711dd1db21",
   "metadata": {},
   "outputs": [],
   "source": []
  },
  {
   "cell_type": "code",
   "execution_count": 73,
   "id": "2d86c4da-4654-40c2-a42a-41356c51db63",
   "metadata": {},
   "outputs": [
    {
     "data": {
      "text/html": [
       "<div>\n",
       "<style scoped>\n",
       "    .dataframe tbody tr th:only-of-type {\n",
       "        vertical-align: middle;\n",
       "    }\n",
       "\n",
       "    .dataframe tbody tr th {\n",
       "        vertical-align: top;\n",
       "    }\n",
       "\n",
       "    .dataframe thead th {\n",
       "        text-align: right;\n",
       "    }\n",
       "</style>\n",
       "<table border=\"1\" class=\"dataframe\">\n",
       "  <thead>\n",
       "    <tr style=\"text-align: right;\">\n",
       "      <th></th>\n",
       "      <th>business_id</th>\n",
       "      <th>name</th>\n",
       "      <th>city</th>\n",
       "      <th>state</th>\n",
       "      <th>latitude</th>\n",
       "      <th>longitude</th>\n",
       "      <th>stars</th>\n",
       "      <th>attributes</th>\n",
       "      <th>categories</th>\n",
       "      <th>user_id</th>\n",
       "      <th>review_stars</th>\n",
       "      <th>text</th>\n",
       "      <th>review_counts</th>\n",
       "      <th>year</th>\n",
       "      <th>text_word_count</th>\n",
       "      <th>pos_neg</th>\n",
       "      <th>text_clean</th>\n",
       "    </tr>\n",
       "  </thead>\n",
       "  <tbody>\n",
       "    <tr>\n",
       "      <th>195372</th>\n",
       "      <td>r_BrIgzYcwo1NAuG9dLbpg</td>\n",
       "      <td>Pai Northern Thai Kitchen</td>\n",
       "      <td>Toronto</td>\n",
       "      <td>ON</td>\n",
       "      <td>43.647866</td>\n",
       "      <td>-79.388642</td>\n",
       "      <td>4.5</td>\n",
       "      <td>{'Ambience': \"{'romantic': False, 'intimate': ...</td>\n",
       "      <td>Restaurants, Food, Thai, Ethnic Food, Specialt...</td>\n",
       "      <td>w_yPQOQ-_eKRKZU96foIIQ</td>\n",
       "      <td>5.0</td>\n",
       "      <td>My favorite spot for quick lunch and dinner, i...</td>\n",
       "      <td>2177</td>\n",
       "      <td>2018</td>\n",
       "      <td>93</td>\n",
       "      <td>1</td>\n",
       "      <td>favorite spot quick lunch dinner right next of...</td>\n",
       "    </tr>\n",
       "    <tr>\n",
       "      <th>195373</th>\n",
       "      <td>r_BrIgzYcwo1NAuG9dLbpg</td>\n",
       "      <td>Pai Northern Thai Kitchen</td>\n",
       "      <td>Toronto</td>\n",
       "      <td>ON</td>\n",
       "      <td>43.647866</td>\n",
       "      <td>-79.388642</td>\n",
       "      <td>4.5</td>\n",
       "      <td>{'Ambience': \"{'romantic': False, 'intimate': ...</td>\n",
       "      <td>Restaurants, Food, Thai, Ethnic Food, Specialt...</td>\n",
       "      <td>GG4QPrqU7wxL8WVXuzozMg</td>\n",
       "      <td>5.0</td>\n",
       "      <td>This place is delicious with great service and...</td>\n",
       "      <td>2177</td>\n",
       "      <td>2017</td>\n",
       "      <td>67</td>\n",
       "      <td>1</td>\n",
       "      <td>place delicious great service vibe make feel l...</td>\n",
       "    </tr>\n",
       "  </tbody>\n",
       "</table>\n",
       "</div>"
      ],
      "text/plain": [
       "                   business_id                       name     city state  \\\n",
       "195372  r_BrIgzYcwo1NAuG9dLbpg  Pai Northern Thai Kitchen  Toronto    ON   \n",
       "195373  r_BrIgzYcwo1NAuG9dLbpg  Pai Northern Thai Kitchen  Toronto    ON   \n",
       "\n",
       "         latitude  longitude  stars  \\\n",
       "195372  43.647866 -79.388642    4.5   \n",
       "195373  43.647866 -79.388642    4.5   \n",
       "\n",
       "                                               attributes  \\\n",
       "195372  {'Ambience': \"{'romantic': False, 'intimate': ...   \n",
       "195373  {'Ambience': \"{'romantic': False, 'intimate': ...   \n",
       "\n",
       "                                               categories  \\\n",
       "195372  Restaurants, Food, Thai, Ethnic Food, Specialt...   \n",
       "195373  Restaurants, Food, Thai, Ethnic Food, Specialt...   \n",
       "\n",
       "                       user_id  review_stars  \\\n",
       "195372  w_yPQOQ-_eKRKZU96foIIQ           5.0   \n",
       "195373  GG4QPrqU7wxL8WVXuzozMg           5.0   \n",
       "\n",
       "                                                     text  review_counts  \\\n",
       "195372  My favorite spot for quick lunch and dinner, i...           2177   \n",
       "195373  This place is delicious with great service and...           2177   \n",
       "\n",
       "        year  text_word_count  pos_neg  \\\n",
       "195372  2018               93        1   \n",
       "195373  2017               67        1   \n",
       "\n",
       "                                               text_clean  \n",
       "195372  favorite spot quick lunch dinner right next of...  \n",
       "195373  place delicious great service vibe make feel l...  "
      ]
     },
     "execution_count": 73,
     "metadata": {},
     "output_type": "execute_result"
    }
   ],
   "source": [
    "top_restaurants = data.sort_values(by=['review_counts', 'stars'], ascending=False)\n",
    "top_restaurants.head(2)"
   ]
  },
  {
   "cell_type": "code",
   "execution_count": 76,
   "id": "d45796f9-8ad9-4131-83d7-46e5a36c19fd",
   "metadata": {},
   "outputs": [],
   "source": [
    "def recommend_restaurants(data, longitude, latitude):\n",
    "    cluster = kmeans.predict(np.array([longitude,latitude]).reshape(1,-1))[0]\n",
    "    print(cluster)\n",
    "\n",
    "    return  data[data['cluster']==cluster].iloc[0:5][['name', 'latitude','longitude']]"
   ]
  },
  {
   "cell_type": "code",
   "execution_count": null,
   "id": "ff03df20-0c0f-48f4-8ab7-6ec106c40d4a",
   "metadata": {},
   "outputs": [],
   "source": [
    "test_coordinates = {\n",
    "    'user': [1, 2, 3], \n",
    "    'latitude' : [36.1017316, 36.0842838, 36.155011],\n",
    "    'longitude' : [-115.1891691, -115.2798544, -115.082821],\n",
    "}\n",
    "\n",
    "test_df = pd.DataFrame(test_coordinates)\n",
    "test_df"
   ]
  },
  {
   "cell_type": "code",
   "execution_count": null,
   "id": "a1cc7be7-3416-4fe6-b004-48431a202393",
   "metadata": {},
   "outputs": [],
   "source": [
    "user1 = test_df[test_df['user'] == 1]\n",
    "user1"
   ]
  },
  {
   "cell_type": "code",
   "execution_count": null,
   "id": "386a367d-364f-470c-9f75-f076d3eff499",
   "metadata": {},
   "outputs": [],
   "source": [
    "fig = px.scatter_mapbox(recommend_restaurants(top_restaurants_Vancouver, user1.longitude, user1.latitude), lat=\"latitude\", lon=\"longitude\",  \n",
    "                   zoom=10, width=1200, height=800, hover_data= ['name', 'latitude', 'longitude'])\n",
    "fig.add_scattermapbox(lat=user1[\"latitude\"], lon= user1[\"longitude\"]).update_traces(dict(mode='markers', marker = dict(size = 15)))"
   ]
  },
  {
   "cell_type": "code",
   "execution_count": null,
   "id": "7cb1921b-f4ec-4d13-a412-481ee392dbe9",
   "metadata": {},
   "outputs": [],
   "source": [
    "user2 = test_df[test_df['user'] == 2].reset_index()\n",
    "fig = px.scatter_mapbox(recommend_restaurants(top_restaurants_lasVegas, user2.longitude, user2.latitude), lat=\"latitude\", lon=\"longitude\",  \n",
    "                   zoom=10, width=1200, height=800, hover_data= ['name', 'latitude', 'longitude'])\n",
    "fig.add_scattermapbox(lat=user2[\"latitude\"], lon= user2[\"longitude\"]).update_traces(dict(mode='markers', marker = dict(size = 15)))"
   ]
  },
  {
   "cell_type": "code",
   "execution_count": null,
   "id": "5e507cf8-5165-4e9d-8e2b-fc3b62158baa",
   "metadata": {},
   "outputs": [],
   "source": []
  }
 ],
 "metadata": {
  "kernelspec": {
   "display_name": "Python 3 (ipykernel)",
   "language": "python",
   "name": "python3"
  },
  "language_info": {
   "codemirror_mode": {
    "name": "ipython",
    "version": 3
   },
   "file_extension": ".py",
   "mimetype": "text/x-python",
   "name": "python",
   "nbconvert_exporter": "python",
   "pygments_lexer": "ipython3",
   "version": "3.9.7"
  }
 },
 "nbformat": 4,
 "nbformat_minor": 5
}
