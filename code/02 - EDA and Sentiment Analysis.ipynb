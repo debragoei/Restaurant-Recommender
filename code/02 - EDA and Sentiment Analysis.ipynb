{
 "cells": [
  {
   "cell_type": "markdown",
   "id": "1cdb3435-b8a7-401f-a2bd-ffc58f9f8c7d",
   "metadata": {},
   "source": [
    "# EDA and Sentiment Analysis"
   ]
  },
  {
   "cell_type": "markdown",
   "id": "28ecc274-cd53-442e-af9a-069c63f98269",
   "metadata": {},
   "source": [
    "In this notebook we will begin further Exploratory Data Analysis on our cleaned dataset targeted to the top 5 cities in Ontario with the most amount of user reviews. We will also perform sentiment analysis using Natural Languagr Processing, and instantiate some models to evaluate the performance."
   ]
  },
  {
   "cell_type": "markdown",
   "id": "2eeeefa3-3218-4f10-b6c4-60cf1e4d0289",
   "metadata": {},
   "source": [
    "Sources:\n",
    "- \"Python remove character from string\" by Pankaj [*(JournalDev)*](https://www.journaldev.com/23674/python-remove-character-from-string)\n",
    "- [*Pandas*](https://pandas.pydata.org/docs/reference/api/pandas.Series.str.replace.html)\n",
    "- [*GeeksForGeeks*](https://www.geeksforgeeks.org/elbow-method-for-optimal-value-of-k-in-kmeans/)\n",
    "- \"How To Perform Sentiment Analysis in Python 3 Using the Natural Language Toolkit (NLTK)\" by Shaumik Daityari [*(Digital Ocean)*](https://www.digitalocean.com/community/tutorials/how-to-perform-sentiment-analysis-in-python-3-using-the-natural-language-toolkit-nltk)\n",
    "- \"Making Natural Language Processing easy with TextBlob\" by Akash [*(Analytics Vidhya*](https://www.analyticsvidhya.com/blog/2021/10/making-natural-language-processing-easy-with-textblob/)"
   ]
  },
  {
   "cell_type": "code",
   "execution_count": 71,
   "id": "88464c75-7ea9-400b-bc22-1ff6b9106a4e",
   "metadata": {},
   "outputs": [],
   "source": [
    "import numpy as np\n",
    "import pandas as pd\n",
    "import matplotlib.pyplot as plt\n",
    "import seaborn as sns\n",
    "import plotly.express as px\n",
    "import re\n",
    "from collections import Counter\n",
    "import joblib\n",
    "\n",
    "import sklearn.model_selection as model_selection\n",
    "from sklearn.model_selection import train_test_split, GridSearchCV\n",
    "from sklearn.pipeline import Pipeline\n",
    "from sklearn.metrics import confusion_matrix, ConfusionMatrixDisplay, recall_score, precision_score, f1_score, plot_roc_curve, roc_auc_score, accuracy_score\n",
    "from sklearn.metrics import accuracy_score,mean_squared_error,plot_confusion_matrix, silhouette_score\n",
    "from sklearn.feature_extraction.text import CountVectorizer, TfidfVectorizer\n",
    "from sklearn.cluster import KMeans\n",
    "from sklearn.linear_model import LogisticRegression\n",
    "\n",
    "from nltk.tokenize import sent_tokenize, word_tokenize, RegexpTokenizer\n",
    "from nltk.stem import WordNetLemmatizer\n",
    "from nltk.stem.porter import PorterStemmer\n",
    "from nltk.corpus import stopwords\n",
    "from nltk.sentiment.vader import SentimentIntensityAnalyzer\n",
    "\n",
    "from xgboost import XGBClassifier\n",
    "\n",
    "from wordcloud import WordCloud, STOPWORDS\n",
    "\n",
    "from textblob import TextBlob, Word, Blobber\n",
    "from textblob.taggers import NLTKTagger"
   ]
  },
  {
   "cell_type": "code",
   "execution_count": 27,
   "id": "318eb20a-59bf-456c-9dfc-f59e64658c39",
   "metadata": {},
   "outputs": [],
   "source": [
    "data = pd.read_csv('../Data/GTA_updated 2.csv')"
   ]
  },
  {
   "cell_type": "code",
   "execution_count": 7,
   "id": "5056f40a-2cea-426c-8dce-f6eb2b77e0db",
   "metadata": {},
   "outputs": [
    {
     "data": {
      "text/plain": [
       "Index(['business_id', 'name', 'city', 'state', 'latitude', 'longitude',\n",
       "       'stars', 'attributes', 'categories', 'user_id', 'review_stars', 'text',\n",
       "       'review_counts', 'year', 'text_word_count'],\n",
       "      dtype='object')"
      ]
     },
     "execution_count": 7,
     "metadata": {},
     "output_type": "execute_result"
    }
   ],
   "source": [
    "data.columns"
   ]
  },
  {
   "cell_type": "code",
   "execution_count": 5,
   "id": "425107c2-6609-41d3-8740-62fb01fcba8e",
   "metadata": {},
   "outputs": [
    {
     "data": {
      "text/plain": [
       "0    My girlfriend and I went for dinner at Emerald...\n",
       "1    ***No automatic doors, not baby friendly!*** I...\n",
       "2    Horrible service,\\nI went there tonight with m...\n",
       "3    I've been a frequent at this place for years, ...\n",
       "4    We chose this restaurant for our Chinese New Y...\n",
       "Name: text, dtype: object"
      ]
     },
     "execution_count": 5,
     "metadata": {},
     "output_type": "execute_result"
    }
   ],
   "source": [
    "data['text'].head()"
   ]
  },
  {
   "cell_type": "code",
   "execution_count": 6,
   "id": "9a48aa41-fa9d-47d2-9103-2c628fbf675e",
   "metadata": {},
   "outputs": [
    {
     "name": "stdout",
     "output_type": "stream",
     "text": [
      "(328594, 15)\n"
     ]
    },
    {
     "data": {
      "text/html": [
       "<div>\n",
       "<style scoped>\n",
       "    .dataframe tbody tr th:only-of-type {\n",
       "        vertical-align: middle;\n",
       "    }\n",
       "\n",
       "    .dataframe tbody tr th {\n",
       "        vertical-align: top;\n",
       "    }\n",
       "\n",
       "    .dataframe thead th {\n",
       "        text-align: right;\n",
       "    }\n",
       "</style>\n",
       "<table border=\"1\" class=\"dataframe\">\n",
       "  <thead>\n",
       "    <tr style=\"text-align: right;\">\n",
       "      <th></th>\n",
       "      <th>business_id</th>\n",
       "      <th>name</th>\n",
       "      <th>city</th>\n",
       "      <th>state</th>\n",
       "      <th>latitude</th>\n",
       "      <th>longitude</th>\n",
       "      <th>stars</th>\n",
       "      <th>attributes</th>\n",
       "      <th>categories</th>\n",
       "      <th>user_id</th>\n",
       "      <th>review_stars</th>\n",
       "      <th>text</th>\n",
       "      <th>review_counts</th>\n",
       "      <th>year</th>\n",
       "      <th>text_word_count</th>\n",
       "    </tr>\n",
       "  </thead>\n",
       "  <tbody>\n",
       "    <tr>\n",
       "      <th>0</th>\n",
       "      <td>QXAEGFB4oINsVuTFxEYKFQ</td>\n",
       "      <td>Emerald Chinese Restaurant</td>\n",
       "      <td>Mississauga</td>\n",
       "      <td>ON</td>\n",
       "      <td>43.605499</td>\n",
       "      <td>-79.652289</td>\n",
       "      <td>2.5</td>\n",
       "      <td>{'RestaurantsReservations': 'True', 'GoodForMe...</td>\n",
       "      <td>Specialty Food, Restaurants, Dim Sum, Imported...</td>\n",
       "      <td>2K62MJ4CJ19L8Tp5pRfjfQ</td>\n",
       "      <td>3.0</td>\n",
       "      <td>My girlfriend and I went for dinner at Emerald...</td>\n",
       "      <td>134</td>\n",
       "      <td>2017</td>\n",
       "      <td>242</td>\n",
       "    </tr>\n",
       "    <tr>\n",
       "      <th>1</th>\n",
       "      <td>QXAEGFB4oINsVuTFxEYKFQ</td>\n",
       "      <td>Emerald Chinese Restaurant</td>\n",
       "      <td>Mississauga</td>\n",
       "      <td>ON</td>\n",
       "      <td>43.605499</td>\n",
       "      <td>-79.652289</td>\n",
       "      <td>2.5</td>\n",
       "      <td>{'RestaurantsReservations': 'True', 'GoodForMe...</td>\n",
       "      <td>Specialty Food, Restaurants, Dim Sum, Imported...</td>\n",
       "      <td>SuOLY03LW5ZcnynKhbTydA</td>\n",
       "      <td>3.0</td>\n",
       "      <td>***No automatic doors, not baby friendly!*** I...</td>\n",
       "      <td>134</td>\n",
       "      <td>2016</td>\n",
       "      <td>43</td>\n",
       "    </tr>\n",
       "  </tbody>\n",
       "</table>\n",
       "</div>"
      ],
      "text/plain": [
       "              business_id                        name         city state  \\\n",
       "0  QXAEGFB4oINsVuTFxEYKFQ  Emerald Chinese Restaurant  Mississauga    ON   \n",
       "1  QXAEGFB4oINsVuTFxEYKFQ  Emerald Chinese Restaurant  Mississauga    ON   \n",
       "\n",
       "    latitude  longitude  stars  \\\n",
       "0  43.605499 -79.652289    2.5   \n",
       "1  43.605499 -79.652289    2.5   \n",
       "\n",
       "                                          attributes  \\\n",
       "0  {'RestaurantsReservations': 'True', 'GoodForMe...   \n",
       "1  {'RestaurantsReservations': 'True', 'GoodForMe...   \n",
       "\n",
       "                                          categories                 user_id  \\\n",
       "0  Specialty Food, Restaurants, Dim Sum, Imported...  2K62MJ4CJ19L8Tp5pRfjfQ   \n",
       "1  Specialty Food, Restaurants, Dim Sum, Imported...  SuOLY03LW5ZcnynKhbTydA   \n",
       "\n",
       "   review_stars                                               text  \\\n",
       "0           3.0  My girlfriend and I went for dinner at Emerald...   \n",
       "1           3.0  ***No automatic doors, not baby friendly!*** I...   \n",
       "\n",
       "   review_counts  year  text_word_count  \n",
       "0            134  2017              242  \n",
       "1            134  2016               43  "
      ]
     },
     "execution_count": 6,
     "metadata": {},
     "output_type": "execute_result"
    }
   ],
   "source": [
    "print(data.shape)\n",
    "data.head(2)"
   ]
  },
  {
   "cell_type": "markdown",
   "id": "6cc49869-39f2-421b-9dad-eb352a71ba02",
   "metadata": {},
   "source": [
    "We will create a new column to denote positive reviews, which are reviews of 4.0 and 5.0, with a '1' and negative reviews, which are 0 to 3.0 with a '0' as a new feature in our dataset."
   ]
  },
  {
   "cell_type": "code",
   "execution_count": 29,
   "id": "dafea4af-f480-4c84-ac2c-0fb772961a8b",
   "metadata": {},
   "outputs": [
    {
     "data": {
      "text/plain": [
       "1    204088\n",
       "0    124506\n",
       "Name: pos_neg, dtype: int64"
      ]
     },
     "execution_count": 29,
     "metadata": {},
     "output_type": "execute_result"
    }
   ],
   "source": [
    "data['pos_neg']  = np.where(data['review_stars']>3,1,0)\n",
    "data['pos_neg'].value_counts()"
   ]
  },
  {
   "cell_type": "code",
   "execution_count": 22,
   "id": "bff35c64-f0b0-488f-90d5-92a8ba8f109e",
   "metadata": {},
   "outputs": [
    {
     "data": {
      "text/plain": [
       "<Figure size 720x576 with 0 Axes>"
      ]
     },
     "metadata": {},
     "output_type": "display_data"
    },
    {
     "data": {
      "image/png": "[encoded data removed]",
      "text/plain": [
       "<Figure size 360x360 with 1 Axes>"
      ]
     },
     "metadata": {
      "needs_background": "light"
     },
     "output_type": "display_data"
    }
   ],
   "source": [
    "plt.figure(figsize=(10,8))\n",
    "sns.displot(data['text_word_count'], kde=True, bins=50, color='#e28743')\n",
    "plt.title('Text Word Count')\n",
    "plt.savefig('../Images/Text_Word_Count.png')"
   ]
  },
  {
   "cell_type": "code",
   "execution_count": 9,
   "id": "0c2af57d-b614-4d78-b47c-9755bcc6b79c",
   "metadata": {},
   "outputs": [
    {
     "data": {
      "text/plain": [
       "stars\n",
       "1.0    103.649485\n",
       "1.5    104.701192\n",
       "2.0    112.861532\n",
       "2.5    116.998572\n",
       "3.0    119.725041\n",
       "3.5    116.753256\n",
       "4.0    112.533148\n",
       "4.5    106.177263\n",
       "5.0     89.324934\n",
       "Name: text_word_count, dtype: float64"
      ]
     },
     "execution_count": 9,
     "metadata": {},
     "output_type": "execute_result"
    }
   ],
   "source": [
    "data.groupby('stars')['text_word_count'].mean()"
   ]
  },
  {
   "cell_type": "code",
   "execution_count": 10,
   "id": "7d6439de-e458-4c93-9c07-e09daaee614c",
   "metadata": {},
   "outputs": [
    {
     "data": {
      "text/plain": [
       "review_stars\n",
       "1.0    127.300098\n",
       "2.0    134.338063\n",
       "3.0    131.525405\n",
       "4.0    116.493259\n",
       "5.0     91.723041\n",
       "Name: text_word_count, dtype: float64"
      ]
     },
     "execution_count": 10,
     "metadata": {},
     "output_type": "execute_result"
    }
   ],
   "source": [
    "data.groupby('review_stars')['text_word_count'].mean()"
   ]
  },
  {
   "cell_type": "markdown",
   "id": "065aa88a-ba1a-4af9-8e26-d122ce4fb754",
   "metadata": {},
   "source": [
    "As we can see from above, the lower a restaurant is rated, the more the amount of words in a review, which would suggest there might be more to give feedback on, instead of praise."
   ]
  },
  {
   "cell_type": "code",
   "execution_count": 11,
   "id": "e40cd10a-9ecf-4ca1-810f-df4b4998fc58",
   "metadata": {},
   "outputs": [
    {
     "data": {
      "text/plain": [
       "stars\n",
       "1.0      8.917526\n",
       "1.5     23.384968\n",
       "2.0     42.666162\n",
       "2.5     79.736571\n",
       "3.0    140.821076\n",
       "3.5    180.764381\n",
       "4.0    230.920322\n",
       "4.5    355.813253\n",
       "5.0     70.697613\n",
       "Name: review_counts, dtype: float64"
      ]
     },
     "execution_count": 11,
     "metadata": {},
     "output_type": "execute_result"
    }
   ],
   "source": [
    "data.groupby('stars')['review_counts'].mean()"
   ]
  },
  {
   "cell_type": "code",
   "execution_count": 12,
   "id": "1c1a7dcb-ccdd-499e-8a10-f7b04abd875f",
   "metadata": {},
   "outputs": [
    {
     "data": {
      "text/plain": [
       "review_stars\n",
       "1.0    140.680799\n",
       "2.0    171.956781\n",
       "3.0    192.035489\n",
       "4.0    214.573123\n",
       "5.0    223.023317\n",
       "Name: review_counts, dtype: float64"
      ]
     },
     "execution_count": 12,
     "metadata": {},
     "output_type": "execute_result"
    }
   ],
   "source": [
    "data.groupby('review_stars')['review_counts'].mean()"
   ]
  },
  {
   "cell_type": "markdown",
   "id": "9f5212a4-b04a-4d3f-8150-0091a164eb08",
   "metadata": {},
   "source": [
    "However, that being said, the higher rated a restaurant, the more the positive reviews."
   ]
  },
  {
   "cell_type": "code",
   "execution_count": 13,
   "id": "1f244bc5-ea29-4c15-b4e2-3b39bced117f",
   "metadata": {},
   "outputs": [
    {
     "data": {
      "image/png": "[encoded data removed]",
      "text/plain": [
       "<Figure size 720x576 with 1 Axes>"
      ]
     },
     "metadata": {
      "needs_background": "light"
     },
     "output_type": "display_data"
    }
   ],
   "source": [
    "plt.subplots(figsize=(10,8))\n",
    "sns.countplot(x=data['review_stars'])\n",
    "plt.title('GTA Top 5 Neighborhoods User Ratings', fontsize=20)\n",
    "plt.savefig('../Images/GTA_Top5_review_stars.png')\n",
    "plt.show()"
   ]
  },
  {
   "cell_type": "code",
   "execution_count": 14,
   "id": "847925c3-5011-46de-9641-560f24e6b612",
   "metadata": {},
   "outputs": [
    {
     "name": "stdout",
     "output_type": "stream",
     "text": [
      "{'Mean Restaurant Stars': 3.621262104603249}\n"
     ]
    },
    {
     "data": {
      "text/plain": [
       "4.0    112993\n",
       "3.5    106337\n",
       "3.0     52637\n",
       "4.5     33109\n",
       "2.5     16103\n",
       "2.0      4622\n",
       "5.0      1508\n",
       "1.5      1091\n",
       "1.0       194\n",
       "Name: stars, dtype: int64"
      ]
     },
     "execution_count": 14,
     "metadata": {},
     "output_type": "execute_result"
    }
   ],
   "source": [
    "print({\"Mean Restaurant Stars\" : data['stars'].mean()})\n",
    "data['stars'].value_counts()"
   ]
  },
  {
   "cell_type": "code",
   "execution_count": 15,
   "id": "e6f4654b-e8ab-4c60-b0cd-19b50865902f",
   "metadata": {},
   "outputs": [
    {
     "name": "stdout",
     "output_type": "stream",
     "text": [
      "{'Mean Review Stars': 3.6163928738808377}\n"
     ]
    },
    {
     "data": {
      "text/plain": [
       "4.0    104290\n",
       "5.0     99798\n",
       "3.0     57765\n",
       "1.0     34602\n",
       "2.0     32139\n",
       "Name: review_stars, dtype: int64"
      ]
     },
     "execution_count": 15,
     "metadata": {},
     "output_type": "execute_result"
    }
   ],
   "source": [
    "print({\"Mean Review Stars\" : data['review_stars'].mean()})\n",
    "data['review_stars'].value_counts()"
   ]
  },
  {
   "cell_type": "code",
   "execution_count": 23,
   "id": "c087857a-99cd-40ca-91c1-3f0368e24a76",
   "metadata": {},
   "outputs": [
    {
     "data": {
      "image/png": "[encoded data removed]",
      "text/plain": [
       "<Figure size 432x288 with 1 Axes>"
      ]
     },
     "metadata": {
      "needs_background": "light"
     },
     "output_type": "display_data"
    }
   ],
   "source": [
    "y_s = data['stars']\n",
    "y_rs = data['review_stars']\n",
    "colors = ['b','g']\n",
    "\n",
    "fig, ax_stars = plt.subplots()\n",
    "ax_stars.hist([y_s,y_rs],color=colors)\n",
    "ax_stars.set_xlim(0,5)\n",
    "ax_stars.set_xlabel(\"Stars\")\n",
    "ax_stars.set_ylabel(\"Count\")\n",
    "plt.title('Restaurant Stars (Blue) & Review Stars (Green)')\n",
    "plt.tight_layout()\n",
    "plt.savefig('../Images/restaurant_stars_review_stars.png')\n",
    "plt.show()"
   ]
  },
  {
   "cell_type": "markdown",
   "id": "e48582be-0427-4296-a964-0301ac3eaf29",
   "metadata": {},
   "source": [
    "In this next part, we will split up positive and negative reviews as we had determined them, in order to compare the differences between the two. "
   ]
  },
  {
   "cell_type": "code",
   "execution_count": 28,
   "id": "0c648464-a22c-4002-9914-0e284a56e446",
   "metadata": {},
   "outputs": [
    {
     "name": "stdout",
     "output_type": "stream",
     "text": [
      "(124506, 15)\n"
     ]
    },
    {
     "data": {
      "text/html": [
       "<div>\n",
       "<style scoped>\n",
       "    .dataframe tbody tr th:only-of-type {\n",
       "        vertical-align: middle;\n",
       "    }\n",
       "\n",
       "    .dataframe tbody tr th {\n",
       "        vertical-align: top;\n",
       "    }\n",
       "\n",
       "    .dataframe thead th {\n",
       "        text-align: right;\n",
       "    }\n",
       "</style>\n",
       "<table border=\"1\" class=\"dataframe\">\n",
       "  <thead>\n",
       "    <tr style=\"text-align: right;\">\n",
       "      <th></th>\n",
       "      <th>business_id</th>\n",
       "      <th>name</th>\n",
       "      <th>city</th>\n",
       "      <th>state</th>\n",
       "      <th>latitude</th>\n",
       "      <th>longitude</th>\n",
       "      <th>stars</th>\n",
       "      <th>attributes</th>\n",
       "      <th>categories</th>\n",
       "      <th>user_id</th>\n",
       "      <th>review_stars</th>\n",
       "      <th>text</th>\n",
       "      <th>review_counts</th>\n",
       "      <th>year</th>\n",
       "      <th>text_word_count</th>\n",
       "    </tr>\n",
       "  </thead>\n",
       "  <tbody>\n",
       "    <tr>\n",
       "      <th>2</th>\n",
       "      <td>QXAEGFB4oINsVuTFxEYKFQ</td>\n",
       "      <td>Emerald Chinese Restaurant</td>\n",
       "      <td>Mississauga</td>\n",
       "      <td>ON</td>\n",
       "      <td>43.605499</td>\n",
       "      <td>-79.652289</td>\n",
       "      <td>2.5</td>\n",
       "      <td>{'RestaurantsReservations': 'True', 'GoodForMe...</td>\n",
       "      <td>Specialty Food, Restaurants, Dim Sum, Imported...</td>\n",
       "      <td>lymyUak6KNcNKoDbK87MiQ</td>\n",
       "      <td>1.0</td>\n",
       "      <td>Horrible service,\\nI went there tonight with m...</td>\n",
       "      <td>134</td>\n",
       "      <td>2014</td>\n",
       "      <td>220</td>\n",
       "    </tr>\n",
       "    <tr>\n",
       "      <th>5</th>\n",
       "      <td>QXAEGFB4oINsVuTFxEYKFQ</td>\n",
       "      <td>Emerald Chinese Restaurant</td>\n",
       "      <td>Mississauga</td>\n",
       "      <td>ON</td>\n",
       "      <td>43.605499</td>\n",
       "      <td>-79.652289</td>\n",
       "      <td>2.5</td>\n",
       "      <td>{'RestaurantsReservations': 'True', 'GoodForMe...</td>\n",
       "      <td>Specialty Food, Restaurants, Dim Sum, Imported...</td>\n",
       "      <td>agqWketq-FhYwVmRyli4jA</td>\n",
       "      <td>1.0</td>\n",
       "      <td>I went at 230 on a Monday. It was dimsum \\n\\nI...</td>\n",
       "      <td>134</td>\n",
       "      <td>2017</td>\n",
       "      <td>90</td>\n",
       "    </tr>\n",
       "  </tbody>\n",
       "</table>\n",
       "</div>"
      ],
      "text/plain": [
       "              business_id                        name         city state  \\\n",
       "2  QXAEGFB4oINsVuTFxEYKFQ  Emerald Chinese Restaurant  Mississauga    ON   \n",
       "5  QXAEGFB4oINsVuTFxEYKFQ  Emerald Chinese Restaurant  Mississauga    ON   \n",
       "\n",
       "    latitude  longitude  stars  \\\n",
       "2  43.605499 -79.652289    2.5   \n",
       "5  43.605499 -79.652289    2.5   \n",
       "\n",
       "                                          attributes  \\\n",
       "2  {'RestaurantsReservations': 'True', 'GoodForMe...   \n",
       "5  {'RestaurantsReservations': 'True', 'GoodForMe...   \n",
       "\n",
       "                                          categories                 user_id  \\\n",
       "2  Specialty Food, Restaurants, Dim Sum, Imported...  lymyUak6KNcNKoDbK87MiQ   \n",
       "5  Specialty Food, Restaurants, Dim Sum, Imported...  agqWketq-FhYwVmRyli4jA   \n",
       "\n",
       "   review_stars                                               text  \\\n",
       "2           1.0  Horrible service,\\nI went there tonight with m...   \n",
       "5           1.0  I went at 230 on a Monday. It was dimsum \\n\\nI...   \n",
       "\n",
       "   review_counts  year  text_word_count  \n",
       "2            134  2014              220  \n",
       "5            134  2017               90  "
      ]
     },
     "execution_count": 28,
     "metadata": {},
     "output_type": "execute_result"
    }
   ],
   "source": [
    "onestar = data[data['review_stars'] == 1.0]\n",
    "twostar = data[data['review_stars'] == 2.0]\n",
    "threestar = data[data['review_stars'] == 3.0]\n",
    "negative_reviews = [onestar, twostar, threestar]\n",
    "negative_reviews = pd.concat(negative_reviews)\n",
    "print(negative_reviews.shape)\n",
    "negative_reviews.head(2)"
   ]
  },
  {
   "cell_type": "code",
   "execution_count": 9,
   "id": "b1d91631-9486-4daf-bcd1-8325b805a529",
   "metadata": {},
   "outputs": [],
   "source": [
    "# Instantiate count vectorizer\n",
    "cvec = CountVectorizer(stop_words='english')"
   ]
  },
  {
   "cell_type": "code",
   "execution_count": 10,
   "id": "7309fde4-c1a5-44fa-8d6c-6ab7a7a5d27c",
   "metadata": {},
   "outputs": [],
   "source": [
    "X = negative_reviews['text']\n",
    "y = negative_reviews['review_stars']\n",
    "\n",
    "X_train, X_test, y_train, y_test = train_test_split(X,\n",
    "                                                    y,\n",
    "                                                    test_size=0.33,\n",
    "                                                    stratify=y,\n",
    "                                                    random_state=42)\n",
    "\n",
    "# Fit & transform the vectorizer \n",
    "cvec_fit = cvec.fit_transform(X_train)\n",
    "\n",
    "# Transform\n",
    "Xcvec_test = cvec.transform(X_test)"
   ]
  },
  {
   "cell_type": "code",
   "execution_count": 11,
   "id": "dfb89d0a-1bb3-4d16-8b20-c6eb36ce3877",
   "metadata": {},
   "outputs": [],
   "source": [
    "XCV = pd.DataFrame(cvec_fit.toarray(), \n",
    "                          columns=cvec.get_feature_names())"
   ]
  },
  {
   "cell_type": "code",
   "execution_count": 24,
   "id": "70695aab-83c7-4239-af17-c8981a87ec4e",
   "metadata": {},
   "outputs": [
    {
     "data": {
      "image/png": "[encoded data removed]",
      "text/plain": [
       "<Figure size 720x432 with 1 Axes>"
      ]
     },
     "metadata": {
      "needs_background": "light"
     },
     "output_type": "display_data"
    }
   ],
   "source": [
    "# plot top occuring negative words\n",
    "plt.figure(figsize=(10, 6))\n",
    "plt.xlabel('words')\n",
    "plt.ylabel('counts')\n",
    "plt.subplot(title='Top 10 most common words for negative reviews')\n",
    "plt.savefig('../Images/Top10words_neg.png')\n",
    "XCV.sum().sort_values(ascending = False).head(10).plot(kind = 'barh');"
   ]
  },
  {
   "cell_type": "code",
   "execution_count": null,
   "id": "8ec34c6c-5d4c-4bfc-924e-72ae89e14ef3",
   "metadata": {},
   "outputs": [],
   "source": [
    "# due to the file size and density, this code had to be coded out in order to reduce memory use which was affecting the whole notebook\n",
    "# kindly refer to the image in the presentation slides\n",
    "# px.set_mapbox_access_token(\"pk.eyJ1IjoiZGVicmFnb2VpIiwiYSI6ImNsMzhoMWoxdTAweW0zY3Q5ZDdwdnBnZXoifQ.1IE1CXqdKEeUmNA-qTPmGQ\")\n",
    "# px.scatter_mapbox(data, lat=\"latitude\", lon=\"longitude\", color=\"stars\", size='review_counts' ,\n",
    "                   size_max=30, zoom=3, width=600, height=400)"
   ]
  },
  {
   "cell_type": "markdown",
   "id": "635a142d-cb60-46ee-aede-15c2cb75bcc8",
   "metadata": {},
   "source": [
    "## Modeling"
   ]
  },
  {
   "cell_type": "markdown",
   "id": "df797299-324b-4635-85f3-3706df0cba70",
   "metadata": {},
   "source": [
    "First we will take a look at our baseline results and then use Vader in the next section."
   ]
  },
  {
   "cell_type": "markdown",
   "id": "0f06afeb-bd0c-4d4f-b642-4e4a0bb776c2",
   "metadata": {},
   "source": [
    "### Logistic Regression"
   ]
  },
  {
   "cell_type": "code",
   "execution_count": 14,
   "id": "c6008d45-0ac3-404f-9831-2e00244706ae",
   "metadata": {},
   "outputs": [
    {
     "name": "stdout",
     "output_type": "stream",
     "text": [
      "(230015,)\n",
      "(98579,)\n",
      "(230015,)\n",
      "(98579,)\n"
     ]
    }
   ],
   "source": [
    "Xp_train, Xp_test, yp_train, yp_test = model_selection.train_test_split(data['text'], data['pos_neg'],test_size=0.3, random_state=42)\n",
    "print(Xp_train.shape)\n",
    "print(Xp_test.shape)\n",
    "print(yp_train.shape)\n",
    "print(yp_test.shape)"
   ]
  },
  {
   "cell_type": "code",
   "execution_count": 15,
   "id": "ad289181-d2bb-43fe-a1a8-44767e2c004b",
   "metadata": {},
   "outputs": [
    {
     "data": {
      "text/plain": [
       "(230015, 6532)"
      ]
     },
     "execution_count": 15,
     "metadata": {},
     "output_type": "execute_result"
    }
   ],
   "source": [
    "cvecp = CountVectorizer(min_df=100, ngram_range=(1, 1),stop_words='english')\n",
    "Xpp_train = cvecp.fit(Xp_train).transform(Xp_train) \n",
    "Xpp_test = cvecp.transform(Xp_test)\n",
    "Xpp_train.shape"
   ]
  },
  {
   "cell_type": "code",
   "execution_count": 16,
   "id": "731e9842-8a17-484b-9438-1f1203514d7d",
   "metadata": {},
   "outputs": [
    {
     "name": "stdout",
     "output_type": "stream",
     "text": [
      "Logistic Regression train set: 0.8809686324804904\n",
      "Logistic Regression test set: 0.8666044492234655\n",
      "Logistic Regression MSE:  0.13339555077653456\n"
     ]
    }
   ],
   "source": [
    "logreg = LogisticRegression(max_iter=500,solver='liblinear').fit(Xpp_train,yp_train)\n",
    "   \n",
    "print(f\"Logistic Regression train set: {logreg.score(Xpp_train, yp_train)}\")\n",
    "print(f\"Logistic Regression test set: {logreg.score(Xpp_test, yp_test)}\")\n",
    "print (\"Logistic Regression MSE: \", mean_squared_error(yp_test, logreg.predict(Xpp_test)))"
   ]
  },
  {
   "cell_type": "code",
   "execution_count": 17,
   "id": "26583779-6aa9-4dfc-8ab5-ad920c00df5e",
   "metadata": {},
   "outputs": [
    {
     "data": {
      "image/png": "[encoded data removed]",
      "text/plain": [
       "<Figure size 432x288 with 2 Axes>"
      ]
     },
     "metadata": {
      "needs_background": "light"
     },
     "output_type": "display_data"
    }
   ],
   "source": [
    "cm = plot_confusion_matrix(logreg, Xpp_test, yp_test,\n",
    "                                 display_labels=['Class 0', 'Class 1'],\n",
    "                                 cmap=plt.cm.Blues,\n",
    "                                 normalize='true')\n",
    "cm.ax_.set_title('Logistic Regression Confusion Matrix');"
   ]
  },
  {
   "cell_type": "markdown",
   "id": "16f4e527-c87d-45d8-8c3b-1d83a0f50931",
   "metadata": {},
   "source": [
    "The next model we will use to evaluate our training and test sets is XGBoost."
   ]
  },
  {
   "cell_type": "markdown",
   "id": "8c14032f-0de8-486a-a044-160bd028b7c8",
   "metadata": {},
   "source": [
    "### XGBoost"
   ]
  },
  {
   "cell_type": "code",
   "execution_count": 19,
   "id": "8cbc2e73-b45d-4a36-b595-133c959968e2",
   "metadata": {},
   "outputs": [
    {
     "name": "stdout",
     "output_type": "stream",
     "text": [
      "XGBoost train set: 0.8667043453687803\n",
      "XGBoost test set: 0.851286785217947\n",
      "XGBoost MSE:  0.14871321478205296\n"
     ]
    }
   ],
   "source": [
    "XGB_model = XGBClassifier(random_state=1)\n",
    "XGB_model.fit(Xpp_train, yp_train)\n",
    "\n",
    "print(f\"XGBoost train set: {XGB_model.score(Xpp_train, yp_train)}\")\n",
    "print(f\"XGBoost test set: {XGB_model.score(Xpp_test, yp_test)}\")\n",
    "print (\"XGBoost MSE: \", mean_squared_error(yp_test, XGB_model.predict(Xpp_test)))"
   ]
  },
  {
   "cell_type": "code",
   "execution_count": 20,
   "id": "e1c98fc4-ad7b-4f1e-b965-4be21b27451a",
   "metadata": {},
   "outputs": [
    {
     "data": {
      "image/png": "[encoded data removed]",
      "text/plain": [
       "<Figure size 432x288 with 2 Axes>"
      ]
     },
     "metadata": {
      "needs_background": "light"
     },
     "output_type": "display_data"
    }
   ],
   "source": [
    "cm = plot_confusion_matrix(XGB_model ,Xpp_test, yp_test,\n",
    "                                 display_labels=['Class 0', 'Class 1'],\n",
    "                                 cmap=plt.cm.Blues,\n",
    "                                 normalize='true')\n",
    "cm.ax_.set_title('XGBoost Confusion Matrix');"
   ]
  },
  {
   "cell_type": "markdown",
   "id": "84d40a2c-9e33-4cf0-9715-34e0fc69c0d3",
   "metadata": {},
   "source": [
    "Logistic regression performed slightly better than XGBoost for our baseline model. Next we will tokenize our text and save it for our recommender system as both train and test scores are functioning well."
   ]
  },
  {
   "cell_type": "code",
   "execution_count": 65,
   "id": "d75590fa-6fb8-48d8-9873-27383bff0d66",
   "metadata": {},
   "outputs": [],
   "source": [
    "data['text_clean'] = data['text'].apply(lambda x: \" \".join(x.lower() for x in x.split()))\n",
    "data['text_clean'] = data['text_clean'].str.replace('[^\\w\\s-]', '', regex=True)\n",
    "stopwords = set(stopwords.words('english'))\n",
    "data['text_clean'] = data['text_clean'].apply(lambda x: \" \".join(x for x in x.split() if x not in stopwords))\n",
    "data['text_clean'] = data['text_clean'].apply(lambda x: \" \".join([Word(word).lemmatize() for word in x.split()]))"
   ]
  },
  {
   "cell_type": "code",
   "execution_count": 32,
   "id": "468727eb-ccb6-4326-81fb-6d2d1866c483",
   "metadata": {},
   "outputs": [],
   "source": [
    "data.to_csv('../Data/GTA_sentimentt.csv', index = False)"
   ]
  },
  {
   "cell_type": "markdown",
   "id": "cb5df3f8-8345-4ca2-94c2-eb365aec8729",
   "metadata": {},
   "source": [
    "### Vader Sentiment Analysis"
   ]
  },
  {
   "cell_type": "markdown",
   "id": "c247e805-7ee5-47cc-8722-732d51ecbba1",
   "metadata": {},
   "source": [
    "The advantages of using VADER on our project are because it works very well on social media type text whilst readily generalizing to multiple domains and it does not severely suffer from a speed-performance tradeoff (- Source: GA DSIR 222)."
   ]
  },
  {
   "cell_type": "code",
   "execution_count": 79,
   "id": "57f9cf52-c0d1-44e9-a853-5855adf74810",
   "metadata": {},
   "outputs": [],
   "source": [
    "data = pd.read_csv('../Data/GTA_sentimentt.csv')"
   ]
  },
  {
   "cell_type": "code",
   "execution_count": 80,
   "id": "ed658aac-41dd-4e3e-8a80-997f03154764",
   "metadata": {},
   "outputs": [],
   "source": [
    "data['text_clean'] = data['text_clean'].astype('object')"
   ]
  },
  {
   "cell_type": "code",
   "execution_count": 81,
   "id": "127ed9ed-2bfb-432b-a77d-430cc9bc82cf",
   "metadata": {},
   "outputs": [],
   "source": [
    "data['text_clean'] = data['text_clean'].str.replace('\\d+','', regex=True)"
   ]
  },
  {
   "cell_type": "code",
   "execution_count": 82,
   "id": "05f04339-d1fd-465b-95dc-224f81358077",
   "metadata": {},
   "outputs": [],
   "source": [
    "to_drop = ['latitude', 'longitude', 'stars', 'review_stars']\n",
    "df = data.drop(to_drop, axis=1)"
   ]
  },
  {
   "cell_type": "code",
   "execution_count": 50,
   "id": "70353f0b-fe5d-4146-9901-6f6494378b6f",
   "metadata": {},
   "outputs": [
    {
     "data": {
      "text/plain": [
       "'girlfriend went dinner emerald chinese thursday night workout arrived around 730pm seated short wait browsing menu brief discussion waiter ordered seafood noodle 3 item mix meat plate bbq pork chicken duck food came soon thereafter hot delicious large portion lot seafood seafood noodle mix meat plate came good cut meat correct sauce meal received fortune cooky dessert food food good quality ingredient tasted fresh dish tasted well made food average nothing stood even though quite hungry price price high comparative chinese cuisine comparable large western restaurant chain service service average slightly average common malaise chinese restaurant poor service waiterwaitresses overworked impatient unattentive emerald chinese exception waiting staff restaurant appear rushed impatient service need met staff rushed grumpy decor emerald tasteful decoration comfortable chair nice tablecloth sufficient room navigate table overall good meal large portion received average service paid slightly hoped meal 31 50'"
      ]
     },
     "execution_count": 50,
     "metadata": {},
     "output_type": "execute_result"
    }
   ],
   "source": [
    "corpus = (data['text_clean'])\n",
    "corpus[0]"
   ]
  },
  {
   "cell_type": "code",
   "execution_count": 56,
   "id": "6667eb40-c02a-4d1d-9b11-ad0adc192834",
   "metadata": {},
   "outputs": [
    {
     "data": {
      "text/plain": [
       "{'neg': 0.059, 'neu': 0.788, 'pos': 0.154, 'compound': 0.9393}"
      ]
     },
     "execution_count": 56,
     "metadata": {},
     "output_type": "execute_result"
    }
   ],
   "source": [
    "#instantiate SIA\n",
    "sia = SentimentIntensityAnalyzer()\n",
    "#Get polarity scores\n",
    "sia.polarity_scores(corpus[0])"
   ]
  },
  {
   "cell_type": "code",
   "execution_count": 15,
   "id": "97870da4-ea13-4967-bb22-d296c50714f9",
   "metadata": {},
   "outputs": [
    {
     "data": {
      "text/html": [
       "<div>\n",
       "<style scoped>\n",
       "    .dataframe tbody tr th:only-of-type {\n",
       "        vertical-align: middle;\n",
       "    }\n",
       "\n",
       "    .dataframe tbody tr th {\n",
       "        vertical-align: top;\n",
       "    }\n",
       "\n",
       "    .dataframe thead th {\n",
       "        text-align: right;\n",
       "    }\n",
       "</style>\n",
       "<table border=\"1\" class=\"dataframe\">\n",
       "  <thead>\n",
       "    <tr style=\"text-align: right;\">\n",
       "      <th></th>\n",
       "      <th>neg</th>\n",
       "      <th>neu</th>\n",
       "      <th>pos</th>\n",
       "      <th>compound</th>\n",
       "      <th>text_clean</th>\n",
       "    </tr>\n",
       "  </thead>\n",
       "  <tbody>\n",
       "    <tr>\n",
       "      <th>109061</th>\n",
       "      <td>0.0</td>\n",
       "      <td>0.276</td>\n",
       "      <td>0.724</td>\n",
       "      <td>0.9833</td>\n",
       "      <td>love it super kid friendly great margarita ama...</td>\n",
       "    </tr>\n",
       "    <tr>\n",
       "      <th>38484</th>\n",
       "      <td>0.0</td>\n",
       "      <td>0.285</td>\n",
       "      <td>0.715</td>\n",
       "      <td>0.9753</td>\n",
       "      <td>a fantastic dinner and wonderful host thank yo...</td>\n",
       "    </tr>\n",
       "    <tr>\n",
       "      <th>272708</th>\n",
       "      <td>0.0</td>\n",
       "      <td>0.291</td>\n",
       "      <td>0.709</td>\n",
       "      <td>0.9805</td>\n",
       "      <td>delicious healthy good price definitely would ...</td>\n",
       "    </tr>\n",
       "    <tr>\n",
       "      <th>269794</th>\n",
       "      <td>0.0</td>\n",
       "      <td>0.328</td>\n",
       "      <td>0.672</td>\n",
       "      <td>0.9371</td>\n",
       "      <td>huge good cheap pizzagoodforkids true restaura...</td>\n",
       "    </tr>\n",
       "    <tr>\n",
       "      <th>200210</th>\n",
       "      <td>0.0</td>\n",
       "      <td>0.358</td>\n",
       "      <td>0.642</td>\n",
       "      <td>0.9113</td>\n",
       "      <td>fantastic delecious food very clean thanks for...</td>\n",
       "    </tr>\n",
       "  </tbody>\n",
       "</table>\n",
       "</div>"
      ],
      "text/plain": [
       "        neg    neu    pos  compound  \\\n",
       "109061  0.0  0.276  0.724    0.9833   \n",
       "38484   0.0  0.285  0.715    0.9753   \n",
       "272708  0.0  0.291  0.709    0.9805   \n",
       "269794  0.0  0.328  0.672    0.9371   \n",
       "200210  0.0  0.358  0.642    0.9113   \n",
       "\n",
       "                                               text_clean  \n",
       "109061  love it super kid friendly great margarita ama...  \n",
       "38484   a fantastic dinner and wonderful host thank yo...  \n",
       "272708  delicious healthy good price definitely would ...  \n",
       "269794  huge good cheap pizzagoodforkids true restaura...  \n",
       "200210  fantastic delecious food very clean thanks for...  "
      ]
     },
     "execution_count": 15,
     "metadata": {},
     "output_type": "execute_result"
    }
   ],
   "source": [
    "dfs.sort_values(by = 'pos', ascending = False).head()"
   ]
  },
  {
   "cell_type": "code",
   "execution_count": 16,
   "id": "5649bcc5-a93b-4e17-9206-afeb0b333bf9",
   "metadata": {
    "tags": []
   },
   "outputs": [
    {
     "data": {
      "text/html": [
       "<div>\n",
       "<style scoped>\n",
       "    .dataframe tbody tr th:only-of-type {\n",
       "        vertical-align: middle;\n",
       "    }\n",
       "\n",
       "    .dataframe tbody tr th {\n",
       "        vertical-align: top;\n",
       "    }\n",
       "\n",
       "    .dataframe thead th {\n",
       "        text-align: right;\n",
       "    }\n",
       "</style>\n",
       "<table border=\"1\" class=\"dataframe\">\n",
       "  <thead>\n",
       "    <tr style=\"text-align: right;\">\n",
       "      <th></th>\n",
       "      <th>neg</th>\n",
       "      <th>neu</th>\n",
       "      <th>pos</th>\n",
       "      <th>compound</th>\n",
       "      <th>text_clean</th>\n",
       "    </tr>\n",
       "  </thead>\n",
       "  <tbody>\n",
       "    <tr>\n",
       "      <th>309792</th>\n",
       "      <td>0.415</td>\n",
       "      <td>0.585</td>\n",
       "      <td>0.000</td>\n",
       "      <td>-0.8542</td>\n",
       "      <td>just stopped by for a bottle of water and ice ...</td>\n",
       "    </tr>\n",
       "    <tr>\n",
       "      <th>312360</th>\n",
       "      <td>0.390</td>\n",
       "      <td>0.610</td>\n",
       "      <td>0.000</td>\n",
       "      <td>-0.9276</td>\n",
       "      <td>this pizza wa burnt with no sauce the garlic b...</td>\n",
       "    </tr>\n",
       "    <tr>\n",
       "      <th>232151</th>\n",
       "      <td>0.382</td>\n",
       "      <td>0.487</td>\n",
       "      <td>0.130</td>\n",
       "      <td>-0.9476</td>\n",
       "      <td>most abusive disrespectful treatment of senior...</td>\n",
       "    </tr>\n",
       "    <tr>\n",
       "      <th>212118</th>\n",
       "      <td>0.380</td>\n",
       "      <td>0.540</td>\n",
       "      <td>0.080</td>\n",
       "      <td>-0.9923</td>\n",
       "      <td>horrible food they have cut somethings from th...</td>\n",
       "    </tr>\n",
       "    <tr>\n",
       "      <th>246181</th>\n",
       "      <td>0.367</td>\n",
       "      <td>0.492</td>\n",
       "      <td>0.142</td>\n",
       "      <td>-0.9822</td>\n",
       "      <td>although i love italian food but i think the f...</td>\n",
       "    </tr>\n",
       "  </tbody>\n",
       "</table>\n",
       "</div>"
      ],
      "text/plain": [
       "          neg    neu    pos  compound  \\\n",
       "309792  0.415  0.585  0.000   -0.8542   \n",
       "312360  0.390  0.610  0.000   -0.9276   \n",
       "232151  0.382  0.487  0.130   -0.9476   \n",
       "212118  0.380  0.540  0.080   -0.9923   \n",
       "246181  0.367  0.492  0.142   -0.9822   \n",
       "\n",
       "                                               text_clean  \n",
       "309792  just stopped by for a bottle of water and ice ...  \n",
       "312360  this pizza wa burnt with no sauce the garlic b...  \n",
       "232151  most abusive disrespectful treatment of senior...  \n",
       "212118  horrible food they have cut somethings from th...  \n",
       "246181  although i love italian food but i think the f...  "
      ]
     },
     "execution_count": 16,
     "metadata": {},
     "output_type": "execute_result"
    }
   ],
   "source": [
    "dfs.sort_values(by = 'neg', ascending = False).head()"
   ]
  }
 ],
 "metadata": {
  "kernelspec": {
   "display_name": "Python 3 (ipykernel)",
   "language": "python",
   "name": "python3"
  },
  "language_info": {
   "codemirror_mode": {
    "name": "ipython",
    "version": 3
   },
   "file_extension": ".py",
   "mimetype": "text/x-python",
   "name": "python",
   "nbconvert_exporter": "python",
   "pygments_lexer": "ipython3",
   "version": "3.9.7"
  }
 },
 "nbformat": 4,
 "nbformat_minor": 5
}
