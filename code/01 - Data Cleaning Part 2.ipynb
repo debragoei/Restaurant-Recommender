{
 "cells": [
  {
   "cell_type": "code",
   "execution_count": 3,
   "id": "2f9a7442-afd7-4e90-b0df-49db47072c5b",
   "metadata": {},
   "outputs": [],
   "source": [
    "import pandas as pd\n",
    "import seaborn as sns\n",
    "import matplotlib as plt\n",
    "import matplotlib.pyplot as pltp"
   ]
  },
  {
   "cell_type": "code",
   "execution_count": 2,
   "id": "37eee25a-d7c5-487f-bcaa-259261c24159",
   "metadata": {},
   "outputs": [],
   "source": [
    "# import cleaned datasets\n",
    "\n",
    "data = pd.read_csv(\"../Data/yelp_restaurant_reviews.csv\")"
   ]
  },
  {
   "cell_type": "code",
   "execution_count": 3,
   "id": "14ebc469-dc57-46c1-bae6-5be3a39367cb",
   "metadata": {},
   "outputs": [
    {
     "data": {
      "text/plain": [
       "Index(['business_id', 'name', 'address', 'city', 'state', 'postal_code',\n",
       "       'latitude', 'longitude', 'stars', 'attributes', 'categories', 'user_id',\n",
       "       'review_stars', 'text', 'date'],\n",
       "      dtype='object')"
      ]
     },
     "execution_count": 3,
     "metadata": {},
     "output_type": "execute_result"
    }
   ],
   "source": [
    "data.columns"
   ]
  },
  {
   "cell_type": "code",
   "execution_count": 4,
   "id": "b08c30a3-fc7c-499f-9c25-db80d4b256d8",
   "metadata": {},
   "outputs": [],
   "source": [
    "# drop columns not needed\n",
    "to_drop = ['address', 'postal_code']\n",
    "df = data.drop(to_drop, axis=1)"
   ]
  },
  {
   "cell_type": "code",
   "execution_count": 5,
   "id": "68fb7071-2e5b-4592-919b-7d8771babc5d",
   "metadata": {},
   "outputs": [
    {
     "data": {
      "text/plain": [
       "(3566966, 13)"
      ]
     },
     "execution_count": 5,
     "metadata": {},
     "output_type": "execute_result"
    }
   ],
   "source": [
    "df.shape"
   ]
  },
  {
   "cell_type": "code",
   "execution_count": 6,
   "id": "8620914d-3b8b-4772-aebf-bbb30bbb8559",
   "metadata": {},
   "outputs": [],
   "source": [
    "df.dropna(inplace=True)"
   ]
  },
  {
   "cell_type": "code",
   "execution_count": 7,
   "id": "a650e78d-387c-4d89-8371-743b2c409fd4",
   "metadata": {},
   "outputs": [
    {
     "data": {
      "text/plain": [
       "(3551890, 13)"
      ]
     },
     "execution_count": 7,
     "metadata": {},
     "output_type": "execute_result"
    }
   ],
   "source": [
    "df.shape"
   ]
  },
  {
   "cell_type": "code",
   "execution_count": 8,
   "id": "884da5e8-3626-47b9-92ab-314684906e54",
   "metadata": {},
   "outputs": [
    {
     "data": {
      "text/plain": [
       "NV     1172468\n",
       "AZ     1010516\n",
       "ON      471356\n",
       "NC      235474\n",
       "OH      197762\n",
       "PA      175843\n",
       "QC      120073\n",
       "WI       78930\n",
       "AB       53737\n",
       "IL       23564\n",
       "SC       12021\n",
       "NY          91\n",
       "NM          14\n",
       "NE           8\n",
       "XWY          8\n",
       "AR           7\n",
       "VT           5\n",
       "CA           4\n",
       "WA           3\n",
       "CON          3\n",
       "BC           3\n",
       "Name: state, dtype: int64"
      ]
     },
     "execution_count": 8,
     "metadata": {},
     "output_type": "execute_result"
    }
   ],
   "source": [
    "df['state'].value_counts()"
   ]
  },
  {
   "cell_type": "code",
   "execution_count": 9,
   "id": "7e7d1842-993e-492f-8336-df6186afe4e5",
   "metadata": {},
   "outputs": [],
   "source": [
    "df_ON = df[df['state'].str.contains('ON')]"
   ]
  },
  {
   "cell_type": "code",
   "execution_count": 47,
   "id": "4fa3e5a7-b4f3-4b27-aece-7affad89ce7f",
   "metadata": {},
   "outputs": [],
   "source": [
    "csv_ON = \"../Data/ON_reviews.csv\"\n",
    "df_ON.to_csv(csv_ON, index=False)"
   ]
  },
  {
   "cell_type": "code",
   "execution_count": 5,
   "id": "030b137e-45c9-46c6-bcf1-ffe829b68304",
   "metadata": {},
   "outputs": [],
   "source": [
    "df_ON = pd.read_csv(\"../Data/ON_reviews.csv\")"
   ]
  },
  {
   "cell_type": "code",
   "execution_count": 49,
   "id": "c35531c6-1184-4c18-8178-61e21362b444",
   "metadata": {},
   "outputs": [
    {
     "name": "stdout",
     "output_type": "stream",
     "text": [
      "(471359, 13)\n"
     ]
    },
    {
     "data": {
      "text/html": [
       "<div>\n",
       "<style scoped>\n",
       "    .dataframe tbody tr th:only-of-type {\n",
       "        vertical-align: middle;\n",
       "    }\n",
       "\n",
       "    .dataframe tbody tr th {\n",
       "        vertical-align: top;\n",
       "    }\n",
       "\n",
       "    .dataframe thead th {\n",
       "        text-align: right;\n",
       "    }\n",
       "</style>\n",
       "<table border=\"1\" class=\"dataframe\">\n",
       "  <thead>\n",
       "    <tr style=\"text-align: right;\">\n",
       "      <th></th>\n",
       "      <th>business_id</th>\n",
       "      <th>name</th>\n",
       "      <th>city</th>\n",
       "      <th>state</th>\n",
       "      <th>latitude</th>\n",
       "      <th>longitude</th>\n",
       "      <th>stars</th>\n",
       "      <th>attributes</th>\n",
       "      <th>categories</th>\n",
       "      <th>user_id</th>\n",
       "      <th>review_stars</th>\n",
       "      <th>text</th>\n",
       "      <th>date</th>\n",
       "    </tr>\n",
       "  </thead>\n",
       "  <tbody>\n",
       "    <tr>\n",
       "      <th>0</th>\n",
       "      <td>QXAEGFB4oINsVuTFxEYKFQ</td>\n",
       "      <td>Emerald Chinese Restaurant</td>\n",
       "      <td>Mississauga</td>\n",
       "      <td>ON</td>\n",
       "      <td>43.605499</td>\n",
       "      <td>-79.652289</td>\n",
       "      <td>2.5</td>\n",
       "      <td>{'RestaurantsReservations': 'True', 'GoodForMe...</td>\n",
       "      <td>Specialty Food, Restaurants, Dim Sum, Imported...</td>\n",
       "      <td>2K62MJ4CJ19L8Tp5pRfjfQ</td>\n",
       "      <td>3.0</td>\n",
       "      <td>My girlfriend and I went for dinner at Emerald...</td>\n",
       "      <td>2017-01-27 21:54:30</td>\n",
       "    </tr>\n",
       "    <tr>\n",
       "      <th>1</th>\n",
       "      <td>QXAEGFB4oINsVuTFxEYKFQ</td>\n",
       "      <td>Emerald Chinese Restaurant</td>\n",
       "      <td>Mississauga</td>\n",
       "      <td>ON</td>\n",
       "      <td>43.605499</td>\n",
       "      <td>-79.652289</td>\n",
       "      <td>2.5</td>\n",
       "      <td>{'RestaurantsReservations': 'True', 'GoodForMe...</td>\n",
       "      <td>Specialty Food, Restaurants, Dim Sum, Imported...</td>\n",
       "      <td>A0kENtCCoVT3m7T35zb2Vg</td>\n",
       "      <td>3.0</td>\n",
       "      <td>We've always been there on a Sunday so we were...</td>\n",
       "      <td>2013-06-24 23:11:30</td>\n",
       "    </tr>\n",
       "  </tbody>\n",
       "</table>\n",
       "</div>"
      ],
      "text/plain": [
       "              business_id                        name         city state  \\\n",
       "0  QXAEGFB4oINsVuTFxEYKFQ  Emerald Chinese Restaurant  Mississauga    ON   \n",
       "1  QXAEGFB4oINsVuTFxEYKFQ  Emerald Chinese Restaurant  Mississauga    ON   \n",
       "\n",
       "    latitude  longitude  stars  \\\n",
       "0  43.605499 -79.652289    2.5   \n",
       "1  43.605499 -79.652289    2.5   \n",
       "\n",
       "                                          attributes  \\\n",
       "0  {'RestaurantsReservations': 'True', 'GoodForMe...   \n",
       "1  {'RestaurantsReservations': 'True', 'GoodForMe...   \n",
       "\n",
       "                                          categories                 user_id  \\\n",
       "0  Specialty Food, Restaurants, Dim Sum, Imported...  2K62MJ4CJ19L8Tp5pRfjfQ   \n",
       "1  Specialty Food, Restaurants, Dim Sum, Imported...  A0kENtCCoVT3m7T35zb2Vg   \n",
       "\n",
       "   review_stars                                               text  \\\n",
       "0           3.0  My girlfriend and I went for dinner at Emerald...   \n",
       "1           3.0  We've always been there on a Sunday so we were...   \n",
       "\n",
       "                  date  \n",
       "0  2017-01-27 21:54:30  \n",
       "1  2013-06-24 23:11:30  "
      ]
     },
     "execution_count": 49,
     "metadata": {},
     "output_type": "execute_result"
    }
   ],
   "source": [
    "print(df_ON.shape)\n",
    "df_ON.head(2)"
   ]
  },
  {
   "cell_type": "code",
   "execution_count": 7,
   "id": "0e8b5362-090b-49d0-8f22-ef253f5b806e",
   "metadata": {},
   "outputs": [],
   "source": [
    "review_counts = df_ON.groupby('business_id')['business_id'].count()"
   ]
  },
  {
   "cell_type": "code",
   "execution_count": 11,
   "id": "b714e18a-031b-409a-9000-8058983e3a9c",
   "metadata": {},
   "outputs": [],
   "source": [
    "df_ON = df_ON.join(review_counts, on='business_id', rsuffix=' ', how='left')"
   ]
  },
  {
   "cell_type": "code",
   "execution_count": 12,
   "id": "38035829-ecc3-4ef3-9aaa-3e5396033a68",
   "metadata": {},
   "outputs": [],
   "source": [
    "df_ON.columns = ['business_id', 'name', 'city', 'state', 'stars', 'attributes', 'categories', 'user_id', 'review_stars', 'text', 'date', 'review_counts']"
   ]
  },
  {
   "cell_type": "code",
   "execution_count": 13,
   "id": "187a0f98-38cd-4a48-aa5f-6cb7d222a0a5",
   "metadata": {},
   "outputs": [
    {
     "data": {
      "text/html": [
       "<div>\n",
       "<style scoped>\n",
       "    .dataframe tbody tr th:only-of-type {\n",
       "        vertical-align: middle;\n",
       "    }\n",
       "\n",
       "    .dataframe tbody tr th {\n",
       "        vertical-align: top;\n",
       "    }\n",
       "\n",
       "    .dataframe thead th {\n",
       "        text-align: right;\n",
       "    }\n",
       "</style>\n",
       "<table border=\"1\" class=\"dataframe\">\n",
       "  <thead>\n",
       "    <tr style=\"text-align: right;\">\n",
       "      <th></th>\n",
       "      <th>business_id</th>\n",
       "      <th>name</th>\n",
       "      <th>city</th>\n",
       "      <th>state</th>\n",
       "      <th>stars</th>\n",
       "      <th>attributes</th>\n",
       "      <th>categories</th>\n",
       "      <th>user_id</th>\n",
       "      <th>review_stars</th>\n",
       "      <th>text</th>\n",
       "      <th>date</th>\n",
       "      <th>review_counts</th>\n",
       "    </tr>\n",
       "  </thead>\n",
       "  <tbody>\n",
       "    <tr>\n",
       "      <th>0</th>\n",
       "      <td>QXAEGFB4oINsVuTFxEYKFQ</td>\n",
       "      <td>Emerald Chinese Restaurant</td>\n",
       "      <td>Mississauga</td>\n",
       "      <td>ON</td>\n",
       "      <td>2.5</td>\n",
       "      <td>{'RestaurantsReservations': 'True', 'GoodForMe...</td>\n",
       "      <td>Specialty Food, Restaurants, Dim Sum, Imported...</td>\n",
       "      <td>2K62MJ4CJ19L8Tp5pRfjfQ</td>\n",
       "      <td>3.0</td>\n",
       "      <td>My girlfriend and I went for dinner at Emerald...</td>\n",
       "      <td>2017-01-27 21:54:30</td>\n",
       "      <td>134</td>\n",
       "    </tr>\n",
       "    <tr>\n",
       "      <th>1</th>\n",
       "      <td>QXAEGFB4oINsVuTFxEYKFQ</td>\n",
       "      <td>Emerald Chinese Restaurant</td>\n",
       "      <td>Mississauga</td>\n",
       "      <td>ON</td>\n",
       "      <td>2.5</td>\n",
       "      <td>{'RestaurantsReservations': 'True', 'GoodForMe...</td>\n",
       "      <td>Specialty Food, Restaurants, Dim Sum, Imported...</td>\n",
       "      <td>A0kENtCCoVT3m7T35zb2Vg</td>\n",
       "      <td>3.0</td>\n",
       "      <td>We've always been there on a Sunday so we were...</td>\n",
       "      <td>2013-06-24 23:11:30</td>\n",
       "      <td>134</td>\n",
       "    </tr>\n",
       "    <tr>\n",
       "      <th>2</th>\n",
       "      <td>QXAEGFB4oINsVuTFxEYKFQ</td>\n",
       "      <td>Emerald Chinese Restaurant</td>\n",
       "      <td>Mississauga</td>\n",
       "      <td>ON</td>\n",
       "      <td>2.5</td>\n",
       "      <td>{'RestaurantsReservations': 'True', 'GoodForMe...</td>\n",
       "      <td>Specialty Food, Restaurants, Dim Sum, Imported...</td>\n",
       "      <td>SuOLY03LW5ZcnynKhbTydA</td>\n",
       "      <td>3.0</td>\n",
       "      <td>***No automatic doors, not baby friendly!*** I...</td>\n",
       "      <td>2016-01-04 12:59:22</td>\n",
       "      <td>134</td>\n",
       "    </tr>\n",
       "    <tr>\n",
       "      <th>3</th>\n",
       "      <td>QXAEGFB4oINsVuTFxEYKFQ</td>\n",
       "      <td>Emerald Chinese Restaurant</td>\n",
       "      <td>Mississauga</td>\n",
       "      <td>ON</td>\n",
       "      <td>2.5</td>\n",
       "      <td>{'RestaurantsReservations': 'True', 'GoodForMe...</td>\n",
       "      <td>Specialty Food, Restaurants, Dim Sum, Imported...</td>\n",
       "      <td>lymyUak6KNcNKoDbK87MiQ</td>\n",
       "      <td>1.0</td>\n",
       "      <td>Horrible service,\\nI went there tonight with m...</td>\n",
       "      <td>2014-05-09 02:38:43</td>\n",
       "      <td>134</td>\n",
       "    </tr>\n",
       "    <tr>\n",
       "      <th>4</th>\n",
       "      <td>QXAEGFB4oINsVuTFxEYKFQ</td>\n",
       "      <td>Emerald Chinese Restaurant</td>\n",
       "      <td>Mississauga</td>\n",
       "      <td>ON</td>\n",
       "      <td>2.5</td>\n",
       "      <td>{'RestaurantsReservations': 'True', 'GoodForMe...</td>\n",
       "      <td>Specialty Food, Restaurants, Dim Sum, Imported...</td>\n",
       "      <td>6vU0I5XgCv9OQHZ76rV6qw</td>\n",
       "      <td>4.0</td>\n",
       "      <td>One of the gauges of a good Chinese restaurant...</td>\n",
       "      <td>2011-03-21 14:39:55</td>\n",
       "      <td>134</td>\n",
       "    </tr>\n",
       "  </tbody>\n",
       "</table>\n",
       "</div>"
      ],
      "text/plain": [
       "              business_id                        name         city state  \\\n",
       "0  QXAEGFB4oINsVuTFxEYKFQ  Emerald Chinese Restaurant  Mississauga    ON   \n",
       "1  QXAEGFB4oINsVuTFxEYKFQ  Emerald Chinese Restaurant  Mississauga    ON   \n",
       "2  QXAEGFB4oINsVuTFxEYKFQ  Emerald Chinese Restaurant  Mississauga    ON   \n",
       "3  QXAEGFB4oINsVuTFxEYKFQ  Emerald Chinese Restaurant  Mississauga    ON   \n",
       "4  QXAEGFB4oINsVuTFxEYKFQ  Emerald Chinese Restaurant  Mississauga    ON   \n",
       "\n",
       "   stars                                         attributes  \\\n",
       "0    2.5  {'RestaurantsReservations': 'True', 'GoodForMe...   \n",
       "1    2.5  {'RestaurantsReservations': 'True', 'GoodForMe...   \n",
       "2    2.5  {'RestaurantsReservations': 'True', 'GoodForMe...   \n",
       "3    2.5  {'RestaurantsReservations': 'True', 'GoodForMe...   \n",
       "4    2.5  {'RestaurantsReservations': 'True', 'GoodForMe...   \n",
       "\n",
       "                                          categories                 user_id  \\\n",
       "0  Specialty Food, Restaurants, Dim Sum, Imported...  2K62MJ4CJ19L8Tp5pRfjfQ   \n",
       "1  Specialty Food, Restaurants, Dim Sum, Imported...  A0kENtCCoVT3m7T35zb2Vg   \n",
       "2  Specialty Food, Restaurants, Dim Sum, Imported...  SuOLY03LW5ZcnynKhbTydA   \n",
       "3  Specialty Food, Restaurants, Dim Sum, Imported...  lymyUak6KNcNKoDbK87MiQ   \n",
       "4  Specialty Food, Restaurants, Dim Sum, Imported...  6vU0I5XgCv9OQHZ76rV6qw   \n",
       "\n",
       "   review_stars                                               text  \\\n",
       "0           3.0  My girlfriend and I went for dinner at Emerald...   \n",
       "1           3.0  We've always been there on a Sunday so we were...   \n",
       "2           3.0  ***No automatic doors, not baby friendly!*** I...   \n",
       "3           1.0  Horrible service,\\nI went there tonight with m...   \n",
       "4           4.0  One of the gauges of a good Chinese restaurant...   \n",
       "\n",
       "                  date  review_counts  \n",
       "0  2017-01-27 21:54:30            134  \n",
       "1  2013-06-24 23:11:30            134  \n",
       "2  2016-01-04 12:59:22            134  \n",
       "3  2014-05-09 02:38:43            134  \n",
       "4  2011-03-21 14:39:55            134  "
      ]
     },
     "execution_count": 13,
     "metadata": {},
     "output_type": "execute_result"
    }
   ],
   "source": [
    "df_ON.head()"
   ]
  },
  {
   "cell_type": "code",
   "execution_count": 14,
   "id": "7f0c6ce8-899b-4ebb-8a96-bf748d2492fa",
   "metadata": {},
   "outputs": [
    {
     "data": {
      "text/plain": [
       "Toronto          303058\n",
       "Mississauga       35653\n",
       "Markham           33280\n",
       "Richmond Hill     16493\n",
       "Scarborough       12548\n",
       "North York        11943\n",
       "Vaughan           11050\n",
       "Brampton           8263\n",
       "Etobicoke          7969\n",
       "Thornhill          5772\n",
       "Oakville           2996\n",
       "Newmarket          2954\n",
       "Pickering          2559\n",
       "Ajax               2216\n",
       "Whitby             1996\n",
       "Woodbridge         1898\n",
       "Aurora             1867\n",
       "Unionville         1358\n",
       "Concord            1113\n",
       "East York           883\n",
       "Name: city, dtype: int64"
      ]
     },
     "execution_count": 14,
     "metadata": {},
     "output_type": "execute_result"
    }
   ],
   "source": [
    "ON_cities = df_ON['city'].value_counts().head(20)\n",
    "ON_cities"
   ]
  },
  {
   "cell_type": "code",
   "execution_count": 20,
   "id": "70b613a5-ba39-4e0f-9233-f9816d426feb",
   "metadata": {},
   "outputs": [
    {
     "data": {
      "image/png": "[encoded data removed]",
      "text/plain": [
       "<Figure size 720x576 with 1 Axes>"
      ]
     },
     "metadata": {
      "needs_background": "light"
     },
     "output_type": "display_data"
    },
    {
     "data": {
      "text/plain": [
       "<Figure size 432x288 with 0 Axes>"
      ]
     },
     "metadata": {},
     "output_type": "display_data"
    }
   ],
   "source": [
    "pltp.subplots(figsize=(10,8))\n",
    "sns.countplot(x=df_ON['stars'])\n",
    "pltp.title('Distribution of Review Stars in Ontario', fontsize=20)\n",
    "pltp.show()\n",
    "pltp.savefig('../Images/ontario_review_stars.png')"
   ]
  },
  {
   "cell_type": "code",
   "execution_count": 21,
   "id": "96253249-7b7c-4bea-be96-dd069d2da1c0",
   "metadata": {},
   "outputs": [
    {
     "data": {
      "text/plain": [
       "3.5    156139\n",
       "4.0    154271\n",
       "3.0     82209\n",
       "4.5     42544\n",
       "2.5     25104\n",
       "2.0      7146\n",
       "5.0      1910\n",
       "1.5      1640\n",
       "1.0       396\n",
       "Name: stars, dtype: int64"
      ]
     },
     "execution_count": 21,
     "metadata": {},
     "output_type": "execute_result"
    }
   ],
   "source": [
    "df_ON['stars'].value_counts()"
   ]
  },
  {
   "cell_type": "code",
   "execution_count": 29,
   "id": "58fa71f8-ada5-4ffd-9d5c-a8a32c9cedf0",
   "metadata": {},
   "outputs": [
    {
     "data": {
      "text/plain": [
       "Pai Northern Thai Kitchen    2177\n",
       "Jack Astor's Bar & Grill     1664\n",
       "Banh Mi Boys                 1636\n",
       "KINTON RAMEN                 1542\n",
       "McDonald's                   1538\n",
       "Khao San Road                1467\n",
       "KINKA IZAKAYA ORIGINAL       1425\n",
       "Sansotei Ramen               1407\n",
       "The Burger's Priest          1358\n",
       "Burrito Boyz                 1268\n",
       "Name: name, dtype: int64"
      ]
     },
     "execution_count": 29,
     "metadata": {},
     "output_type": "execute_result"
    }
   ],
   "source": [
    "most_reviewed = df_ON['name'].value_counts()[:10]\n",
    "most_reviewed"
   ]
  },
  {
   "cell_type": "code",
   "execution_count": 30,
   "id": "a7164939-fed5-4176-af2a-ec3580ecc4ec",
   "metadata": {},
   "outputs": [
    {
     "data": {
      "image/png": "[encoded data removed]",
      "text/plain": [
       "<Figure size 864x432 with 1 Axes>"
      ]
     },
     "metadata": {
      "needs_background": "light"
     },
     "output_type": "display_data"
    }
   ],
   "source": [
    "pltp.subplots(figsize=(12,6));\n",
    "most_reviewed.plot(kind = 'barh', color= 'orange')\n",
    "pltp.title('Restaurants Most Reviewed', fontsize=20);\n",
    "pltp.savefig('../Images/most_reviewed.png')"
   ]
  },
  {
   "cell_type": "code",
   "execution_count": 14,
   "id": "c392df08-a7da-4d4b-a82e-d334bb20c729",
   "metadata": {},
   "outputs": [
    {
     "data": {
      "text/plain": [
       "(401069, 12)"
      ]
     },
     "execution_count": 14,
     "metadata": {},
     "output_type": "execute_result"
    }
   ],
   "source": [
    "GTA_Top5 = df_ON[df_ON['city'].str.contains('Toronto|Markham|Mississauga|Richmond Hill|Scarborough')]\n",
    "GTA_Top5.shape"
   ]
  },
  {
   "cell_type": "code",
   "execution_count": 15,
   "id": "e8be8086-3401-4ab8-be69-8daa8b582956",
   "metadata": {},
   "outputs": [
    {
     "data": {
      "text/plain": [
       "7283"
      ]
     },
     "execution_count": 15,
     "metadata": {},
     "output_type": "execute_result"
    }
   ],
   "source": [
    "GTA_Top5['business_id'].nunique()"
   ]
  },
  {
   "cell_type": "code",
   "execution_count": 16,
   "id": "7d799cc0-1708-400c-a21b-6a78b4ecc989",
   "metadata": {},
   "outputs": [
    {
     "data": {
      "text/plain": [
       "Pai Northern Thai Kitchen       2177\n",
       "Banh Mi Boys                    1636\n",
       "Khao San Road                   1467\n",
       "KINKA IZAKAYA ORIGINAL          1425\n",
       "Jack Astor's Bar & Grill        1378\n",
       "Sansotei Ramen                  1310\n",
       "KINTON RAMEN                    1288\n",
       "The Burger's Priest             1207\n",
       "Seven Lives Tacos Y Mariscos    1183\n",
       "Terroni                         1132\n",
       "Name: name, dtype: int64"
      ]
     },
     "execution_count": 16,
     "metadata": {},
     "output_type": "execute_result"
    }
   ],
   "source": [
    "GTA_most_reviewed = GTA_Top5['name'].value_counts()[0:10]\n",
    "GTA_most_reviewed"
   ]
  },
  {
   "cell_type": "code",
   "execution_count": 53,
   "id": "9f20a7b5-2a99-4dc9-b0a1-6c788d3cabd7",
   "metadata": {},
   "outputs": [
    {
     "data": {
      "image/png": "[encoded data removed]",
      "text/plain": [
       "<Figure size 864x432 with 1 Axes>"
      ]
     },
     "metadata": {
      "needs_background": "light"
     },
     "output_type": "display_data"
    }
   ],
   "source": [
    "pltp.subplots(figsize=(12,6));\n",
    "GTA_most_reviewed.plot(kind = 'barh', color= 'red')\n",
    "pltp.title('GTA Restaurants Most Reviewed', fontsize=20);\n",
    "pltp.savefig('../Images/GTA_most_reviewed.png')"
   ]
  },
  {
   "cell_type": "code",
   "execution_count": 35,
   "id": "f57eda1b-6350-41b0-9bec-4248ed6bc376",
   "metadata": {},
   "outputs": [
    {
     "data": {
      "image/png": "[encoded data removed]",
      "text/plain": [
       "<Figure size 432x288 with 1 Axes>"
      ]
     },
     "metadata": {
      "needs_background": "light"
     },
     "output_type": "display_data"
    },
    {
     "data": {
      "text/plain": [
       "<Figure size 432x288 with 0 Axes>"
      ]
     },
     "metadata": {},
     "output_type": "display_data"
    }
   ],
   "source": [
    "y_s = df_ON['stars']\n",
    "y_rs = df_ON['review_stars']\n",
    "colors = ['b','g']\n",
    "\n",
    "#plot the histogram\n",
    "fig, ax = pltp.subplots()\n",
    "ax.hist([y_rs,y_s],color=colors)\n",
    "ax.set_xlim(0,5)\n",
    "ax.set_xlabel(\"Stars\")\n",
    "ax.set_ylabel(\"Count\")\n",
    "pltp.title('Restaurant Stars (Blue) vs. Review Stars (Green)')\n",
    "pltp.tight_layout()\n",
    "pltp.show()\n",
    "pltp.savefig('../Images/stars_comp.png')"
   ]
  },
  {
   "cell_type": "code",
   "execution_count": 17,
   "id": "13fbc925-2338-4171-bd99-fa1de10922e5",
   "metadata": {},
   "outputs": [
    {
     "data": {
      "text/plain": [
       "False    400287\n",
       "True        782\n",
       "Name: text, dtype: int64"
      ]
     },
     "execution_count": 17,
     "metadata": {},
     "output_type": "execute_result"
    }
   ],
   "source": [
    "GTA_Top5[\"text\"].duplicated().value_counts()"
   ]
  },
  {
   "cell_type": "code",
   "execution_count": 19,
   "id": "adb508ab-d22e-4f88-b57f-d09325b62772",
   "metadata": {},
   "outputs": [],
   "source": [
    "GTA_Top5.drop_duplicates(subset=['text'], inplace=True)"
   ]
  },
  {
   "cell_type": "code",
   "execution_count": 20,
   "id": "39388901-367a-441b-a89f-0669e01e8c6a",
   "metadata": {},
   "outputs": [
    {
     "data": {
      "text/plain": [
       "94407"
      ]
     },
     "execution_count": 20,
     "metadata": {},
     "output_type": "execute_result"
    }
   ],
   "source": [
    "# Number of unique users in the GTA area\n",
    "\n",
    "n_users = len(GTA_Top5.user_id.unique())\n",
    "n_users "
   ]
  },
  {
   "cell_type": "code",
   "execution_count": 21,
   "id": "d1974efd-f292-4220-8fe7-31518caea78b",
   "metadata": {},
   "outputs": [
    {
     "name": "stderr",
     "output_type": "stream",
     "text": [
      "/var/folders/3p/bdw7d11x76q9r29tng0s109c0000gn/T/ipykernel_2962/3417091841.py:1: SettingWithCopyWarning: \n",
      "A value is trying to be set on a copy of a slice from a DataFrame.\n",
      "Try using .loc[row_indexer,col_indexer] = value instead\n",
      "\n",
      "See the caveats in the documentation: https://pandas.pydata.org/pandas-docs/stable/user_guide/indexing.html#returning-a-view-versus-a-copy\n",
      "  GTA_Top5['date'] = pd.to_datetime(GTA_Top5['date']).dt.date\n",
      "/var/folders/3p/bdw7d11x76q9r29tng0s109c0000gn/T/ipykernel_2962/3417091841.py:2: SettingWithCopyWarning: \n",
      "A value is trying to be set on a copy of a slice from a DataFrame.\n",
      "Try using .loc[row_indexer,col_indexer] = value instead\n",
      "\n",
      "See the caveats in the documentation: https://pandas.pydata.org/pandas-docs/stable/user_guide/indexing.html#returning-a-view-versus-a-copy\n",
      "  GTA_Top5['date'] = pd.to_datetime(GTA_Top5['date']).dt.normalize()\n"
     ]
    }
   ],
   "source": [
    "GTA_Top5['date'] = pd.to_datetime(GTA_Top5['date']).dt.date\n",
    "GTA_Top5['date'] = pd.to_datetime(GTA_Top5['date']).dt.normalize()"
   ]
  },
  {
   "cell_type": "code",
   "execution_count": 22,
   "id": "36f5bc47-2dc5-4053-abb8-aa107a9ec28c",
   "metadata": {},
   "outputs": [
    {
     "name": "stderr",
     "output_type": "stream",
     "text": [
      "/Users/debragoei/opt/anaconda3/lib/python3.9/site-packages/pandas/core/frame.py:3641: SettingWithCopyWarning: \n",
      "A value is trying to be set on a copy of a slice from a DataFrame.\n",
      "Try using .loc[row_indexer,col_indexer] = value instead\n",
      "\n",
      "See the caveats in the documentation: https://pandas.pydata.org/pandas-docs/stable/user_guide/indexing.html#returning-a-view-versus-a-copy\n",
      "  self[k1] = value[k2]\n",
      "/Users/debragoei/opt/anaconda3/lib/python3.9/site-packages/pandas/core/frame.py:4906: SettingWithCopyWarning: \n",
      "A value is trying to be set on a copy of a slice from a DataFrame\n",
      "\n",
      "See the caveats in the documentation: https://pandas.pydata.org/pandas-docs/stable/user_guide/indexing.html#returning-a-view-versus-a-copy\n",
      "  return super().drop(\n"
     ]
    },
    {
     "data": {
      "text/html": [
       "<div>\n",
       "<style scoped>\n",
       "    .dataframe tbody tr th:only-of-type {\n",
       "        vertical-align: middle;\n",
       "    }\n",
       "\n",
       "    .dataframe tbody tr th {\n",
       "        vertical-align: top;\n",
       "    }\n",
       "\n",
       "    .dataframe thead th {\n",
       "        text-align: right;\n",
       "    }\n",
       "</style>\n",
       "<table border=\"1\" class=\"dataframe\">\n",
       "  <thead>\n",
       "    <tr style=\"text-align: right;\">\n",
       "      <th></th>\n",
       "      <th>business_id</th>\n",
       "      <th>name</th>\n",
       "      <th>city</th>\n",
       "      <th>state</th>\n",
       "      <th>stars</th>\n",
       "      <th>attributes</th>\n",
       "      <th>categories</th>\n",
       "      <th>user_id</th>\n",
       "      <th>review_stars</th>\n",
       "      <th>text</th>\n",
       "      <th>review_counts</th>\n",
       "      <th>year</th>\n",
       "    </tr>\n",
       "  </thead>\n",
       "  <tbody>\n",
       "    <tr>\n",
       "      <th>0</th>\n",
       "      <td>QXAEGFB4oINsVuTFxEYKFQ</td>\n",
       "      <td>Emerald Chinese Restaurant</td>\n",
       "      <td>Mississauga</td>\n",
       "      <td>ON</td>\n",
       "      <td>2.5</td>\n",
       "      <td>{'RestaurantsReservations': 'True', 'GoodForMe...</td>\n",
       "      <td>Specialty Food, Restaurants, Dim Sum, Imported...</td>\n",
       "      <td>2K62MJ4CJ19L8Tp5pRfjfQ</td>\n",
       "      <td>3.0</td>\n",
       "      <td>My girlfriend and I went for dinner at Emerald...</td>\n",
       "      <td>134</td>\n",
       "      <td>2017</td>\n",
       "    </tr>\n",
       "    <tr>\n",
       "      <th>1</th>\n",
       "      <td>QXAEGFB4oINsVuTFxEYKFQ</td>\n",
       "      <td>Emerald Chinese Restaurant</td>\n",
       "      <td>Mississauga</td>\n",
       "      <td>ON</td>\n",
       "      <td>2.5</td>\n",
       "      <td>{'RestaurantsReservations': 'True', 'GoodForMe...</td>\n",
       "      <td>Specialty Food, Restaurants, Dim Sum, Imported...</td>\n",
       "      <td>A0kENtCCoVT3m7T35zb2Vg</td>\n",
       "      <td>3.0</td>\n",
       "      <td>We've always been there on a Sunday so we were...</td>\n",
       "      <td>134</td>\n",
       "      <td>2013</td>\n",
       "    </tr>\n",
       "  </tbody>\n",
       "</table>\n",
       "</div>"
      ],
      "text/plain": [
       "              business_id                        name         city state  \\\n",
       "0  QXAEGFB4oINsVuTFxEYKFQ  Emerald Chinese Restaurant  Mississauga    ON   \n",
       "1  QXAEGFB4oINsVuTFxEYKFQ  Emerald Chinese Restaurant  Mississauga    ON   \n",
       "\n",
       "   stars                                         attributes  \\\n",
       "0    2.5  {'RestaurantsReservations': 'True', 'GoodForMe...   \n",
       "1    2.5  {'RestaurantsReservations': 'True', 'GoodForMe...   \n",
       "\n",
       "                                          categories                 user_id  \\\n",
       "0  Specialty Food, Restaurants, Dim Sum, Imported...  2K62MJ4CJ19L8Tp5pRfjfQ   \n",
       "1  Specialty Food, Restaurants, Dim Sum, Imported...  A0kENtCCoVT3m7T35zb2Vg   \n",
       "\n",
       "   review_stars                                               text  \\\n",
       "0           3.0  My girlfriend and I went for dinner at Emerald...   \n",
       "1           3.0  We've always been there on a Sunday so we were...   \n",
       "\n",
       "   review_counts  year  \n",
       "0            134  2017  \n",
       "1            134  2013  "
      ]
     },
     "execution_count": 22,
     "metadata": {},
     "output_type": "execute_result"
    }
   ],
   "source": [
    "# extract year from date column and drop original date column\n",
    "GTA_Top5[['year']] = pd.DataFrame(GTA_Top5.date.dt.year)\n",
    "\n",
    "GTA_Top5.drop(['date'], axis =1, inplace = True)\n",
    "GTA_Top5.head(2)"
   ]
  },
  {
   "cell_type": "code",
   "execution_count": 23,
   "id": "31ed7e29-ff14-4cec-91a1-abf13e96adcd",
   "metadata": {},
   "outputs": [],
   "source": [
    "reviews_by_year = GTA_Top5[\"year\"].value_counts()"
   ]
  },
  {
   "cell_type": "code",
   "execution_count": 24,
   "id": "cdc7fa3b-780c-4c95-b4b0-5c06ccaab7b3",
   "metadata": {},
   "outputs": [
    {
     "data": {
      "image/png": "[encoded data removed]",
      "text/plain": [
       "<Figure size 864x432 with 1 Axes>"
      ]
     },
     "metadata": {
      "needs_background": "light"
     },
     "output_type": "display_data"
    }
   ],
   "source": [
    "pltp.subplots(figsize=(12,6));\n",
    "reviews_by_year[0:5].plot(kind = 'bar', color= 'aquamarine')\n",
    "pltp.title('Number of Reviews by Year', fontsize=20);\n",
    "pltp.savefig('../Images/reviews_by_year.png')"
   ]
  },
  {
   "cell_type": "code",
   "execution_count": 25,
   "id": "408bb382-a391-40b5-828e-937c4ff9c754",
   "metadata": {},
   "outputs": [
    {
     "name": "stdout",
     "output_type": "stream",
     "text": [
      "(328594, 12)\n"
     ]
    },
    {
     "data": {
      "text/html": [
       "<div>\n",
       "<style scoped>\n",
       "    .dataframe tbody tr th:only-of-type {\n",
       "        vertical-align: middle;\n",
       "    }\n",
       "\n",
       "    .dataframe tbody tr th {\n",
       "        vertical-align: top;\n",
       "    }\n",
       "\n",
       "    .dataframe thead th {\n",
       "        text-align: right;\n",
       "    }\n",
       "</style>\n",
       "<table border=\"1\" class=\"dataframe\">\n",
       "  <thead>\n",
       "    <tr style=\"text-align: right;\">\n",
       "      <th></th>\n",
       "      <th>business_id</th>\n",
       "      <th>name</th>\n",
       "      <th>city</th>\n",
       "      <th>state</th>\n",
       "      <th>stars</th>\n",
       "      <th>attributes</th>\n",
       "      <th>categories</th>\n",
       "      <th>user_id</th>\n",
       "      <th>review_stars</th>\n",
       "      <th>text</th>\n",
       "      <th>review_counts</th>\n",
       "      <th>year</th>\n",
       "    </tr>\n",
       "  </thead>\n",
       "  <tbody>\n",
       "    <tr>\n",
       "      <th>0</th>\n",
       "      <td>QXAEGFB4oINsVuTFxEYKFQ</td>\n",
       "      <td>Emerald Chinese Restaurant</td>\n",
       "      <td>Mississauga</td>\n",
       "      <td>ON</td>\n",
       "      <td>2.5</td>\n",
       "      <td>{'RestaurantsReservations': 'True', 'GoodForMe...</td>\n",
       "      <td>Specialty Food, Restaurants, Dim Sum, Imported...</td>\n",
       "      <td>2K62MJ4CJ19L8Tp5pRfjfQ</td>\n",
       "      <td>3.0</td>\n",
       "      <td>My girlfriend and I went for dinner at Emerald...</td>\n",
       "      <td>134</td>\n",
       "      <td>2017</td>\n",
       "    </tr>\n",
       "    <tr>\n",
       "      <th>2</th>\n",
       "      <td>QXAEGFB4oINsVuTFxEYKFQ</td>\n",
       "      <td>Emerald Chinese Restaurant</td>\n",
       "      <td>Mississauga</td>\n",
       "      <td>ON</td>\n",
       "      <td>2.5</td>\n",
       "      <td>{'RestaurantsReservations': 'True', 'GoodForMe...</td>\n",
       "      <td>Specialty Food, Restaurants, Dim Sum, Imported...</td>\n",
       "      <td>SuOLY03LW5ZcnynKhbTydA</td>\n",
       "      <td>3.0</td>\n",
       "      <td>***No automatic doors, not baby friendly!*** I...</td>\n",
       "      <td>134</td>\n",
       "      <td>2016</td>\n",
       "    </tr>\n",
       "  </tbody>\n",
       "</table>\n",
       "</div>"
      ],
      "text/plain": [
       "              business_id                        name         city state  \\\n",
       "0  QXAEGFB4oINsVuTFxEYKFQ  Emerald Chinese Restaurant  Mississauga    ON   \n",
       "2  QXAEGFB4oINsVuTFxEYKFQ  Emerald Chinese Restaurant  Mississauga    ON   \n",
       "\n",
       "   stars                                         attributes  \\\n",
       "0    2.5  {'RestaurantsReservations': 'True', 'GoodForMe...   \n",
       "2    2.5  {'RestaurantsReservations': 'True', 'GoodForMe...   \n",
       "\n",
       "                                          categories                 user_id  \\\n",
       "0  Specialty Food, Restaurants, Dim Sum, Imported...  2K62MJ4CJ19L8Tp5pRfjfQ   \n",
       "2  Specialty Food, Restaurants, Dim Sum, Imported...  SuOLY03LW5ZcnynKhbTydA   \n",
       "\n",
       "   review_stars                                               text  \\\n",
       "0           3.0  My girlfriend and I went for dinner at Emerald...   \n",
       "2           3.0  ***No automatic doors, not baby friendly!*** I...   \n",
       "\n",
       "   review_counts  year  \n",
       "0            134  2017  \n",
       "2            134  2016  "
      ]
     },
     "execution_count": 25,
     "metadata": {},
     "output_type": "execute_result"
    }
   ],
   "source": [
    "GTA_clean = GTA_Top5[GTA_Top5['year'] >= 2014]\n",
    "\n",
    "print(GTA_clean.shape)\n",
    "GTA_clean.head(2)"
   ]
  },
  {
   "cell_type": "code",
   "execution_count": 26,
   "id": "671d710c-edf4-4b2a-914c-1c3cc5cbf029",
   "metadata": {},
   "outputs": [],
   "source": [
    "GTA_clean.to_csv('../Data/GTA_cleaned.csv', index = False)"
   ]
  },
  {
   "cell_type": "code",
   "execution_count": 27,
   "id": "19e7f1c9-6d48-48bc-9811-aaaf99343995",
   "metadata": {},
   "outputs": [
    {
     "name": "stderr",
     "output_type": "stream",
     "text": [
      "/var/folders/3p/bdw7d11x76q9r29tng0s109c0000gn/T/ipykernel_2962/2537043623.py:1: SettingWithCopyWarning: \n",
      "A value is trying to be set on a copy of a slice from a DataFrame.\n",
      "Try using .loc[row_indexer,col_indexer] = value instead\n",
      "\n",
      "See the caveats in the documentation: https://pandas.pydata.org/pandas-docs/stable/user_guide/indexing.html#returning-a-view-versus-a-copy\n",
      "  GTA_clean['text_word_count'] = GTA_clean['text'].str.split().map(len)\n"
     ]
    },
    {
     "data": {
      "text/html": [
       "<div>\n",
       "<style scoped>\n",
       "    .dataframe tbody tr th:only-of-type {\n",
       "        vertical-align: middle;\n",
       "    }\n",
       "\n",
       "    .dataframe tbody tr th {\n",
       "        vertical-align: top;\n",
       "    }\n",
       "\n",
       "    .dataframe thead th {\n",
       "        text-align: right;\n",
       "    }\n",
       "</style>\n",
       "<table border=\"1\" class=\"dataframe\">\n",
       "  <thead>\n",
       "    <tr style=\"text-align: right;\">\n",
       "      <th></th>\n",
       "      <th>business_id</th>\n",
       "      <th>name</th>\n",
       "      <th>city</th>\n",
       "      <th>state</th>\n",
       "      <th>stars</th>\n",
       "      <th>attributes</th>\n",
       "      <th>categories</th>\n",
       "      <th>user_id</th>\n",
       "      <th>review_stars</th>\n",
       "      <th>text</th>\n",
       "      <th>review_counts</th>\n",
       "      <th>year</th>\n",
       "      <th>text_word_count</th>\n",
       "    </tr>\n",
       "  </thead>\n",
       "  <tbody>\n",
       "    <tr>\n",
       "      <th>0</th>\n",
       "      <td>QXAEGFB4oINsVuTFxEYKFQ</td>\n",
       "      <td>Emerald Chinese Restaurant</td>\n",
       "      <td>Mississauga</td>\n",
       "      <td>ON</td>\n",
       "      <td>2.5</td>\n",
       "      <td>{'RestaurantsReservations': 'True', 'GoodForMe...</td>\n",
       "      <td>Specialty Food, Restaurants, Dim Sum, Imported...</td>\n",
       "      <td>2K62MJ4CJ19L8Tp5pRfjfQ</td>\n",
       "      <td>3.0</td>\n",
       "      <td>My girlfriend and I went for dinner at Emerald...</td>\n",
       "      <td>134</td>\n",
       "      <td>2017</td>\n",
       "      <td>242</td>\n",
       "    </tr>\n",
       "    <tr>\n",
       "      <th>2</th>\n",
       "      <td>QXAEGFB4oINsVuTFxEYKFQ</td>\n",
       "      <td>Emerald Chinese Restaurant</td>\n",
       "      <td>Mississauga</td>\n",
       "      <td>ON</td>\n",
       "      <td>2.5</td>\n",
       "      <td>{'RestaurantsReservations': 'True', 'GoodForMe...</td>\n",
       "      <td>Specialty Food, Restaurants, Dim Sum, Imported...</td>\n",
       "      <td>SuOLY03LW5ZcnynKhbTydA</td>\n",
       "      <td>3.0</td>\n",
       "      <td>***No automatic doors, not baby friendly!*** I...</td>\n",
       "      <td>134</td>\n",
       "      <td>2016</td>\n",
       "      <td>43</td>\n",
       "    </tr>\n",
       "  </tbody>\n",
       "</table>\n",
       "</div>"
      ],
      "text/plain": [
       "              business_id                        name         city state  \\\n",
       "0  QXAEGFB4oINsVuTFxEYKFQ  Emerald Chinese Restaurant  Mississauga    ON   \n",
       "2  QXAEGFB4oINsVuTFxEYKFQ  Emerald Chinese Restaurant  Mississauga    ON   \n",
       "\n",
       "   stars                                         attributes  \\\n",
       "0    2.5  {'RestaurantsReservations': 'True', 'GoodForMe...   \n",
       "2    2.5  {'RestaurantsReservations': 'True', 'GoodForMe...   \n",
       "\n",
       "                                          categories                 user_id  \\\n",
       "0  Specialty Food, Restaurants, Dim Sum, Imported...  2K62MJ4CJ19L8Tp5pRfjfQ   \n",
       "2  Specialty Food, Restaurants, Dim Sum, Imported...  SuOLY03LW5ZcnynKhbTydA   \n",
       "\n",
       "   review_stars                                               text  \\\n",
       "0           3.0  My girlfriend and I went for dinner at Emerald...   \n",
       "2           3.0  ***No automatic doors, not baby friendly!*** I...   \n",
       "\n",
       "   review_counts  year  text_word_count  \n",
       "0            134  2017              242  \n",
       "2            134  2016               43  "
      ]
     },
     "execution_count": 27,
     "metadata": {},
     "output_type": "execute_result"
    }
   ],
   "source": [
    "GTA_clean['text_word_count'] = GTA_clean['text'].str.split().map(len)\n",
    "GTA_clean.head(2)"
   ]
  },
  {
   "cell_type": "code",
   "execution_count": 28,
   "id": "da81a346-2223-492a-a4ab-e87ebc6f8918",
   "metadata": {},
   "outputs": [],
   "source": [
    "GTA_clean.to_csv('../Data/GTA_updated.csv', index = False)"
   ]
  },
  {
   "cell_type": "code",
   "execution_count": null,
   "id": "7f56a2c3-7e81-4499-90d7-31275f06c00d",
   "metadata": {},
   "outputs": [],
   "source": []
  }
 ],
 "metadata": {
  "kernelspec": {
   "display_name": "Python 3 (ipykernel)",
   "language": "python",
   "name": "python3"
  },
  "language_info": {
   "codemirror_mode": {
    "name": "ipython",
    "version": 3
   },
   "file_extension": ".py",
   "mimetype": "text/x-python",
   "name": "python",
   "nbconvert_exporter": "python",
   "pygments_lexer": "ipython3",
   "version": "3.9.7"
  }
 },
 "nbformat": 4,
 "nbformat_minor": 5
}
