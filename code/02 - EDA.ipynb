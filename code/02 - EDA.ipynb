{
 "cells": [
  {
   "cell_type": "markdown",
   "id": "dc4ba9e5-2f81-4660-9446-188fc60a2328",
   "metadata": {},
   "source": [
    "# EDA and Preprocessing"
   ]
  },
  {
   "cell_type": "code",
   "execution_count": 1,
   "id": "e99fe85a-4086-4c6f-bdeb-0e895f908bd8",
   "metadata": {},
   "outputs": [],
   "source": [
    "#Import Libraries\n",
    "\n",
    "import pandas as pd\n",
    "import numpy as np\n",
    "import matplotlib as plt\n",
    "import seaborn as sns\n",
    "\n",
    "from sklearn.model_selection import train_test_split, GridSearchCV, cross_val_score\n",
    "from sklearn.linear_model import LogisticRegression\n",
    "from sklearn.feature_extraction.text import CountVectorizer, TfidfVectorizer\n",
    "from sklearn.pipeline import Pipeline\n",
    "from sklearn.metrics import confusion_matrix, plot_confusion_matrix\n",
    "from sklearn.ensemble import RandomForestClassifier, ExtraTreesClassifier, VotingClassifier\n",
    "from sklearn.feature_extraction import text\n",
    "from sklearn.tree import DecisionTreeClassifier\n",
    "from sklearn.datasets import make_classification, make_regression\n",
    "from sklearn.preprocessing import StandardScaler\n",
    "\n",
    "import re\n",
    "import requests\n",
    "import time\n",
    "import regex as re\n",
    "from collections import Counter\n",
    "\n",
    "from wordcloud import WordCloud, STOPWORDS\n",
    "\n",
    "import nltk\n",
    "from nltk.tokenize import sent_tokenize, word_tokenize, RegexpTokenizer\n",
    "from nltk.stem import WordNetLemmatizer\n",
    "from nltk.stem.porter import PorterStemmer\n",
    "from nltk.corpus import stopwords\n",
    "from nltk.sentiment.vader import SentimentIntensityAnalyzer\n",
    "import string\n",
    "from nltk.corpus import stopwords"
   ]
  },
  {
   "cell_type": "code",
   "execution_count": 2,
   "id": "6f749588-a4e7-4519-a79b-eba6376b1b21",
   "metadata": {},
   "outputs": [],
   "source": [
    "# import cleaned dataset\n",
    "\n",
    "df = pd.read_csv(\"../Data/GTA_clean.csv\")"
   ]
  },
  {
   "cell_type": "code",
   "execution_count": 3,
   "id": "e5e3c6f6-da82-40a4-a923-a055e6d5c002",
   "metadata": {},
   "outputs": [
    {
     "data": {
      "text/plain": [
       "Index(['business_id', 'name', 'city', 'state', 'stars', 'attributes',\n",
       "       'categories', 'user_id', 'review_stars', 'text', 'year'],\n",
       "      dtype='object')"
      ]
     },
     "execution_count": 3,
     "metadata": {},
     "output_type": "execute_result"
    }
   ],
   "source": [
    "df.columns"
   ]
  },
  {
   "cell_type": "code",
   "execution_count": 4,
   "id": "23ffbd33-4794-4924-a50a-358ebff878b2",
   "metadata": {},
   "outputs": [
    {
     "data": {
      "text/plain": [
       "(304025, 11)"
      ]
     },
     "execution_count": 4,
     "metadata": {},
     "output_type": "execute_result"
    }
   ],
   "source": [
    "df.shape"
   ]
  },
  {
   "cell_type": "code",
   "execution_count": 11,
   "id": "6c69447a-0f04-4f22-aeda-a65213056019",
   "metadata": {},
   "outputs": [
    {
     "data": {
      "text/html": [
       "<div>\n",
       "<style scoped>\n",
       "    .dataframe tbody tr th:only-of-type {\n",
       "        vertical-align: middle;\n",
       "    }\n",
       "\n",
       "    .dataframe tbody tr th {\n",
       "        vertical-align: top;\n",
       "    }\n",
       "\n",
       "    .dataframe thead th {\n",
       "        text-align: right;\n",
       "    }\n",
       "</style>\n",
       "<table border=\"1\" class=\"dataframe\">\n",
       "  <thead>\n",
       "    <tr style=\"text-align: right;\">\n",
       "      <th></th>\n",
       "      <th>business_id</th>\n",
       "      <th>name</th>\n",
       "      <th>city</th>\n",
       "      <th>state</th>\n",
       "      <th>stars</th>\n",
       "      <th>attributes</th>\n",
       "      <th>categories</th>\n",
       "      <th>user_id</th>\n",
       "      <th>review_stars</th>\n",
       "      <th>text</th>\n",
       "      <th>year</th>\n",
       "    </tr>\n",
       "  </thead>\n",
       "  <tbody>\n",
       "    <tr>\n",
       "      <th>0</th>\n",
       "      <td>NDuUMJfrWk52RA-H-OtrpA</td>\n",
       "      <td>Bolt Fresh Bar</td>\n",
       "      <td>Toronto</td>\n",
       "      <td>ON</td>\n",
       "      <td>3.0</td>\n",
       "      <td>{'WiFi': \"u'no'\", 'BikeParking': 'True', 'Rest...</td>\n",
       "      <td>Juice Bars &amp; Smoothies, Food, Restaurants, Fas...</td>\n",
       "      <td>fd25NWbvLdNFJV_MoAljIg</td>\n",
       "      <td>4.0</td>\n",
       "      <td>Pretty solid vegan spot. Had a rice bowl there...</td>\n",
       "      <td>2017</td>\n",
       "    </tr>\n",
       "    <tr>\n",
       "      <th>1</th>\n",
       "      <td>NDuUMJfrWk52RA-H-OtrpA</td>\n",
       "      <td>Bolt Fresh Bar</td>\n",
       "      <td>Toronto</td>\n",
       "      <td>ON</td>\n",
       "      <td>3.0</td>\n",
       "      <td>{'WiFi': \"u'no'\", 'BikeParking': 'True', 'Rest...</td>\n",
       "      <td>Juice Bars &amp; Smoothies, Food, Restaurants, Fas...</td>\n",
       "      <td>AyxTBqPJjYqlY55vfNfB2Q</td>\n",
       "      <td>5.0</td>\n",
       "      <td>What a great spot for a delicious, healthy lun...</td>\n",
       "      <td>2015</td>\n",
       "    </tr>\n",
       "    <tr>\n",
       "      <th>2</th>\n",
       "      <td>NDuUMJfrWk52RA-H-OtrpA</td>\n",
       "      <td>Bolt Fresh Bar</td>\n",
       "      <td>Toronto</td>\n",
       "      <td>ON</td>\n",
       "      <td>3.0</td>\n",
       "      <td>{'WiFi': \"u'no'\", 'BikeParking': 'True', 'Rest...</td>\n",
       "      <td>Juice Bars &amp; Smoothies, Food, Restaurants, Fas...</td>\n",
       "      <td>-KvhDluq5GhtiafY4xK2Sw</td>\n",
       "      <td>2.0</td>\n",
       "      <td>I really do love Bolt Fresh Bar. I've gone the...</td>\n",
       "      <td>2018</td>\n",
       "    </tr>\n",
       "    <tr>\n",
       "      <th>3</th>\n",
       "      <td>NDuUMJfrWk52RA-H-OtrpA</td>\n",
       "      <td>Bolt Fresh Bar</td>\n",
       "      <td>Toronto</td>\n",
       "      <td>ON</td>\n",
       "      <td>3.0</td>\n",
       "      <td>{'WiFi': \"u'no'\", 'BikeParking': 'True', 'Rest...</td>\n",
       "      <td>Juice Bars &amp; Smoothies, Food, Restaurants, Fas...</td>\n",
       "      <td>75DUiVsWkGZRW--zySVORA</td>\n",
       "      <td>4.0</td>\n",
       "      <td>The vibe: Clean, bright vegetarian take out!\\n...</td>\n",
       "      <td>2014</td>\n",
       "    </tr>\n",
       "    <tr>\n",
       "      <th>4</th>\n",
       "      <td>NDuUMJfrWk52RA-H-OtrpA</td>\n",
       "      <td>Bolt Fresh Bar</td>\n",
       "      <td>Toronto</td>\n",
       "      <td>ON</td>\n",
       "      <td>3.0</td>\n",
       "      <td>{'WiFi': \"u'no'\", 'BikeParking': 'True', 'Rest...</td>\n",
       "      <td>Juice Bars &amp; Smoothies, Food, Restaurants, Fas...</td>\n",
       "      <td>z23KjDT_pUtORz4ptHnUAg</td>\n",
       "      <td>2.0</td>\n",
       "      <td>I went here once to get the protein bowl and i...</td>\n",
       "      <td>2017</td>\n",
       "    </tr>\n",
       "  </tbody>\n",
       "</table>\n",
       "</div>"
      ],
      "text/plain": [
       "              business_id            name     city state  stars  \\\n",
       "0  NDuUMJfrWk52RA-H-OtrpA  Bolt Fresh Bar  Toronto    ON    3.0   \n",
       "1  NDuUMJfrWk52RA-H-OtrpA  Bolt Fresh Bar  Toronto    ON    3.0   \n",
       "2  NDuUMJfrWk52RA-H-OtrpA  Bolt Fresh Bar  Toronto    ON    3.0   \n",
       "3  NDuUMJfrWk52RA-H-OtrpA  Bolt Fresh Bar  Toronto    ON    3.0   \n",
       "4  NDuUMJfrWk52RA-H-OtrpA  Bolt Fresh Bar  Toronto    ON    3.0   \n",
       "\n",
       "                                          attributes  \\\n",
       "0  {'WiFi': \"u'no'\", 'BikeParking': 'True', 'Rest...   \n",
       "1  {'WiFi': \"u'no'\", 'BikeParking': 'True', 'Rest...   \n",
       "2  {'WiFi': \"u'no'\", 'BikeParking': 'True', 'Rest...   \n",
       "3  {'WiFi': \"u'no'\", 'BikeParking': 'True', 'Rest...   \n",
       "4  {'WiFi': \"u'no'\", 'BikeParking': 'True', 'Rest...   \n",
       "\n",
       "                                          categories                 user_id  \\\n",
       "0  Juice Bars & Smoothies, Food, Restaurants, Fas...  fd25NWbvLdNFJV_MoAljIg   \n",
       "1  Juice Bars & Smoothies, Food, Restaurants, Fas...  AyxTBqPJjYqlY55vfNfB2Q   \n",
       "2  Juice Bars & Smoothies, Food, Restaurants, Fas...  -KvhDluq5GhtiafY4xK2Sw   \n",
       "3  Juice Bars & Smoothies, Food, Restaurants, Fas...  75DUiVsWkGZRW--zySVORA   \n",
       "4  Juice Bars & Smoothies, Food, Restaurants, Fas...  z23KjDT_pUtORz4ptHnUAg   \n",
       "\n",
       "   review_stars                                               text  year  \n",
       "0           4.0  Pretty solid vegan spot. Had a rice bowl there...  2017  \n",
       "1           5.0  What a great spot for a delicious, healthy lun...  2015  \n",
       "2           2.0  I really do love Bolt Fresh Bar. I've gone the...  2018  \n",
       "3           4.0  The vibe: Clean, bright vegetarian take out!\\n...  2014  \n",
       "4           2.0  I went here once to get the protein bowl and i...  2017  "
      ]
     },
     "execution_count": 11,
     "metadata": {},
     "output_type": "execute_result"
    }
   ],
   "source": [
    "df.head()"
   ]
  },
  {
   "cell_type": "code",
   "execution_count": 5,
   "id": "8ec340ee-2822-48ba-980e-ddcd8fc44459",
   "metadata": {},
   "outputs": [
    {
     "data": {
      "text/plain": [
       "Chinese, Restaurants                                                                       4288\n",
       "Italian, Restaurants                                                                       2904\n",
       "Thai, Restaurants                                                                          2806\n",
       "Restaurants, Chinese                                                                       2792\n",
       "Restaurants, Korean                                                                        2685\n",
       "                                                                                           ... \n",
       "Food, Fast Food, Restaurants                                                                  1\n",
       "Chinese, Restaurants, Asian Fusion, Fast Food                                                 1\n",
       "Restaurants, Fast Food, Sandwiches, Salad, Food                                               1\n",
       "Breakfast & Brunch, Caterers, Sandwiches, Restaurants, Delis, Event Planning & Services       1\n",
       "Middle Eastern, Pizza, Food, Restaurants                                                      1\n",
       "Name: categories, Length: 4263, dtype: int64"
      ]
     },
     "execution_count": 5,
     "metadata": {},
     "output_type": "execute_result"
    }
   ],
   "source": [
    "df['categories'].value_counts()"
   ]
  },
  {
   "cell_type": "code",
   "execution_count": 10,
   "id": "6ab48b83-f334-4b2e-bcf6-d86159669196",
   "metadata": {},
   "outputs": [
    {
     "data": {
      "image/png": "[encoded data removed]",
      "text/plain": [
       "<Figure size 432x288 with 1 Axes>"
      ]
     },
     "metadata": {
      "needs_background": "light"
     },
     "output_type": "display_data"
    }
   ],
   "source": [
    "df['year', ].plot(kind = 'bar');"
   ]
  },
  {
   "cell_type": "code",
   "execution_count": 8,
   "id": "f675006e-7885-42f0-b5b0-7d711e8245ea",
   "metadata": {},
   "outputs": [
    {
     "data": {
      "text/plain": [
       "3.6361022942192256"
      ]
     },
     "execution_count": 8,
     "metadata": {},
     "output_type": "execute_result"
    }
   ],
   "source": [
    "df['stars'].mean()"
   ]
  },
  {
   "cell_type": "code",
   "execution_count": 9,
   "id": "ab9585a0-fdaa-41ce-9691-63aa05654345",
   "metadata": {},
   "outputs": [
    {
     "data": {
      "text/plain": [
       "3.630510648795329"
      ]
     },
     "execution_count": 9,
     "metadata": {},
     "output_type": "execute_result"
    }
   ],
   "source": [
    "df['review_stars'].mean()"
   ]
  },
  {
   "cell_type": "code",
   "execution_count": 7,
   "id": "f75fd276-d750-4faa-add9-e5028d4ea284",
   "metadata": {},
   "outputs": [
    {
     "data": {
      "image/png": "[encoded data removed]",
      "text/plain": [
       "<Figure size 432x288 with 1 Axes>"
      ]
     },
     "metadata": {
      "needs_background": "light"
     },
     "output_type": "display_data"
    }
   ],
   "source": [
    "df['categories'].value_counts().plot(kind = 'bar');"
   ]
  },
  {
   "cell_type": "code",
   "execution_count": null,
   "id": "5df91c04-54d9-4ef0-b3c8-65de3912d3e2",
   "metadata": {},
   "outputs": [],
   "source": [
    "df = df.groupby('product').agg({'score':'mean', 'source':'size', 'text': ', '.join})\n",
    "#change order of columns, create column from index values \n",
    "df = df.reindex_axis(['score','source','text'], axis=1).reset_index()\n",
    "#set new column names\n",
    "df.columns = ['product','mean_score','count','text_combined']\n",
    "print (df)"
   ]
  },
  {
   "cell_type": "code",
   "execution_count": null,
   "id": "43a7ccef-778c-46e7-8015-07ac305db950",
   "metadata": {},
   "outputs": [],
   "source": [
    "plt.figure(figsize = (12, 8))\n",
    "plt.plot(df['stars'].mean());"
   ]
  },
  {
   "cell_type": "code",
   "execution_count": null,
   "id": "8b56b162-13f3-4463-961d-04a4d0b15811",
   "metadata": {},
   "outputs": [],
   "source": [
    "# Distribution of Types of Restaurant Categories \n",
    "\n",
    "restaurant_categories = df.assign(categories = business_final.categories.str.split(', ')).explode('categories')\n",
    "top25_categories = restaurant_categories.categories.value_counts().head(7)\n",
    "\n",
    "fig, ax = plt.subplots(figsize=(14, 7))\n",
    "fig.suptitle('Top 5 Restaurant Categories in Toronto', fontsize=18)\n",
    "\n",
    "# Excluding the top 2 most generic categories: Restaurants & Food\n",
    "\n",
    "top25_categories[2:].plot(kind = 'bar', color = 'royalblue')\n",
    "\n",
    "plt.ylabel('Number of Businesses in Toronto', fontsize=15)\n",
    "plt.xlabel('Types of Restaurants', fontsize=15)\n",
    "plt.xticks(rotation=65)"
   ]
  },
  {
   "cell_type": "code",
   "execution_count": null,
   "id": "5dc19a1b-3d89-4736-8a19-193fda9d943b",
   "metadata": {},
   "outputs": [],
   "source": []
  },
  {
   "cell_type": "code",
   "execution_count": null,
   "id": "0d40650f-a9a7-43e2-a1da-69da322b266a",
   "metadata": {},
   "outputs": [],
   "source": []
  },
  {
   "cell_type": "code",
   "execution_count": null,
   "id": "0f6e9fca-3d36-4768-b659-be6a10e3d909",
   "metadata": {},
   "outputs": [],
   "source": []
  },
  {
   "cell_type": "code",
   "execution_count": null,
   "id": "dcb65d3a-70ca-4344-b63c-a1afd4ccb8ea",
   "metadata": {},
   "outputs": [],
   "source": []
  },
  {
   "cell_type": "code",
   "execution_count": null,
   "id": "35fb7f03-feb7-4ac2-bfa6-391f75f56419",
   "metadata": {},
   "outputs": [],
   "source": []
  },
  {
   "cell_type": "code",
   "execution_count": null,
   "id": "ffa63c0c-9094-415e-9e67-10b209d723e9",
   "metadata": {},
   "outputs": [],
   "source": []
  },
  {
   "cell_type": "code",
   "execution_count": null,
   "id": "cb6cb39a-dd88-46dd-8992-efb0d3cfbd01",
   "metadata": {},
   "outputs": [],
   "source": []
  },
  {
   "cell_type": "code",
   "execution_count": null,
   "id": "de874749-aea5-4fac-b95d-09105180fc05",
   "metadata": {},
   "outputs": [],
   "source": []
  },
  {
   "cell_type": "code",
   "execution_count": null,
   "id": "7382fbba-6aa1-4353-ba2f-d44de691088b",
   "metadata": {},
   "outputs": [],
   "source": []
  },
  {
   "cell_type": "code",
   "execution_count": 20,
   "id": "93ba0eb1-f65a-42bb-a9c0-c96ffd3cd024",
   "metadata": {},
   "outputs": [],
   "source": [
    "stop_words = text.ENGLISH_STOP_WORDS.union()\n",
    "\n",
    "#Select only stars and text\n",
    "reviews = df[['business_id', 'user_id', 'stars', 'text']]\n",
    "\n",
    "\n",
    "stop = []\n",
    "for word in stopwords.words('english'):\n",
    "    s = [char for char in word if char not in string.punctuation]\n",
    "    stop.append(''.join(s))\n",
    "\n",
    "# data visualization for top 10 words the dataset\n",
    "cvec = CountVectorizer()\n",
    "\n"
   ]
  },
  {
   "cell_type": "code",
   "execution_count": null,
   "id": "dae2efb9-d792-4770-833a-4d058959f486",
   "metadata": {},
   "outputs": [],
   "source": [
    "    \"\"\"\n",
    "    Takes in a string of text, then performs the following:\n",
    "    1. Remove all punctuation\n",
    "    2. Remove all stopwords\n",
    "    3. Returns a list of the cleaned text\n",
    "    \"\"\"\n",
    "    # Check characters to see if they are in punctuation\n",
    "    # Join the characters again to form the string.\n",
    "     # Now just remove any stopwords"
   ]
  },
  {
   "cell_type": "code",
   "execution_count": 28,
   "id": "f60d9279-561c-4bd4-9da1-6ddeafdd95c8",
   "metadata": {},
   "outputs": [
    {
     "name": "stderr",
     "output_type": "stream",
     "text": [
      "/var/folders/3p/bdw7d11x76q9r29tng0s109c0000gn/T/ipykernel_8517/1305777860.py:5: SettingWithCopyWarning: \n",
      "A value is trying to be set on a copy of a slice from a DataFrame.\n",
      "Try using .loc[row_indexer,col_indexer] = value instead\n",
      "\n",
      "See the caveats in the documentation: https://pandas.pydata.org/pandas-docs/stable/user_guide/indexing.html#returning-a-view-versus-a-copy\n",
      "  yelp_data['text'] = yelp_data['text'].apply(text_process)\n"
     ]
    }
   ],
   "source": [
    "def text_process(mess):\n",
    "    nopunc = [char for char in mess if char not in string.punctuation]\n",
    "    nopunc = ''.join(nopunc)\n",
    "    return \" \".join([word for word in nopunc.split() if word.lower() not in stop])\n",
    "yelp_data['text'] = yelp_data['text'].apply(text_process)"
   ]
  },
  {
   "cell_type": "code",
   "execution_count": 30,
   "id": "087d6a57-6f01-4025-9fc6-c093c960c59b",
   "metadata": {},
   "outputs": [],
   "source": [
    "userid_df = yelp_data[['user_id','text']]\n",
    "business_df = yelp_data[['business_id', 'text']]"
   ]
  },
  {
   "cell_type": "code",
   "execution_count": 31,
   "id": "d18d9bdc-7234-45cf-8ff1-a4d7df9bc879",
   "metadata": {},
   "outputs": [],
   "source": [
    "userid_df = userid_df.groupby('user_id').agg({'text': ' '.join})\n",
    "business_df = business_df.groupby('business_id').agg({'text': ' '.join})"
   ]
  },
  {
   "cell_type": "code",
   "execution_count": 32,
   "id": "d11ec1ec-92cb-4c29-bd4f-6d1e0e0fd113",
   "metadata": {},
   "outputs": [
    {
     "ename": "NameError",
     "evalue": "name 'WordPunctTokenizer' is not defined",
     "output_type": "error",
     "traceback": [
      "\u001b[0;31m---------------------------------------------------------------------------\u001b[0m",
      "\u001b[0;31mNameError\u001b[0m                                 Traceback (most recent call last)",
      "\u001b[0;32m/var/folders/3p/bdw7d11x76q9r29tng0s109c0000gn/T/ipykernel_8517/303534745.py\u001b[0m in \u001b[0;36m<module>\u001b[0;34m\u001b[0m\n\u001b[1;32m      1\u001b[0m \u001b[0;32mfrom\u001b[0m \u001b[0msklearn\u001b[0m\u001b[0;34m.\u001b[0m\u001b[0mfeature_extraction\u001b[0m\u001b[0;34m.\u001b[0m\u001b[0mtext\u001b[0m \u001b[0;32mimport\u001b[0m \u001b[0mTfidfVectorizer\u001b[0m\u001b[0;34m\u001b[0m\u001b[0;34m\u001b[0m\u001b[0m\n\u001b[1;32m      2\u001b[0m \u001b[0;31m#userid vectorizer\u001b[0m\u001b[0;34m\u001b[0m\u001b[0;34m\u001b[0m\u001b[0m\n\u001b[0;32m----> 3\u001b[0;31m \u001b[0muserid_vectorizer\u001b[0m \u001b[0;34m=\u001b[0m \u001b[0mTfidfVectorizer\u001b[0m\u001b[0;34m(\u001b[0m\u001b[0mtokenizer\u001b[0m \u001b[0;34m=\u001b[0m \u001b[0mWordPunctTokenizer\u001b[0m\u001b[0;34m(\u001b[0m\u001b[0;34m)\u001b[0m\u001b[0;34m.\u001b[0m\u001b[0mtokenize\u001b[0m\u001b[0;34m,\u001b[0m \u001b[0mmax_features\u001b[0m\u001b[0;34m=\u001b[0m\u001b[0;36m5000\u001b[0m\u001b[0;34m)\u001b[0m\u001b[0;34m\u001b[0m\u001b[0;34m\u001b[0m\u001b[0m\n\u001b[0m\u001b[1;32m      4\u001b[0m \u001b[0muserid_vectors\u001b[0m \u001b[0;34m=\u001b[0m \u001b[0muserid_vectorizer\u001b[0m\u001b[0;34m.\u001b[0m\u001b[0mfit_transform\u001b[0m\u001b[0;34m(\u001b[0m\u001b[0muserid_df\u001b[0m\u001b[0;34m[\u001b[0m\u001b[0;34m'text'\u001b[0m\u001b[0;34m]\u001b[0m\u001b[0;34m)\u001b[0m\u001b[0;34m\u001b[0m\u001b[0;34m\u001b[0m\u001b[0m\n\u001b[1;32m      5\u001b[0m \u001b[0;31m#Business id vectorizer\u001b[0m\u001b[0;34m\u001b[0m\u001b[0;34m\u001b[0m\u001b[0m\n",
      "\u001b[0;31mNameError\u001b[0m: name 'WordPunctTokenizer' is not defined"
     ]
    }
   ],
   "source": [
    "from sklearn.feature_extraction.text import TfidfVectorizer\n",
    "#userid vectorizer\n",
    "userid_vectorizer = TfidfVectorizer(tokenizer = WordPunctTokenizer().tokenize, max_features=5000)\n",
    "userid_vectors = userid_vectorizer.fit_transform(userid_df['text'])\n",
    "#Business id vectorizer\n",
    "businessid_vectorizer = TfidfVectorizer(tokenizer = WordPunctTokenizer().tokenize, max_features=5000)\n",
    "businessid_vectors = businessid_vectorizer.fit_transform(business_df['text'])"
   ]
  },
  {
   "cell_type": "code",
   "execution_count": 27,
   "id": "d181ff6f-b395-41f3-8498-cc0f974c2825",
   "metadata": {},
   "outputs": [],
   "source": [
    "userid_rating_matrix = pd.pivot_table(yelp_data, values='stars', index=['user_id'], columns=['business_id'])"
   ]
  },
  {
   "cell_type": "code",
   "execution_count": null,
   "id": "5a13eeda-7477-453a-a149-cb49248748f3",
   "metadata": {},
   "outputs": [],
   "source": []
  },
  {
   "cell_type": "code",
   "execution_count": null,
   "id": "72ae23ca-0ee2-4fec-af71-ae2e869b9037",
   "metadata": {},
   "outputs": [],
   "source": []
  },
  {
   "cell_type": "code",
   "execution_count": null,
   "id": "03df4d74-4fdb-4891-9181-e3f55772a7a9",
   "metadata": {},
   "outputs": [],
   "source": []
  },
  {
   "cell_type": "code",
   "execution_count": null,
   "id": "5ea35627-c7fd-46fb-ac39-e3cff35e9ee7",
   "metadata": {},
   "outputs": [],
   "source": []
  },
  {
   "cell_type": "code",
   "execution_count": 34,
   "id": "ca0ceae5-3d07-469d-b3f3-d3ce08b6f1e5",
   "metadata": {},
   "outputs": [],
   "source": []
  },
  {
   "cell_type": "code",
   "execution_count": null,
   "id": "c0a4eef1-6786-4731-8776-1b1128c519a7",
   "metadata": {},
   "outputs": [],
   "source": [
    "userid_df = yelp_data[['user_id','text']]\n",
    "business_df = yelp_data[['business_id', 'text']]"
   ]
  },
  {
   "cell_type": "code",
   "execution_count": null,
   "id": "61fe66d8-49af-4202-bfa7-a251119514bc",
   "metadata": {},
   "outputs": [],
   "source": [
    "X = yelp_data[['user_id','text']]\n",
    "y = yelp_data[['business_id', 'text']]\n",
    "\n",
    "X_train, X_test, y_train, y_test = train_test_split(X,\n",
    "                                                    y,\n",
    "                                                    test_size=0.33,\n",
    "                                                    stratify=y,\n",
    "                                                    random_state=42)\n",
    "\n",
    "# Fit & transform the vectorizer \n",
    "Xcvec_train = cvec.fit_transform(X_train)\n",
    "\n",
    "# Transform\n",
    "Xcvec_test = cvec.transform(X_test)"
   ]
  },
  {
   "cell_type": "code",
   "execution_count": null,
   "id": "dc0bb7c1-f332-468e-9b25-75a61b8c0528",
   "metadata": {},
   "outputs": [],
   "source": [
    "\n",
    "# for retail\n",
    "Xcv_train_df = pd.DataFrame(Xcvec_train.toarray(), \n",
    "                          columns=cvec.get_feature_names())\n",
    "Xcv_train_df.head()\n",
    "\n",
    "# plot top occuring words\n",
    "Xcv_train_df.sum().sort_values(ascending = False).head(10).plot(kind = 'barh');"
   ]
  },
  {
   "cell_type": "code",
   "execution_count": null,
   "id": "c65eb9c6-ef06-4a60-89fc-7d51a51ec4ac",
   "metadata": {},
   "outputs": [],
   "source": [
    "train['is_retail'] = train['subreddit'].map({'talesfromtechsupport':0, 'TalesFromRetail':1})\n"
   ]
  },
  {
   "cell_type": "code",
   "execution_count": null,
   "id": "70274981-d431-498c-a34d-edaf5f6cecb7",
   "metadata": {},
   "outputs": [],
   "source": [
    "# set target dataframe\n",
    "df_train = train[['is_retail', 'author', 'title_length', 'title_word_count', 'post']]"
   ]
  },
  {
   "cell_type": "code",
   "execution_count": null,
   "id": "f32e4795-933d-443c-b1c2-f7e7f6d74ebd",
   "metadata": {},
   "outputs": [],
   "source": [
    "\n",
    "retail['title_length'].hist();"
   ]
  },
  {
   "cell_type": "code",
   "execution_count": null,
   "id": "2681cc0e-c95c-4ae4-a82c-617538fa8f5b",
   "metadata": {},
   "outputs": [],
   "source": [
    "y8 = retail['title_length']\n",
    "y9 = tech['title_length']\n",
    "colors = ['b','g']\n",
    "\n",
    "#plots the histogram\n",
    "fig, ax9 = plt.subplots()\n",
    "ax9.hist([y8,y9],color=colors)\n",
    "ax9.set_xlim(0,150)\n",
    "ax9.set_xlabel(\"Length\")\n",
    "ax9.set_ylabel(\"Count\")\n",
    "plt.title('Title Length in Subreddits')\n",
    "plt.tight_layout()\n",
    "plt.show()"
   ]
  },
  {
   "cell_type": "code",
   "execution_count": null,
   "id": "385056d8-5a82-41e8-8746-e67df43bf1a0",
   "metadata": {},
   "outputs": [],
   "source": [
    "unique_users = df_train.drop(columns = ['title_length', 'title_word_count'])"
   ]
  },
  {
   "cell_type": "code",
   "execution_count": null,
   "id": "09aea520-a4e1-4808-85d2-6e7fe1a7e486",
   "metadata": {},
   "outputs": [],
   "source": [
    "unique_users.drop_duplicates(subset = 'author', inplace = True)\n",
    "unique_users.shape"
   ]
  },
  {
   "cell_type": "code",
   "execution_count": null,
   "id": "235e5869-729a-4d6f-9aa9-ca2c5842affa",
   "metadata": {},
   "outputs": [],
   "source": [
    "\n",
    "sns.pairplot(train[['title_length', 'title_word_count']])"
   ]
  },
  {
   "cell_type": "code",
   "execution_count": null,
   "id": "bededa63-d4c5-4614-a484-aae63c88cd2c",
   "metadata": {},
   "outputs": [],
   "source": [
    "\n",
    "# display 'phone' in title\n",
    "train[train['title'].str.lower().str.contains('phone')]"
   ]
  },
  {
   "cell_type": "code",
   "execution_count": null,
   "id": "9636ec8a-e010-472a-b03c-c65b16e61617",
   "metadata": {},
   "outputs": [],
   "source": [
    "df_train['is_retail'].value_counts(normalize=True)"
   ]
  },
  {
   "cell_type": "code",
   "execution_count": null,
   "id": "18217c3b-6183-4b85-81c7-371debd3b5ff",
   "metadata": {},
   "outputs": [],
   "source": [
    "\n",
    "positive_words = ['positive', 'good', 'happy', 'great', 'love', 'beneficial', 'fun', 'cool', 'awesome']\n",
    "negative_words = ['manager', 'fired', 'terrible', 'hate', 'garbage', 'horrendous', 'yuck', 'disaster']"
   ]
  },
  {
   "cell_type": "code",
   "execution_count": null,
   "id": "5508b20a-c273-43f2-a6e3-469a4202383c",
   "metadata": {},
   "outputs": [],
   "source": [
    "\n",
    "# convert created 'post' column to a list of strings:\n",
    "\n",
    "text = list(df_train['post'])\n",
    "\n",
    "# text[1] - coded out to reduce space"
   ]
  },
  {
   "cell_type": "code",
   "execution_count": null,
   "id": "29e645f9-6692-4697-995a-6a7aa69de2a3",
   "metadata": {},
   "outputs": [],
   "source": [
    "# create first sentiment test\n",
    "sent_senti = text[1]"
   ]
  },
  {
   "cell_type": "code",
   "execution_count": null,
   "id": "e9e24dff-b8f8-4948-ab30-f8dbb979a919",
   "metadata": {},
   "outputs": [],
   "source": [
    "def simple_sentiment(sent_senti):\n",
    "    # Instantiate tokenizer.\n",
    "    tokenizer = RegexpTokenizer(r'\\w+')  \n",
    "    # Tokenize text.\n",
    "    tokens = tokenizer.tokenize(sent_senti.lower()) \n",
    "    # Instantiate stemmer.\n",
    "    p_stemmer = PorterStemmer()\n",
    "    # Stem words.\n",
    "    stemmed_words = [p_stemmer.stem(i) for i in tokens]\n",
    "    # Stem our positive/negative words.\n",
    "    positive_stems = [p_stemmer.stem(i) for i in positive_words]\n",
    "    negative_stems = [p_stemmer.stem(i) for i in negative_words]\n",
    "\n",
    "    # Count \"positive\" words.\n",
    "    positive_count = sum([1 for i in stemmed_words if i in positive_stems])\n",
    "    # Count \"negative\" words\n",
    "    negative_count = sum([1 for i in stemmed_words if i in negative_stems])\n",
    "    \n",
    "    # Calculate Sentiment Percentage \n",
    "    return round((positive_count - negative_count) / len(tokens), 5 )"
   ]
  },
  {
   "cell_type": "code",
   "execution_count": null,
   "id": "97eb11eb-048f-4707-b3a9-892131eca833",
   "metadata": {},
   "outputs": [],
   "source": [
    "\n",
    "# Run our sentiment analyzer on our first sentence.\n",
    "simple_sentiment(sent_senti)"
   ]
  },
  {
   "cell_type": "code",
   "execution_count": null,
   "id": "5decc40a-e01c-4595-b96b-145952e9456b",
   "metadata": {},
   "outputs": [],
   "source": []
  },
  {
   "cell_type": "code",
   "execution_count": null,
   "id": "2783a038-a885-437e-b275-391be982b98f",
   "metadata": {},
   "outputs": [],
   "source": []
  },
  {
   "cell_type": "code",
   "execution_count": null,
   "id": "96eeec07-528b-425e-9dd7-93fc79058c5a",
   "metadata": {},
   "outputs": [],
   "source": []
  },
  {
   "cell_type": "code",
   "execution_count": null,
   "id": "c4a9c10c-3e88-44ed-805f-5f5e07241554",
   "metadata": {},
   "outputs": [],
   "source": []
  },
  {
   "cell_type": "code",
   "execution_count": null,
   "id": "49945a13-ea62-456d-b931-9ba63e6d5f44",
   "metadata": {},
   "outputs": [],
   "source": []
  },
  {
   "cell_type": "code",
   "execution_count": null,
   "id": "4af225fb-5c43-467d-861d-b0f01e76bf29",
   "metadata": {},
   "outputs": [],
   "source": []
  },
  {
   "cell_type": "code",
   "execution_count": null,
   "id": "30ccef8b-3ea1-46a5-8a1b-f7a89d1e2838",
   "metadata": {},
   "outputs": [],
   "source": []
  },
  {
   "cell_type": "code",
   "execution_count": null,
   "id": "8a9cf1e4-4352-474d-a63d-8f3408737cf5",
   "metadata": {},
   "outputs": [],
   "source": []
  },
  {
   "cell_type": "code",
   "execution_count": null,
   "id": "73cce753-9330-41c7-98bd-014e0624d78d",
   "metadata": {},
   "outputs": [],
   "source": []
  },
  {
   "cell_type": "code",
   "execution_count": null,
   "id": "b4de794c-66a9-48d3-adc7-32551d3507ad",
   "metadata": {},
   "outputs": [],
   "source": []
  },
  {
   "cell_type": "code",
   "execution_count": null,
   "id": "f4c70ded-f1bf-4965-9bf6-0bc76d2b8b66",
   "metadata": {},
   "outputs": [],
   "source": []
  },
  {
   "cell_type": "code",
   "execution_count": null,
   "id": "5d0625d8-2ee6-4218-9d81-5800c59a0dc3",
   "metadata": {},
   "outputs": [],
   "source": []
  },
  {
   "cell_type": "code",
   "execution_count": null,
   "id": "5ef5da38-dd15-490b-839a-c527309ae05d",
   "metadata": {},
   "outputs": [],
   "source": []
  },
  {
   "cell_type": "code",
   "execution_count": null,
   "id": "019445fb-ca31-4e0b-8d2e-41803f818be8",
   "metadata": {},
   "outputs": [],
   "source": []
  },
  {
   "cell_type": "code",
   "execution_count": null,
   "id": "058f9c8f-6e97-4383-9704-6e82fc9816bd",
   "metadata": {},
   "outputs": [],
   "source": []
  },
  {
   "cell_type": "code",
   "execution_count": null,
   "id": "3931d74f-31d6-47b0-9ee2-ac3f41e03b00",
   "metadata": {},
   "outputs": [],
   "source": []
  },
  {
   "cell_type": "code",
   "execution_count": null,
   "id": "88ae2f94-f28a-4c17-a981-bce50cb7402a",
   "metadata": {},
   "outputs": [],
   "source": []
  },
  {
   "cell_type": "code",
   "execution_count": null,
   "id": "d9358f15-fd80-4f86-82d9-d4dccf06c95c",
   "metadata": {},
   "outputs": [],
   "source": []
  },
  {
   "cell_type": "code",
   "execution_count": null,
   "id": "01a5abc2-f432-4f1c-83b4-1fbc864b96b9",
   "metadata": {},
   "outputs": [],
   "source": []
  },
  {
   "cell_type": "code",
   "execution_count": null,
   "id": "2e962633-d3a1-4a74-9fb1-81501a071be2",
   "metadata": {},
   "outputs": [],
   "source": []
  },
  {
   "cell_type": "code",
   "execution_count": null,
   "id": "2ce72ff1-d7af-464b-b81d-d679640f116a",
   "metadata": {},
   "outputs": [],
   "source": []
  },
  {
   "cell_type": "code",
   "execution_count": null,
   "id": "fe337792-50f6-42dd-9688-b0cc5ee8a2a0",
   "metadata": {},
   "outputs": [],
   "source": []
  },
  {
   "cell_type": "code",
   "execution_count": null,
   "id": "d7bbcb95-d802-468d-8f7c-f5593f6f230b",
   "metadata": {},
   "outputs": [],
   "source": []
  },
  {
   "cell_type": "code",
   "execution_count": null,
   "id": "8a5cff7c-c0d9-430c-82ae-9b933fe6513a",
   "metadata": {},
   "outputs": [],
   "source": []
  },
  {
   "cell_type": "code",
   "execution_count": null,
   "id": "97bbe878-7600-4bde-973a-7957847e6fef",
   "metadata": {},
   "outputs": [],
   "source": []
  },
  {
   "cell_type": "code",
   "execution_count": null,
   "id": "7530fb32-74d4-4924-92f8-8040ac446a2c",
   "metadata": {},
   "outputs": [],
   "source": []
  },
  {
   "cell_type": "code",
   "execution_count": null,
   "id": "814c6120-91a1-407a-80ca-0860db7c3ab2",
   "metadata": {},
   "outputs": [],
   "source": []
  },
  {
   "cell_type": "code",
   "execution_count": null,
   "id": "3f5eacea-1e69-46f2-9525-466412e31bdc",
   "metadata": {},
   "outputs": [],
   "source": []
  },
  {
   "cell_type": "code",
   "execution_count": null,
   "id": "c18d559c-eb37-4922-920f-64fae5afd790",
   "metadata": {},
   "outputs": [],
   "source": []
  },
  {
   "cell_type": "code",
   "execution_count": null,
   "id": "a50be8cb-3928-4ad3-a525-83383c8f8f02",
   "metadata": {},
   "outputs": [],
   "source": []
  },
  {
   "cell_type": "code",
   "execution_count": null,
   "id": "5fa3b061-408d-4e1a-a80a-e6fe3441ea3e",
   "metadata": {},
   "outputs": [],
   "source": []
  },
  {
   "cell_type": "code",
   "execution_count": null,
   "id": "88d2755f-1bfb-4696-b180-4abcc41100e9",
   "metadata": {},
   "outputs": [],
   "source": []
  },
  {
   "cell_type": "code",
   "execution_count": null,
   "id": "aca20efa-1661-4a97-b943-e4abddc12076",
   "metadata": {},
   "outputs": [],
   "source": []
  },
  {
   "cell_type": "code",
   "execution_count": null,
   "id": "3cafbd75-4180-4ff5-8786-5391586e016c",
   "metadata": {},
   "outputs": [],
   "source": []
  },
  {
   "cell_type": "code",
   "execution_count": null,
   "id": "f3f20ed2-0ede-4766-9aa5-4d3e187fc707",
   "metadata": {},
   "outputs": [],
   "source": []
  },
  {
   "cell_type": "code",
   "execution_count": null,
   "id": "67a639ba-f920-4984-b4df-b9224102df58",
   "metadata": {},
   "outputs": [],
   "source": []
  },
  {
   "cell_type": "code",
   "execution_count": null,
   "id": "8af7ea5c-775c-4ad0-b6c5-62134106e92f",
   "metadata": {},
   "outputs": [],
   "source": []
  },
  {
   "cell_type": "code",
   "execution_count": null,
   "id": "4937541a-5a24-4cdc-b565-38173c39948c",
   "metadata": {},
   "outputs": [],
   "source": []
  },
  {
   "cell_type": "code",
   "execution_count": null,
   "id": "f42f322e-8369-49a8-b2e3-fbdacf426922",
   "metadata": {},
   "outputs": [],
   "source": []
  },
  {
   "cell_type": "code",
   "execution_count": null,
   "id": "75e1047f-fd0d-4854-8134-99a06c605a8b",
   "metadata": {},
   "outputs": [],
   "source": []
  },
  {
   "cell_type": "code",
   "execution_count": null,
   "id": "bea51cd3-d15f-45e5-97a2-c5febc47d52e",
   "metadata": {},
   "outputs": [],
   "source": []
  },
  {
   "cell_type": "code",
   "execution_count": null,
   "id": "897cd827-17ce-408b-8755-15e1f8d9fdb7",
   "metadata": {},
   "outputs": [],
   "source": []
  },
  {
   "cell_type": "code",
   "execution_count": null,
   "id": "196deee9-97a7-41b2-a3fc-bdcb47eb59ce",
   "metadata": {},
   "outputs": [],
   "source": []
  },
  {
   "cell_type": "code",
   "execution_count": null,
   "id": "55a6b516-b8eb-4e69-87db-de1e40e917c3",
   "metadata": {},
   "outputs": [],
   "source": []
  },
  {
   "cell_type": "code",
   "execution_count": null,
   "id": "77e10dad-bf6b-4b6b-887f-ba2ec8d9537b",
   "metadata": {},
   "outputs": [],
   "source": []
  },
  {
   "cell_type": "code",
   "execution_count": null,
   "id": "06b9ae5f-276e-4bf4-a5c4-4549ca2b374a",
   "metadata": {},
   "outputs": [],
   "source": []
  },
  {
   "cell_type": "code",
   "execution_count": null,
   "id": "50385c3e-7f4b-4007-899e-70efc782e4b5",
   "metadata": {},
   "outputs": [],
   "source": []
  },
  {
   "cell_type": "code",
   "execution_count": null,
   "id": "6dff3681-a8f3-4897-a430-65a84a40d1b2",
   "metadata": {},
   "outputs": [],
   "source": []
  },
  {
   "cell_type": "code",
   "execution_count": null,
   "id": "a0b20a6c-adda-4fcd-87ed-917f9f228a9b",
   "metadata": {},
   "outputs": [],
   "source": []
  },
  {
   "cell_type": "code",
   "execution_count": null,
   "id": "2658229b-7d48-46c5-b1c3-98a44d374282",
   "metadata": {},
   "outputs": [],
   "source": []
  },
  {
   "cell_type": "code",
   "execution_count": null,
   "id": "853e6efd-27b8-46ec-a0db-f2fa49e790e9",
   "metadata": {},
   "outputs": [],
   "source": []
  },
  {
   "cell_type": "code",
   "execution_count": null,
   "id": "8227c27e-0f38-4aac-9e62-c9d4cdf0a81c",
   "metadata": {},
   "outputs": [],
   "source": []
  },
  {
   "cell_type": "code",
   "execution_count": null,
   "id": "319414c0-0869-44e3-a921-fca549bb2209",
   "metadata": {},
   "outputs": [],
   "source": []
  },
  {
   "cell_type": "code",
   "execution_count": null,
   "id": "ae291258-5957-4f12-bab0-9456d1e94ea0",
   "metadata": {},
   "outputs": [],
   "source": []
  },
  {
   "cell_type": "code",
   "execution_count": null,
   "id": "f1689518-c147-481f-b107-73b6a6864e41",
   "metadata": {},
   "outputs": [],
   "source": []
  },
  {
   "cell_type": "code",
   "execution_count": null,
   "id": "a3d2db77-5281-4b9e-afa8-09f856429667",
   "metadata": {},
   "outputs": [],
   "source": []
  },
  {
   "cell_type": "code",
   "execution_count": null,
   "id": "37ce7848-faa2-42f4-b8e4-18f63e80a61b",
   "metadata": {},
   "outputs": [],
   "source": []
  },
  {
   "cell_type": "code",
   "execution_count": null,
   "id": "676115c9-0628-4386-bc90-27a13a0510be",
   "metadata": {},
   "outputs": [],
   "source": []
  },
  {
   "cell_type": "code",
   "execution_count": null,
   "id": "91cad8d4-b745-4fe5-bb1c-c8b4bb06c158",
   "metadata": {},
   "outputs": [],
   "source": []
  },
  {
   "cell_type": "code",
   "execution_count": null,
   "id": "0a3e24db-800b-436f-96fd-09d94175367a",
   "metadata": {},
   "outputs": [],
   "source": []
  },
  {
   "cell_type": "code",
   "execution_count": null,
   "id": "6e55f7f9-cd72-426d-8eab-8ac01f29b924",
   "metadata": {},
   "outputs": [],
   "source": []
  },
  {
   "cell_type": "code",
   "execution_count": null,
   "id": "85f95cd4-aad7-4f14-8e4d-bdaceadd7c96",
   "metadata": {},
   "outputs": [],
   "source": []
  },
  {
   "cell_type": "code",
   "execution_count": null,
   "id": "38b90bf7-d8c9-485c-a938-5ead60ed07b7",
   "metadata": {},
   "outputs": [],
   "source": []
  },
  {
   "cell_type": "code",
   "execution_count": null,
   "id": "b193d8f3-6005-40e9-a909-6e6b71dae923",
   "metadata": {},
   "outputs": [],
   "source": []
  },
  {
   "cell_type": "code",
   "execution_count": null,
   "id": "0a20a5c4-fe44-48a9-a78a-078533bac18d",
   "metadata": {},
   "outputs": [],
   "source": []
  },
  {
   "cell_type": "code",
   "execution_count": null,
   "id": "3b30aff4-06d7-43a3-ae95-6bea2f6413bd",
   "metadata": {},
   "outputs": [],
   "source": []
  },
  {
   "cell_type": "code",
   "execution_count": null,
   "id": "8a4a190b-f984-4f60-a2cc-32ca27278d09",
   "metadata": {},
   "outputs": [],
   "source": []
  },
  {
   "cell_type": "code",
   "execution_count": null,
   "id": "41882d16-95a0-468f-a330-2b317885700e",
   "metadata": {},
   "outputs": [],
   "source": []
  },
  {
   "cell_type": "code",
   "execution_count": null,
   "id": "c8847132-db6e-4603-a596-c0cd0df48e65",
   "metadata": {},
   "outputs": [],
   "source": []
  },
  {
   "cell_type": "code",
   "execution_count": null,
   "id": "1aefeca7-eb7a-42b8-bb9c-9ca5bc0eae49",
   "metadata": {},
   "outputs": [],
   "source": []
  },
  {
   "cell_type": "code",
   "execution_count": null,
   "id": "345d1ca6-2060-4a67-9d4c-2e67432bff57",
   "metadata": {},
   "outputs": [],
   "source": []
  },
  {
   "cell_type": "code",
   "execution_count": null,
   "id": "eab802c9-ff79-4d37-80a7-3e988f551d41",
   "metadata": {},
   "outputs": [],
   "source": []
  },
  {
   "cell_type": "code",
   "execution_count": null,
   "id": "1b7922f2-5885-41ca-aa1b-2cc9b4547b36",
   "metadata": {},
   "outputs": [],
   "source": []
  },
  {
   "cell_type": "code",
   "execution_count": null,
   "id": "448adfc5-2846-404e-8d64-03a32695d24e",
   "metadata": {},
   "outputs": [],
   "source": []
  },
  {
   "cell_type": "code",
   "execution_count": null,
   "id": "3a539d24-1db4-445c-be1c-55f723d28953",
   "metadata": {},
   "outputs": [],
   "source": []
  },
  {
   "cell_type": "code",
   "execution_count": null,
   "id": "5c48a066-6261-4ab1-b00d-ab73933c1825",
   "metadata": {},
   "outputs": [],
   "source": []
  },
  {
   "cell_type": "code",
   "execution_count": null,
   "id": "d9d51668-fe13-40bf-940b-aa1048025549",
   "metadata": {},
   "outputs": [],
   "source": []
  },
  {
   "cell_type": "code",
   "execution_count": null,
   "id": "24b3e3d9-95f6-453e-9e5c-a85de59a3fbf",
   "metadata": {},
   "outputs": [],
   "source": []
  },
  {
   "cell_type": "code",
   "execution_count": null,
   "id": "2c0efaac-d035-46d8-b38d-cafbfb37397c",
   "metadata": {},
   "outputs": [],
   "source": []
  },
  {
   "cell_type": "code",
   "execution_count": null,
   "id": "88c09f4b-a06d-4c20-859e-be8e556626ea",
   "metadata": {},
   "outputs": [],
   "source": []
  },
  {
   "cell_type": "code",
   "execution_count": null,
   "id": "3b45d79f-f16a-4680-a485-90a5948d782c",
   "metadata": {},
   "outputs": [],
   "source": []
  },
  {
   "cell_type": "code",
   "execution_count": null,
   "id": "fd2f8d9f-1723-41e4-9ec1-11b97c181297",
   "metadata": {},
   "outputs": [],
   "source": []
  },
  {
   "cell_type": "code",
   "execution_count": null,
   "id": "20642ef4-d8a1-48e6-996f-8495bda45664",
   "metadata": {},
   "outputs": [],
   "source": []
  },
  {
   "cell_type": "code",
   "execution_count": null,
   "id": "8f84b52c-7acf-4315-8575-5951c9ad0f7f",
   "metadata": {},
   "outputs": [],
   "source": []
  },
  {
   "cell_type": "code",
   "execution_count": null,
   "id": "32a5c6d1-1e6a-48cb-8623-4a19ed2564f4",
   "metadata": {},
   "outputs": [],
   "source": []
  },
  {
   "cell_type": "code",
   "execution_count": null,
   "id": "d6fec351-9bc4-43e5-9cc6-9ee06a6b53cc",
   "metadata": {},
   "outputs": [],
   "source": []
  },
  {
   "cell_type": "code",
   "execution_count": null,
   "id": "f74726f8-5030-4ea1-9816-04ed8a33d44d",
   "metadata": {},
   "outputs": [],
   "source": []
  },
  {
   "cell_type": "code",
   "execution_count": null,
   "id": "1985a85d-bf2e-4bfb-a955-29001a3f0f89",
   "metadata": {},
   "outputs": [],
   "source": []
  },
  {
   "cell_type": "code",
   "execution_count": null,
   "id": "e24bce67-0a05-40f9-a17e-f3fa9d4ea09c",
   "metadata": {},
   "outputs": [],
   "source": []
  },
  {
   "cell_type": "code",
   "execution_count": null,
   "id": "fed54cbb-75a0-4a6b-a90b-99fe44ecb28b",
   "metadata": {},
   "outputs": [],
   "source": []
  },
  {
   "cell_type": "code",
   "execution_count": null,
   "id": "b08cbdc4-f026-420d-b318-98d1477d7ac8",
   "metadata": {},
   "outputs": [],
   "source": []
  },
  {
   "cell_type": "code",
   "execution_count": null,
   "id": "8e6476e7-0024-46ca-96ba-b14c3ef528ec",
   "metadata": {},
   "outputs": [],
   "source": []
  },
  {
   "cell_type": "code",
   "execution_count": null,
   "id": "89426cd0-3d3e-4432-8b5d-1bcb78461852",
   "metadata": {},
   "outputs": [],
   "source": []
  },
  {
   "cell_type": "code",
   "execution_count": null,
   "id": "3ea288f3-3210-45e5-8671-a39a8724dfb9",
   "metadata": {},
   "outputs": [],
   "source": []
  },
  {
   "cell_type": "code",
   "execution_count": null,
   "id": "308e887f-a666-4791-97cf-614e85563793",
   "metadata": {},
   "outputs": [],
   "source": []
  },
  {
   "cell_type": "code",
   "execution_count": null,
   "id": "c2403b43-80e5-4858-b3c4-536351b19369",
   "metadata": {},
   "outputs": [],
   "source": []
  },
  {
   "cell_type": "code",
   "execution_count": null,
   "id": "c167683d-230e-4a7a-a53a-c537346f27c2",
   "metadata": {},
   "outputs": [],
   "source": []
  },
  {
   "cell_type": "code",
   "execution_count": null,
   "id": "51be5ce1-e5bb-4468-b32e-c76da2ef449e",
   "metadata": {},
   "outputs": [],
   "source": []
  },
  {
   "cell_type": "code",
   "execution_count": null,
   "id": "468370f0-d961-419f-a19c-d37c3af00528",
   "metadata": {},
   "outputs": [],
   "source": []
  },
  {
   "cell_type": "code",
   "execution_count": null,
   "id": "84cbacc3-4eab-4f51-92e3-26283edc0c6c",
   "metadata": {},
   "outputs": [],
   "source": []
  },
  {
   "cell_type": "code",
   "execution_count": null,
   "id": "06ddb3f9-4199-4880-bb2b-7b29314b88f8",
   "metadata": {},
   "outputs": [],
   "source": []
  },
  {
   "cell_type": "code",
   "execution_count": null,
   "id": "18132d7b-c3bf-4b6a-a416-ecb4162e6fcc",
   "metadata": {},
   "outputs": [],
   "source": []
  },
  {
   "cell_type": "code",
   "execution_count": null,
   "id": "28dbfaba-d4eb-47af-9cb7-2ec104279077",
   "metadata": {},
   "outputs": [],
   "source": []
  },
  {
   "cell_type": "code",
   "execution_count": null,
   "id": "57cc94e9-d5d7-43a6-b418-cece2e5135e8",
   "metadata": {},
   "outputs": [],
   "source": []
  },
  {
   "cell_type": "code",
   "execution_count": null,
   "id": "07dd0401-77e0-46e4-aef2-b1a49e9c175b",
   "metadata": {},
   "outputs": [],
   "source": []
  },
  {
   "cell_type": "code",
   "execution_count": null,
   "id": "5e9fa820-c569-48e8-aea9-f6d4b6fac5ed",
   "metadata": {},
   "outputs": [],
   "source": []
  },
  {
   "cell_type": "code",
   "execution_count": null,
   "id": "86cbd9f1-c3fb-402b-aa90-183c345dc0b0",
   "metadata": {},
   "outputs": [],
   "source": []
  },
  {
   "cell_type": "code",
   "execution_count": null,
   "id": "cad41173-cf68-44da-8e6b-da9e9d2cb85e",
   "metadata": {},
   "outputs": [],
   "source": []
  },
  {
   "cell_type": "code",
   "execution_count": null,
   "id": "48ee94be-ce70-4220-bbf9-1839f7086f5b",
   "metadata": {},
   "outputs": [],
   "source": []
  },
  {
   "cell_type": "code",
   "execution_count": null,
   "id": "c4bc71d8-799c-4811-9d9f-db27b29674f8",
   "metadata": {},
   "outputs": [],
   "source": []
  },
  {
   "cell_type": "code",
   "execution_count": null,
   "id": "da25c8ce-43ed-4199-ba15-d8408917f849",
   "metadata": {},
   "outputs": [],
   "source": []
  },
  {
   "cell_type": "code",
   "execution_count": null,
   "id": "2c40bb57-c027-4b14-a069-963dec4118af",
   "metadata": {},
   "outputs": [],
   "source": []
  },
  {
   "cell_type": "code",
   "execution_count": null,
   "id": "f32456b7-474a-45ba-9931-c24937e5fffd",
   "metadata": {},
   "outputs": [],
   "source": []
  },
  {
   "cell_type": "code",
   "execution_count": null,
   "id": "4a393cd5-c1cf-45df-92b5-ac1ceb570458",
   "metadata": {},
   "outputs": [],
   "source": []
  },
  {
   "cell_type": "code",
   "execution_count": null,
   "id": "5c87d242-19ed-4152-8b9e-fb7f0a2a1c3e",
   "metadata": {},
   "outputs": [],
   "source": []
  },
  {
   "cell_type": "code",
   "execution_count": null,
   "id": "39b3ed3a-8bc6-4d55-8538-c8d44f3c6715",
   "metadata": {},
   "outputs": [],
   "source": []
  },
  {
   "cell_type": "code",
   "execution_count": null,
   "id": "e8a6673e-f61c-43c2-a1a5-3a585842201d",
   "metadata": {},
   "outputs": [],
   "source": []
  },
  {
   "cell_type": "code",
   "execution_count": null,
   "id": "0776a565-922f-41fe-be07-ecc7da752b2f",
   "metadata": {},
   "outputs": [],
   "source": []
  },
  {
   "cell_type": "code",
   "execution_count": null,
   "id": "1b605afd-a728-4dd6-9762-ac87b3e822ca",
   "metadata": {},
   "outputs": [],
   "source": []
  },
  {
   "cell_type": "code",
   "execution_count": null,
   "id": "982a74e4-f4f4-4eb7-a457-305a649f8be8",
   "metadata": {},
   "outputs": [],
   "source": []
  },
  {
   "cell_type": "code",
   "execution_count": null,
   "id": "68787c13-aada-416b-87db-de021a66e721",
   "metadata": {},
   "outputs": [],
   "source": []
  },
  {
   "cell_type": "code",
   "execution_count": null,
   "id": "186b5db3-d6f9-45b9-85e4-d86aca84050e",
   "metadata": {},
   "outputs": [],
   "source": []
  },
  {
   "cell_type": "code",
   "execution_count": null,
   "id": "4f8f354f-e8b0-427b-9ecb-4ce11f71ff32",
   "metadata": {},
   "outputs": [],
   "source": []
  },
  {
   "cell_type": "code",
   "execution_count": null,
   "id": "30ec965b-0a09-4043-8edf-9697c046cf19",
   "metadata": {},
   "outputs": [],
   "source": []
  },
  {
   "cell_type": "code",
   "execution_count": null,
   "id": "648867fb-7cca-48be-b332-ba68e23b10b6",
   "metadata": {},
   "outputs": [],
   "source": []
  },
  {
   "cell_type": "code",
   "execution_count": null,
   "id": "74e30864-501a-4f8a-9599-ffd389bf7b3c",
   "metadata": {},
   "outputs": [],
   "source": []
  },
  {
   "cell_type": "code",
   "execution_count": null,
   "id": "8548bfa1-d8b2-424e-9e66-15fc89d490cb",
   "metadata": {},
   "outputs": [],
   "source": []
  },
  {
   "cell_type": "code",
   "execution_count": null,
   "id": "0da3fb4f-a068-4920-8356-cc36d9a66146",
   "metadata": {},
   "outputs": [],
   "source": []
  },
  {
   "cell_type": "code",
   "execution_count": null,
   "id": "4f039046-6637-470f-a59a-c87597a95676",
   "metadata": {},
   "outputs": [],
   "source": []
  },
  {
   "cell_type": "code",
   "execution_count": null,
   "id": "14b53c21-29b7-4197-a519-391c35c1b0b1",
   "metadata": {},
   "outputs": [],
   "source": []
  },
  {
   "cell_type": "code",
   "execution_count": null,
   "id": "1a0d65b6-38bf-4c1f-b060-7dfa4644001b",
   "metadata": {},
   "outputs": [],
   "source": []
  },
  {
   "cell_type": "code",
   "execution_count": null,
   "id": "8861c05c-685c-4600-bfd7-afcb51fdcb19",
   "metadata": {},
   "outputs": [],
   "source": []
  },
  {
   "cell_type": "code",
   "execution_count": null,
   "id": "e962a416-fad9-42cf-b6a3-c2983476c522",
   "metadata": {},
   "outputs": [],
   "source": []
  },
  {
   "cell_type": "code",
   "execution_count": null,
   "id": "2cda8076-9e4f-427c-ae44-321e100a3793",
   "metadata": {},
   "outputs": [],
   "source": []
  },
  {
   "cell_type": "code",
   "execution_count": null,
   "id": "18f3a516-2e87-4190-8664-dc2e18c15898",
   "metadata": {},
   "outputs": [],
   "source": []
  },
  {
   "cell_type": "code",
   "execution_count": null,
   "id": "6c629ddf-6f6c-46d1-80fc-a9c1ea5dc83f",
   "metadata": {},
   "outputs": [],
   "source": []
  },
  {
   "cell_type": "code",
   "execution_count": null,
   "id": "1e6b34e4-6e1e-4553-9952-04942aaa1f28",
   "metadata": {},
   "outputs": [],
   "source": []
  },
  {
   "cell_type": "code",
   "execution_count": null,
   "id": "a5275283-60eb-48d3-8e25-026b1d21ace0",
   "metadata": {},
   "outputs": [],
   "source": []
  },
  {
   "cell_type": "code",
   "execution_count": null,
   "id": "d1a966e1-3c03-48f5-a7fc-1c4252fe581f",
   "metadata": {},
   "outputs": [],
   "source": []
  },
  {
   "cell_type": "code",
   "execution_count": null,
   "id": "554d4c52-77d9-467e-a027-45257aace873",
   "metadata": {},
   "outputs": [],
   "source": []
  },
  {
   "cell_type": "code",
   "execution_count": null,
   "id": "3528d72d-3e87-4743-bca8-3c7c9afeaf8c",
   "metadata": {},
   "outputs": [],
   "source": []
  },
  {
   "cell_type": "code",
   "execution_count": null,
   "id": "8dc69e1c-fb58-4bb0-a85e-750e330a38e2",
   "metadata": {},
   "outputs": [],
   "source": []
  },
  {
   "cell_type": "code",
   "execution_count": null,
   "id": "0d531a32-6e64-4e84-a3ee-070a214a54b9",
   "metadata": {},
   "outputs": [],
   "source": []
  },
  {
   "cell_type": "code",
   "execution_count": null,
   "id": "0bccd296-cf8b-42ff-a590-6b325fa0ca6e",
   "metadata": {},
   "outputs": [],
   "source": []
  },
  {
   "cell_type": "code",
   "execution_count": null,
   "id": "fba0d91b-a82c-47a1-9281-6d8bf8acf3b4",
   "metadata": {},
   "outputs": [],
   "source": []
  },
  {
   "cell_type": "code",
   "execution_count": null,
   "id": "3a62c1d8-ee07-4ab3-a6b4-6b3ef579ab88",
   "metadata": {},
   "outputs": [],
   "source": []
  },
  {
   "cell_type": "code",
   "execution_count": null,
   "id": "27a054b8-82a6-4265-b7e8-055673d48c50",
   "metadata": {},
   "outputs": [],
   "source": []
  },
  {
   "cell_type": "code",
   "execution_count": null,
   "id": "30222b01-4edc-46fb-95f1-2243ba0a44f6",
   "metadata": {},
   "outputs": [],
   "source": []
  },
  {
   "cell_type": "code",
   "execution_count": null,
   "id": "9315c220-bc9f-448a-81d3-42b0d26bfa44",
   "metadata": {},
   "outputs": [],
   "source": []
  },
  {
   "cell_type": "code",
   "execution_count": null,
   "id": "b2fd00f2-5a1d-4a5b-a222-87425a5c57ed",
   "metadata": {},
   "outputs": [],
   "source": []
  },
  {
   "cell_type": "code",
   "execution_count": null,
   "id": "af3a0d51-8871-416a-82d8-bac38449504d",
   "metadata": {},
   "outputs": [],
   "source": []
  },
  {
   "cell_type": "code",
   "execution_count": null,
   "id": "0801692f-0e41-4a1d-8c29-8ac47b1be354",
   "metadata": {},
   "outputs": [],
   "source": []
  },
  {
   "cell_type": "code",
   "execution_count": null,
   "id": "be066fa2-6003-4a01-b328-cd26e0d64b88",
   "metadata": {},
   "outputs": [],
   "source": []
  },
  {
   "cell_type": "code",
   "execution_count": null,
   "id": "da7b04ef-d2ce-4d97-bc89-428c9e45701d",
   "metadata": {},
   "outputs": [],
   "source": []
  },
  {
   "cell_type": "code",
   "execution_count": null,
   "id": "ec496cb5-44f3-4dc7-899a-d1b502fead25",
   "metadata": {},
   "outputs": [],
   "source": []
  },
  {
   "cell_type": "code",
   "execution_count": null,
   "id": "90f72303-1731-4baf-a216-134774215d30",
   "metadata": {},
   "outputs": [],
   "source": []
  },
  {
   "cell_type": "code",
   "execution_count": null,
   "id": "34899b90-f9e4-47c8-a34e-0aa4aaad043e",
   "metadata": {},
   "outputs": [],
   "source": []
  },
  {
   "cell_type": "code",
   "execution_count": null,
   "id": "7af7966f-0afa-457f-abdb-22c3c9fd4d03",
   "metadata": {},
   "outputs": [],
   "source": []
  },
  {
   "cell_type": "code",
   "execution_count": null,
   "id": "f4ebfbff-e4f0-4094-a608-7972430671c5",
   "metadata": {},
   "outputs": [],
   "source": []
  },
  {
   "cell_type": "code",
   "execution_count": null,
   "id": "cfdced0c-b798-43d1-9ddf-e99bd43b4b2d",
   "metadata": {},
   "outputs": [],
   "source": []
  },
  {
   "cell_type": "code",
   "execution_count": null,
   "id": "e778bd39-fba4-40d2-80cb-68ba73d3cf6e",
   "metadata": {},
   "outputs": [],
   "source": []
  },
  {
   "cell_type": "code",
   "execution_count": null,
   "id": "d406af5d-1a19-430e-9696-f6bc34bb419c",
   "metadata": {},
   "outputs": [],
   "source": []
  },
  {
   "cell_type": "code",
   "execution_count": null,
   "id": "01223fab-e197-40b2-8fcc-008259a84584",
   "metadata": {},
   "outputs": [],
   "source": []
  },
  {
   "cell_type": "code",
   "execution_count": null,
   "id": "45858d6b-3797-4738-aa1f-a4edb9cd4774",
   "metadata": {},
   "outputs": [],
   "source": []
  },
  {
   "cell_type": "code",
   "execution_count": null,
   "id": "cb171aa4-30e0-4f60-a1d8-b1a034571684",
   "metadata": {},
   "outputs": [],
   "source": []
  },
  {
   "cell_type": "code",
   "execution_count": null,
   "id": "c802f7b6-96c9-49e0-a7dc-fb011120b421",
   "metadata": {},
   "outputs": [],
   "source": []
  },
  {
   "cell_type": "code",
   "execution_count": null,
   "id": "92910079-d63b-4cb9-8d18-ce49896bbd78",
   "metadata": {},
   "outputs": [],
   "source": []
  },
  {
   "cell_type": "code",
   "execution_count": null,
   "id": "d53602c6-d54d-4571-9950-caf000e3b9ad",
   "metadata": {},
   "outputs": [],
   "source": []
  },
  {
   "cell_type": "code",
   "execution_count": null,
   "id": "fa323bd6-0fc8-4356-8a6d-ab378dba9c5f",
   "metadata": {},
   "outputs": [],
   "source": []
  },
  {
   "cell_type": "code",
   "execution_count": null,
   "id": "b59de58b-bcb3-4ad1-a139-2d47c454417c",
   "metadata": {},
   "outputs": [],
   "source": []
  },
  {
   "cell_type": "code",
   "execution_count": null,
   "id": "bf18beed-19fa-4fc3-b2bd-99de00e2e82b",
   "metadata": {},
   "outputs": [],
   "source": []
  },
  {
   "cell_type": "code",
   "execution_count": null,
   "id": "ddb1d4dd-3bf5-4332-86f0-d6b3b8e25cc6",
   "metadata": {},
   "outputs": [],
   "source": []
  },
  {
   "cell_type": "code",
   "execution_count": null,
   "id": "2114d8f8-e2d2-4d32-a097-07b21f825837",
   "metadata": {},
   "outputs": [],
   "source": []
  },
  {
   "cell_type": "code",
   "execution_count": null,
   "id": "cebe7a2e-8484-4c1d-b51b-28f032825a5c",
   "metadata": {},
   "outputs": [],
   "source": []
  },
  {
   "cell_type": "code",
   "execution_count": null,
   "id": "7f465f96-f8ce-4f74-aadc-e42c5f000b4b",
   "metadata": {},
   "outputs": [],
   "source": []
  },
  {
   "cell_type": "code",
   "execution_count": null,
   "id": "47a8d394-ec7c-4c67-b670-70cef527fba8",
   "metadata": {},
   "outputs": [],
   "source": []
  },
  {
   "cell_type": "code",
   "execution_count": null,
   "id": "20028ba1-dfdb-43e8-a3a3-5b472812d0bf",
   "metadata": {},
   "outputs": [],
   "source": []
  },
  {
   "cell_type": "code",
   "execution_count": null,
   "id": "30e58ca2-3410-415b-aa93-a2fc394a9716",
   "metadata": {},
   "outputs": [],
   "source": []
  },
  {
   "cell_type": "code",
   "execution_count": null,
   "id": "ab343d74-ad58-47c2-8fb7-661ed2fbd98b",
   "metadata": {},
   "outputs": [],
   "source": []
  },
  {
   "cell_type": "code",
   "execution_count": null,
   "id": "22d48361-2f5a-4476-8dd2-a87fa1b74dde",
   "metadata": {},
   "outputs": [],
   "source": []
  },
  {
   "cell_type": "code",
   "execution_count": null,
   "id": "3599bc75-e7a7-4a01-97e3-3af1f70c6f5b",
   "metadata": {},
   "outputs": [],
   "source": []
  },
  {
   "cell_type": "code",
   "execution_count": null,
   "id": "e250dd03-df5b-4186-a1df-4e9086052f8a",
   "metadata": {},
   "outputs": [],
   "source": []
  },
  {
   "cell_type": "code",
   "execution_count": null,
   "id": "88c33fc3-92bc-4c39-a012-a68eeb7e5f0e",
   "metadata": {},
   "outputs": [],
   "source": []
  },
  {
   "cell_type": "code",
   "execution_count": null,
   "id": "dd608f5e-cb1a-4aee-9041-296c66439992",
   "metadata": {},
   "outputs": [],
   "source": []
  },
  {
   "cell_type": "code",
   "execution_count": null,
   "id": "fe74046d-09a0-4cd5-aa75-31a8399693ef",
   "metadata": {},
   "outputs": [],
   "source": []
  },
  {
   "cell_type": "code",
   "execution_count": null,
   "id": "d77e04ed-ac6e-47cd-a149-31dde6be9923",
   "metadata": {},
   "outputs": [],
   "source": []
  },
  {
   "cell_type": "code",
   "execution_count": null,
   "id": "81277cf2-3b0b-4bf0-94c4-6aafdd76d0c1",
   "metadata": {},
   "outputs": [],
   "source": []
  },
  {
   "cell_type": "code",
   "execution_count": null,
   "id": "77bce128-a678-4163-9dc7-711085427985",
   "metadata": {},
   "outputs": [],
   "source": []
  },
  {
   "cell_type": "code",
   "execution_count": null,
   "id": "8faab01b-8203-4b10-a346-7d1b6f303890",
   "metadata": {},
   "outputs": [],
   "source": []
  },
  {
   "cell_type": "code",
   "execution_count": null,
   "id": "78d70d06-e858-4421-960c-9cd62ab3c142",
   "metadata": {},
   "outputs": [],
   "source": []
  },
  {
   "cell_type": "code",
   "execution_count": null,
   "id": "aae1c1e4-f0fc-4d3d-a9d7-956588fc8579",
   "metadata": {},
   "outputs": [],
   "source": []
  },
  {
   "cell_type": "code",
   "execution_count": null,
   "id": "1b6cf197-91fd-44f5-b9c7-44b0ee78032c",
   "metadata": {},
   "outputs": [],
   "source": []
  },
  {
   "cell_type": "code",
   "execution_count": null,
   "id": "d44483e8-c46b-45e8-a6a9-ab943e00da50",
   "metadata": {},
   "outputs": [],
   "source": []
  },
  {
   "cell_type": "code",
   "execution_count": null,
   "id": "a2ba958f-a8c2-44d9-9912-194a3b34a73f",
   "metadata": {},
   "outputs": [],
   "source": []
  },
  {
   "cell_type": "code",
   "execution_count": null,
   "id": "c0bf62fa-9456-48c9-a325-e228c5563058",
   "metadata": {},
   "outputs": [],
   "source": []
  },
  {
   "cell_type": "code",
   "execution_count": null,
   "id": "1e2b7f16-e123-4a9b-ae1d-c456db095dcc",
   "metadata": {},
   "outputs": [],
   "source": []
  },
  {
   "cell_type": "code",
   "execution_count": null,
   "id": "82481cb9-7bdf-40dc-be33-f00859095922",
   "metadata": {},
   "outputs": [],
   "source": []
  },
  {
   "cell_type": "code",
   "execution_count": null,
   "id": "d2b6e2a6-5db1-48e8-979d-c1c8aad29f8a",
   "metadata": {},
   "outputs": [],
   "source": []
  },
  {
   "cell_type": "code",
   "execution_count": null,
   "id": "1fdba5d4-0eca-4f25-abbe-5a3792f793ff",
   "metadata": {},
   "outputs": [],
   "source": []
  },
  {
   "cell_type": "code",
   "execution_count": null,
   "id": "75748117-3a02-40b0-9661-27a447b11d62",
   "metadata": {},
   "outputs": [],
   "source": []
  },
  {
   "cell_type": "code",
   "execution_count": null,
   "id": "5f3253d6-6445-4e04-b9c6-d8b1e443ae2e",
   "metadata": {},
   "outputs": [],
   "source": []
  },
  {
   "cell_type": "code",
   "execution_count": null,
   "id": "8513845e-cc38-42bd-bfdd-1898f35b8c63",
   "metadata": {},
   "outputs": [],
   "source": []
  },
  {
   "cell_type": "code",
   "execution_count": null,
   "id": "cd5dffba-094f-4bbb-95d6-9eb24171e597",
   "metadata": {},
   "outputs": [],
   "source": []
  },
  {
   "cell_type": "code",
   "execution_count": null,
   "id": "3adda53d-bfdc-465a-81d2-ce01cea4f538",
   "metadata": {},
   "outputs": [],
   "source": []
  },
  {
   "cell_type": "code",
   "execution_count": null,
   "id": "31ed46da-71fb-4c20-aec7-a80616ff96d9",
   "metadata": {},
   "outputs": [],
   "source": []
  },
  {
   "cell_type": "code",
   "execution_count": null,
   "id": "435a0b05-0160-4776-a630-ce282fc9bd27",
   "metadata": {},
   "outputs": [],
   "source": []
  },
  {
   "cell_type": "code",
   "execution_count": null,
   "id": "365aa72f-9dbc-48ff-8808-4ea6c5ddd72a",
   "metadata": {},
   "outputs": [],
   "source": []
  },
  {
   "cell_type": "code",
   "execution_count": null,
   "id": "9ad14a26-ef6e-4108-84a2-edceb2a65d04",
   "metadata": {},
   "outputs": [],
   "source": []
  },
  {
   "cell_type": "code",
   "execution_count": null,
   "id": "f270c2bb-6231-4945-b2af-c206c3bab4ee",
   "metadata": {},
   "outputs": [],
   "source": []
  },
  {
   "cell_type": "code",
   "execution_count": null,
   "id": "18c68898-5d79-43dd-89a5-e5c67642f2cc",
   "metadata": {},
   "outputs": [],
   "source": []
  },
  {
   "cell_type": "code",
   "execution_count": null,
   "id": "9a42f01a-3f47-4039-be4a-246dabb85355",
   "metadata": {},
   "outputs": [],
   "source": []
  },
  {
   "cell_type": "code",
   "execution_count": null,
   "id": "9ec40124-d7b4-4bd7-9ede-37ae05ab7a33",
   "metadata": {},
   "outputs": [],
   "source": []
  },
  {
   "cell_type": "code",
   "execution_count": null,
   "id": "0a50d8db-f2c8-4cd2-b560-a6dd5309bd37",
   "metadata": {},
   "outputs": [],
   "source": []
  },
  {
   "cell_type": "code",
   "execution_count": null,
   "id": "347db68d-7575-48f5-800d-321692cdd465",
   "metadata": {},
   "outputs": [],
   "source": []
  },
  {
   "cell_type": "code",
   "execution_count": null,
   "id": "82782244-8c24-47d0-a318-b607854409eb",
   "metadata": {},
   "outputs": [],
   "source": []
  },
  {
   "cell_type": "code",
   "execution_count": null,
   "id": "f463cbc0-e439-448c-aa4b-b6778e1ca75c",
   "metadata": {},
   "outputs": [],
   "source": []
  },
  {
   "cell_type": "code",
   "execution_count": null,
   "id": "18ea5585-fc76-4eec-87f2-4eece0705702",
   "metadata": {},
   "outputs": [],
   "source": []
  },
  {
   "cell_type": "code",
   "execution_count": null,
   "id": "1d399ab5-2093-4f8e-aad6-d8b9e1facdb5",
   "metadata": {},
   "outputs": [],
   "source": []
  },
  {
   "cell_type": "code",
   "execution_count": null,
   "id": "402179e9-3dfb-4584-9704-bb45a4031bfa",
   "metadata": {},
   "outputs": [],
   "source": []
  },
  {
   "cell_type": "code",
   "execution_count": null,
   "id": "a8a72a40-0052-48a2-9b65-9a9c1b9d38da",
   "metadata": {},
   "outputs": [],
   "source": []
  },
  {
   "cell_type": "code",
   "execution_count": null,
   "id": "3f134070-50bb-454d-bc44-22f599eb3de3",
   "metadata": {},
   "outputs": [],
   "source": []
  },
  {
   "cell_type": "code",
   "execution_count": null,
   "id": "e1a08d07-fb4a-429c-accd-35c2d2198997",
   "metadata": {},
   "outputs": [],
   "source": []
  },
  {
   "cell_type": "code",
   "execution_count": null,
   "id": "419ad76c-f45b-459a-8677-b6ec40ad3fc0",
   "metadata": {},
   "outputs": [],
   "source": []
  },
  {
   "cell_type": "code",
   "execution_count": null,
   "id": "374add49-5605-459c-b370-8f9149239037",
   "metadata": {},
   "outputs": [],
   "source": []
  },
  {
   "cell_type": "code",
   "execution_count": null,
   "id": "ced8dacf-207d-4258-901a-d1eaf2d5210d",
   "metadata": {},
   "outputs": [],
   "source": []
  },
  {
   "cell_type": "code",
   "execution_count": null,
   "id": "9deff131-401d-4b23-ac6b-6701e3d8daeb",
   "metadata": {},
   "outputs": [],
   "source": []
  },
  {
   "cell_type": "code",
   "execution_count": null,
   "id": "3cc58701-40e9-4df8-b362-3331746c6c79",
   "metadata": {},
   "outputs": [],
   "source": []
  },
  {
   "cell_type": "code",
   "execution_count": null,
   "id": "c621ff30-5da0-404c-a530-95abad15d36b",
   "metadata": {},
   "outputs": [],
   "source": []
  },
  {
   "cell_type": "code",
   "execution_count": null,
   "id": "26dc9b01-3e9c-48f6-8531-c94bbae5f8ee",
   "metadata": {},
   "outputs": [],
   "source": []
  },
  {
   "cell_type": "code",
   "execution_count": null,
   "id": "32f3abd5-5320-40ab-b4ba-e0aaea3048fe",
   "metadata": {},
   "outputs": [],
   "source": []
  },
  {
   "cell_type": "code",
   "execution_count": null,
   "id": "ae119a0e-866d-4371-83a5-34d7a18f307b",
   "metadata": {},
   "outputs": [],
   "source": []
  },
  {
   "cell_type": "code",
   "execution_count": null,
   "id": "21e19533-0c71-43c0-898f-18a8b6141b73",
   "metadata": {},
   "outputs": [],
   "source": []
  },
  {
   "cell_type": "code",
   "execution_count": null,
   "id": "85743f56-9ddd-4d0a-9bce-143fbb0207d4",
   "metadata": {},
   "outputs": [],
   "source": []
  },
  {
   "cell_type": "code",
   "execution_count": null,
   "id": "01a81768-c7c8-4683-a01a-71ca2ef3b676",
   "metadata": {},
   "outputs": [],
   "source": []
  },
  {
   "cell_type": "code",
   "execution_count": null,
   "id": "1616e207-43ec-45a8-adc7-36a0a155d2ba",
   "metadata": {},
   "outputs": [],
   "source": []
  },
  {
   "cell_type": "code",
   "execution_count": null,
   "id": "33cebacb-addd-4831-a5ce-45697a521e3d",
   "metadata": {},
   "outputs": [],
   "source": []
  },
  {
   "cell_type": "code",
   "execution_count": null,
   "id": "a95ce3fa-6618-4e15-90aa-41f1a590ff75",
   "metadata": {},
   "outputs": [],
   "source": []
  },
  {
   "cell_type": "code",
   "execution_count": null,
   "id": "35415b38-d896-4118-b178-222b3cd02505",
   "metadata": {},
   "outputs": [],
   "source": []
  },
  {
   "cell_type": "code",
   "execution_count": null,
   "id": "8c157616-9618-404f-a34c-af040c31572f",
   "metadata": {},
   "outputs": [],
   "source": []
  },
  {
   "cell_type": "code",
   "execution_count": null,
   "id": "e5be8a58-13a0-4d40-a3d7-3a371d83dc4c",
   "metadata": {},
   "outputs": [],
   "source": []
  },
  {
   "cell_type": "code",
   "execution_count": null,
   "id": "6d3a6557-d1e8-4252-a771-53ded35dc5ac",
   "metadata": {},
   "outputs": [],
   "source": []
  },
  {
   "cell_type": "code",
   "execution_count": null,
   "id": "94b19189-371f-4058-afd6-ae7aadd9d902",
   "metadata": {},
   "outputs": [],
   "source": []
  },
  {
   "cell_type": "code",
   "execution_count": null,
   "id": "9fc07849-0283-432f-98cf-b9eaae3f734e",
   "metadata": {},
   "outputs": [],
   "source": []
  },
  {
   "cell_type": "code",
   "execution_count": null,
   "id": "6c55a2f8-2b9c-48fc-bd70-4166e3782533",
   "metadata": {},
   "outputs": [],
   "source": []
  },
  {
   "cell_type": "code",
   "execution_count": null,
   "id": "c7813b45-986d-4388-ad21-dca116eee746",
   "metadata": {},
   "outputs": [],
   "source": []
  },
  {
   "cell_type": "code",
   "execution_count": null,
   "id": "09390e55-66bf-49b1-9d72-0263cfbef9d5",
   "metadata": {},
   "outputs": [],
   "source": []
  },
  {
   "cell_type": "code",
   "execution_count": null,
   "id": "616e8bb2-ca19-4487-9493-b683e1ca5fa7",
   "metadata": {},
   "outputs": [],
   "source": []
  },
  {
   "cell_type": "code",
   "execution_count": null,
   "id": "5c65489e-4396-4ec3-9708-35eb8b3c3cc6",
   "metadata": {},
   "outputs": [],
   "source": []
  },
  {
   "cell_type": "code",
   "execution_count": null,
   "id": "3bd1c3a8-7cc3-4738-a739-c6275082bc19",
   "metadata": {},
   "outputs": [],
   "source": []
  },
  {
   "cell_type": "code",
   "execution_count": null,
   "id": "0769adee-6945-4e82-9b33-e25c9fa1c98d",
   "metadata": {},
   "outputs": [],
   "source": []
  },
  {
   "cell_type": "code",
   "execution_count": null,
   "id": "17d77410-099f-445f-ac67-70741bc54d7e",
   "metadata": {},
   "outputs": [],
   "source": []
  },
  {
   "cell_type": "code",
   "execution_count": null,
   "id": "4b86fe29-2620-4939-9dbd-057a956b7bc1",
   "metadata": {},
   "outputs": [],
   "source": []
  },
  {
   "cell_type": "code",
   "execution_count": null,
   "id": "a997f4d7-c088-4275-8b9a-341881831eca",
   "metadata": {},
   "outputs": [],
   "source": []
  },
  {
   "cell_type": "code",
   "execution_count": null,
   "id": "f541db6b-f140-4cbb-ac7e-e1fcd34b3664",
   "metadata": {},
   "outputs": [],
   "source": []
  },
  {
   "cell_type": "code",
   "execution_count": null,
   "id": "a89d32e6-8b0b-494b-9b40-2f7e63ed1981",
   "metadata": {},
   "outputs": [],
   "source": []
  },
  {
   "cell_type": "code",
   "execution_count": null,
   "id": "2c52cab8-9d8b-4d96-a42b-5e52a9a0238f",
   "metadata": {},
   "outputs": [],
   "source": []
  },
  {
   "cell_type": "code",
   "execution_count": null,
   "id": "16b97c10-e69c-496b-a6e8-31c5a7a26be1",
   "metadata": {},
   "outputs": [],
   "source": []
  },
  {
   "cell_type": "code",
   "execution_count": null,
   "id": "4d0c7b02-6832-45a4-abda-1ba4d6c49727",
   "metadata": {},
   "outputs": [],
   "source": []
  },
  {
   "cell_type": "code",
   "execution_count": null,
   "id": "e1e44670-9576-48e2-962a-67043d65398c",
   "metadata": {},
   "outputs": [],
   "source": []
  },
  {
   "cell_type": "code",
   "execution_count": null,
   "id": "fb6d5a21-c7cf-4559-a514-b2fc02302750",
   "metadata": {},
   "outputs": [],
   "source": []
  },
  {
   "cell_type": "code",
   "execution_count": null,
   "id": "3490a690-7020-4df7-b4ea-528026ea5c1b",
   "metadata": {},
   "outputs": [],
   "source": []
  },
  {
   "cell_type": "code",
   "execution_count": null,
   "id": "f59aa91f-62d3-440d-8699-5b5fb7462f60",
   "metadata": {},
   "outputs": [],
   "source": []
  },
  {
   "cell_type": "code",
   "execution_count": null,
   "id": "ecdb0d7c-d729-411f-8c8a-5cc150996f9c",
   "metadata": {},
   "outputs": [],
   "source": []
  },
  {
   "cell_type": "code",
   "execution_count": null,
   "id": "0ac74722-12ac-4cd4-b59a-e3c107370c16",
   "metadata": {},
   "outputs": [],
   "source": []
  },
  {
   "cell_type": "code",
   "execution_count": null,
   "id": "9f6041df-50f4-4ce9-859e-52b957c68f7b",
   "metadata": {},
   "outputs": [],
   "source": []
  },
  {
   "cell_type": "code",
   "execution_count": null,
   "id": "fb0672c5-bd6e-41d5-98b8-d74fdb9ba9dd",
   "metadata": {},
   "outputs": [],
   "source": []
  },
  {
   "cell_type": "code",
   "execution_count": null,
   "id": "e5be9509-2fb8-4529-b750-988b73cc1873",
   "metadata": {},
   "outputs": [],
   "source": []
  },
  {
   "cell_type": "code",
   "execution_count": null,
   "id": "a5d56591-0df1-43b6-8a4b-ef2bb2ac28cb",
   "metadata": {},
   "outputs": [],
   "source": []
  },
  {
   "cell_type": "code",
   "execution_count": null,
   "id": "aece93d4-1664-4714-9e79-654b5d02a1e2",
   "metadata": {},
   "outputs": [],
   "source": []
  },
  {
   "cell_type": "code",
   "execution_count": null,
   "id": "810dc064-11fe-4985-a7b9-9752e9a4e998",
   "metadata": {},
   "outputs": [],
   "source": []
  },
  {
   "cell_type": "code",
   "execution_count": null,
   "id": "038dff14-5a5b-4160-90e2-d2a0dec660a5",
   "metadata": {},
   "outputs": [],
   "source": []
  },
  {
   "cell_type": "code",
   "execution_count": null,
   "id": "0a718fde-94b6-4b05-ac91-66e365aeca50",
   "metadata": {},
   "outputs": [],
   "source": []
  },
  {
   "cell_type": "code",
   "execution_count": null,
   "id": "d02c4673-523e-4eb0-a508-027a2c90ec44",
   "metadata": {},
   "outputs": [],
   "source": []
  },
  {
   "cell_type": "code",
   "execution_count": null,
   "id": "11ecfd2d-a37b-4dcb-aac7-92a929da0f71",
   "metadata": {},
   "outputs": [],
   "source": []
  },
  {
   "cell_type": "code",
   "execution_count": null,
   "id": "73f16302-b0c6-4623-b47e-7b11f22746d3",
   "metadata": {},
   "outputs": [],
   "source": []
  },
  {
   "cell_type": "code",
   "execution_count": null,
   "id": "dbae3a42-ce0a-484d-ba3c-f759cd42055a",
   "metadata": {},
   "outputs": [],
   "source": []
  },
  {
   "cell_type": "code",
   "execution_count": null,
   "id": "31ddedd5-ac86-4520-b1f4-9e5c52720986",
   "metadata": {},
   "outputs": [],
   "source": []
  },
  {
   "cell_type": "code",
   "execution_count": null,
   "id": "49056230-60e2-4fab-9c8a-2402f7a12190",
   "metadata": {},
   "outputs": [],
   "source": []
  },
  {
   "cell_type": "code",
   "execution_count": null,
   "id": "8c79404e-b3c3-4cde-ae18-bba788240736",
   "metadata": {},
   "outputs": [],
   "source": []
  },
  {
   "cell_type": "code",
   "execution_count": null,
   "id": "cb1bf499-7b85-4394-9afd-ed036491abef",
   "metadata": {},
   "outputs": [],
   "source": []
  },
  {
   "cell_type": "code",
   "execution_count": null,
   "id": "3fc0707e-c6fc-4851-b2df-d1638ca868c2",
   "metadata": {},
   "outputs": [],
   "source": []
  },
  {
   "cell_type": "code",
   "execution_count": null,
   "id": "23155cfb-168a-484e-b10d-50ff6bb7c011",
   "metadata": {},
   "outputs": [],
   "source": []
  },
  {
   "cell_type": "code",
   "execution_count": null,
   "id": "6eca4d41-6a29-44a0-8dbb-d07b70f14e1a",
   "metadata": {},
   "outputs": [],
   "source": []
  },
  {
   "cell_type": "code",
   "execution_count": null,
   "id": "e737672b-87d8-4363-81d2-8efe8c96a87f",
   "metadata": {},
   "outputs": [],
   "source": []
  },
  {
   "cell_type": "code",
   "execution_count": null,
   "id": "fc3a10b4-c4a7-4780-a25b-e5d1622fa2ba",
   "metadata": {},
   "outputs": [],
   "source": []
  },
  {
   "cell_type": "code",
   "execution_count": null,
   "id": "8e520177-48c8-4331-9993-f7d48247d538",
   "metadata": {},
   "outputs": [],
   "source": []
  },
  {
   "cell_type": "code",
   "execution_count": null,
   "id": "85bcfbad-a931-4040-82d3-a571978e4ab2",
   "metadata": {},
   "outputs": [],
   "source": []
  },
  {
   "cell_type": "code",
   "execution_count": null,
   "id": "3e6026b5-9ec6-4365-9f61-b6740f3bc96c",
   "metadata": {},
   "outputs": [],
   "source": []
  },
  {
   "cell_type": "code",
   "execution_count": null,
   "id": "ee4f9e67-215a-45eb-a52a-23b2c94abf83",
   "metadata": {},
   "outputs": [],
   "source": []
  },
  {
   "cell_type": "code",
   "execution_count": null,
   "id": "6463e917-dde9-4195-bd39-1323fe4af48c",
   "metadata": {},
   "outputs": [],
   "source": []
  },
  {
   "cell_type": "code",
   "execution_count": null,
   "id": "be26f381-1da4-410a-95e0-13e00f814be3",
   "metadata": {},
   "outputs": [],
   "source": []
  },
  {
   "cell_type": "code",
   "execution_count": null,
   "id": "ded9b175-2c38-47be-bd98-d9409cffc170",
   "metadata": {},
   "outputs": [],
   "source": []
  },
  {
   "cell_type": "code",
   "execution_count": null,
   "id": "70e3cb83-92d8-4331-b0fb-77e7bf76928c",
   "metadata": {},
   "outputs": [],
   "source": []
  },
  {
   "cell_type": "code",
   "execution_count": null,
   "id": "4b07822d-bd73-43e6-ae0a-cce147797c75",
   "metadata": {},
   "outputs": [],
   "source": []
  },
  {
   "cell_type": "code",
   "execution_count": null,
   "id": "4782226a-1749-4c6c-af2e-cbd1d111d9c1",
   "metadata": {},
   "outputs": [],
   "source": []
  },
  {
   "cell_type": "code",
   "execution_count": null,
   "id": "119424da-6af1-4f08-8872-7977780387bb",
   "metadata": {},
   "outputs": [],
   "source": []
  },
  {
   "cell_type": "code",
   "execution_count": null,
   "id": "2e2974cd-51ed-4dd4-ba93-0eb6e6d57e7c",
   "metadata": {},
   "outputs": [],
   "source": []
  },
  {
   "cell_type": "code",
   "execution_count": null,
   "id": "65799844-3648-421e-b3cb-d88d5f4308f6",
   "metadata": {},
   "outputs": [],
   "source": []
  },
  {
   "cell_type": "code",
   "execution_count": null,
   "id": "17387f04-1d0b-40d0-aa6c-8340aad9f07d",
   "metadata": {},
   "outputs": [],
   "source": []
  },
  {
   "cell_type": "code",
   "execution_count": null,
   "id": "03f79e1f-ba27-44f8-98dc-ebb89fe9bbe1",
   "metadata": {},
   "outputs": [],
   "source": []
  },
  {
   "cell_type": "code",
   "execution_count": null,
   "id": "865cebff-3ee2-4cac-9fd9-2e0513651b03",
   "metadata": {},
   "outputs": [],
   "source": []
  },
  {
   "cell_type": "code",
   "execution_count": null,
   "id": "4de6fd88-8adc-4e9a-8b4c-da63041690b0",
   "metadata": {},
   "outputs": [],
   "source": []
  },
  {
   "cell_type": "code",
   "execution_count": null,
   "id": "f0d34b41-7763-4c0b-9aaa-ebf49caec10d",
   "metadata": {},
   "outputs": [],
   "source": []
  },
  {
   "cell_type": "code",
   "execution_count": null,
   "id": "77fa43c5-d9ca-486e-a93b-157ba0c96470",
   "metadata": {},
   "outputs": [],
   "source": []
  },
  {
   "cell_type": "code",
   "execution_count": null,
   "id": "332834af-2a4a-4c40-9424-b02fc982a0a1",
   "metadata": {},
   "outputs": [],
   "source": []
  },
  {
   "cell_type": "code",
   "execution_count": null,
   "id": "2bdde621-a2b5-48b4-99ed-78eeb5257445",
   "metadata": {},
   "outputs": [],
   "source": []
  },
  {
   "cell_type": "code",
   "execution_count": null,
   "id": "b1e4814f-97aa-44ca-ae2c-c76bef5fc3aa",
   "metadata": {},
   "outputs": [],
   "source": []
  },
  {
   "cell_type": "code",
   "execution_count": null,
   "id": "58c4bd9c-af73-4b12-b78c-2ada2496c692",
   "metadata": {},
   "outputs": [],
   "source": []
  },
  {
   "cell_type": "code",
   "execution_count": null,
   "id": "8a1082f5-aea4-4a66-9e93-438feeb18829",
   "metadata": {},
   "outputs": [],
   "source": []
  },
  {
   "cell_type": "code",
   "execution_count": null,
   "id": "5936e29f-0590-4154-b010-7e1a454d146b",
   "metadata": {},
   "outputs": [],
   "source": []
  },
  {
   "cell_type": "code",
   "execution_count": null,
   "id": "dc5ea3fc-95df-4fb9-9c6a-2cddbc27ecc1",
   "metadata": {},
   "outputs": [],
   "source": []
  },
  {
   "cell_type": "code",
   "execution_count": null,
   "id": "70331634-0a43-4cae-bc13-2626445edd84",
   "metadata": {},
   "outputs": [],
   "source": []
  },
  {
   "cell_type": "code",
   "execution_count": null,
   "id": "d2e60d37-7f2c-450e-bb4b-176b3cebaf41",
   "metadata": {},
   "outputs": [],
   "source": []
  },
  {
   "cell_type": "code",
   "execution_count": null,
   "id": "28a1a4d5-ebee-433c-af84-89c332034e12",
   "metadata": {},
   "outputs": [],
   "source": []
  },
  {
   "cell_type": "code",
   "execution_count": null,
   "id": "e9f24835-d443-4bbf-aa1d-121a3bfcd89e",
   "metadata": {},
   "outputs": [],
   "source": []
  },
  {
   "cell_type": "code",
   "execution_count": null,
   "id": "40893ce7-9fac-44c5-9c0b-76270f9f3f87",
   "metadata": {},
   "outputs": [],
   "source": []
  },
  {
   "cell_type": "code",
   "execution_count": null,
   "id": "36a978ac-c68d-4577-8ac7-9b34eeedc18b",
   "metadata": {},
   "outputs": [],
   "source": []
  },
  {
   "cell_type": "code",
   "execution_count": null,
   "id": "fe5a4dc4-e157-46d2-9d0d-bcc11adf5075",
   "metadata": {},
   "outputs": [],
   "source": []
  },
  {
   "cell_type": "code",
   "execution_count": null,
   "id": "a6417dcf-c971-463d-b448-2dec5fa44e6c",
   "metadata": {},
   "outputs": [],
   "source": []
  },
  {
   "cell_type": "code",
   "execution_count": null,
   "id": "7e75347c-7cdc-44a6-a7ec-20429a7be27f",
   "metadata": {},
   "outputs": [],
   "source": []
  },
  {
   "cell_type": "code",
   "execution_count": null,
   "id": "619f2b5c-7d6a-4d63-ba71-5e629d98b3af",
   "metadata": {},
   "outputs": [],
   "source": []
  },
  {
   "cell_type": "code",
   "execution_count": null,
   "id": "0e93fe07-fd7f-40cc-bad8-e63808bbfad8",
   "metadata": {},
   "outputs": [],
   "source": []
  },
  {
   "cell_type": "code",
   "execution_count": null,
   "id": "73406b76-5a9d-4433-b469-94d3b2463842",
   "metadata": {},
   "outputs": [],
   "source": []
  },
  {
   "cell_type": "code",
   "execution_count": null,
   "id": "e9bb1e2f-2736-45ff-b0ce-96f6501d57df",
   "metadata": {},
   "outputs": [],
   "source": []
  },
  {
   "cell_type": "code",
   "execution_count": null,
   "id": "6be9927c-58c2-455b-9dec-047b1d8649d4",
   "metadata": {},
   "outputs": [],
   "source": []
  },
  {
   "cell_type": "code",
   "execution_count": null,
   "id": "50717639-cc09-4bad-a86b-b6a52537249a",
   "metadata": {},
   "outputs": [],
   "source": []
  },
  {
   "cell_type": "code",
   "execution_count": null,
   "id": "05787d6a-443c-478c-9daf-462d112120ea",
   "metadata": {},
   "outputs": [],
   "source": []
  },
  {
   "cell_type": "code",
   "execution_count": null,
   "id": "61b4c827-2770-4978-b793-7b1117d03ab4",
   "metadata": {},
   "outputs": [],
   "source": []
  },
  {
   "cell_type": "code",
   "execution_count": null,
   "id": "4864cc22-8370-4dee-8ae5-990032f1c7c3",
   "metadata": {},
   "outputs": [],
   "source": []
  },
  {
   "cell_type": "code",
   "execution_count": null,
   "id": "4c8f6669-a24a-44e2-877a-d441dd61fcce",
   "metadata": {},
   "outputs": [],
   "source": []
  },
  {
   "cell_type": "code",
   "execution_count": null,
   "id": "0d4e5edd-a2fc-4a1e-a4e3-08a4cd769545",
   "metadata": {},
   "outputs": [],
   "source": []
  },
  {
   "cell_type": "code",
   "execution_count": null,
   "id": "ad056057-062e-4605-ac55-01b7fd3bdd10",
   "metadata": {},
   "outputs": [],
   "source": []
  },
  {
   "cell_type": "code",
   "execution_count": null,
   "id": "3ff4b990-b147-49ae-b095-a758952a56d1",
   "metadata": {},
   "outputs": [],
   "source": []
  },
  {
   "cell_type": "code",
   "execution_count": null,
   "id": "5d6c11dc-7e6d-4ba4-9f6c-a83513aedb31",
   "metadata": {},
   "outputs": [],
   "source": []
  },
  {
   "cell_type": "code",
   "execution_count": null,
   "id": "2bb946e7-d3ee-4ec9-bf04-adc4341b0196",
   "metadata": {},
   "outputs": [],
   "source": []
  },
  {
   "cell_type": "code",
   "execution_count": null,
   "id": "a53e67d8-257f-46dc-a127-acef2ff44d8f",
   "metadata": {},
   "outputs": [],
   "source": []
  },
  {
   "cell_type": "code",
   "execution_count": null,
   "id": "04ff42cf-9e46-4ac9-926e-0f9fd53e859e",
   "metadata": {},
   "outputs": [],
   "source": []
  },
  {
   "cell_type": "code",
   "execution_count": null,
   "id": "48a5912d-d395-4fe3-809a-96b83fda9394",
   "metadata": {},
   "outputs": [],
   "source": []
  },
  {
   "cell_type": "code",
   "execution_count": null,
   "id": "cc3d4a07-2adc-46e4-9388-906c0a2cb64d",
   "metadata": {},
   "outputs": [],
   "source": []
  },
  {
   "cell_type": "code",
   "execution_count": null,
   "id": "6047b8ae-eb23-4343-acfa-c8a8d5234844",
   "metadata": {},
   "outputs": [],
   "source": []
  },
  {
   "cell_type": "code",
   "execution_count": null,
   "id": "d092f399-ce6c-4669-9938-71e75f9878a7",
   "metadata": {},
   "outputs": [],
   "source": []
  },
  {
   "cell_type": "code",
   "execution_count": null,
   "id": "6b0dcbed-02f6-4ba0-8160-67583ad856ee",
   "metadata": {},
   "outputs": [],
   "source": []
  },
  {
   "cell_type": "code",
   "execution_count": null,
   "id": "d1601cc1-af88-40a7-ba2e-c97ed527158f",
   "metadata": {},
   "outputs": [],
   "source": []
  },
  {
   "cell_type": "code",
   "execution_count": null,
   "id": "a036f4f0-871b-47f4-a8cb-9073c6861478",
   "metadata": {},
   "outputs": [],
   "source": []
  },
  {
   "cell_type": "code",
   "execution_count": null,
   "id": "bf1dffd9-2481-4b6c-bc66-160b19e2768e",
   "metadata": {},
   "outputs": [],
   "source": []
  },
  {
   "cell_type": "code",
   "execution_count": null,
   "id": "c2eb3927-3e12-450e-ac6f-5b627ec9d974",
   "metadata": {},
   "outputs": [],
   "source": []
  },
  {
   "cell_type": "code",
   "execution_count": null,
   "id": "10d0b5b5-f6d3-4c88-b30a-0cc4f01428ac",
   "metadata": {},
   "outputs": [],
   "source": []
  },
  {
   "cell_type": "code",
   "execution_count": null,
   "id": "4087d586-2f9b-4de6-9a3c-8fd4fc326b55",
   "metadata": {},
   "outputs": [],
   "source": []
  },
  {
   "cell_type": "code",
   "execution_count": null,
   "id": "5f6f8784-13c9-4d72-a1eb-b412744e9f35",
   "metadata": {},
   "outputs": [],
   "source": []
  },
  {
   "cell_type": "code",
   "execution_count": null,
   "id": "3145a7f7-6417-4fc6-8a3b-3180ba72c2bc",
   "metadata": {},
   "outputs": [],
   "source": []
  },
  {
   "cell_type": "code",
   "execution_count": null,
   "id": "5adc29ec-90ee-44b0-951c-39bf82331e15",
   "metadata": {},
   "outputs": [],
   "source": []
  },
  {
   "cell_type": "code",
   "execution_count": null,
   "id": "5f3fe38c-f239-4945-b6ac-f31560d9bf82",
   "metadata": {},
   "outputs": [],
   "source": []
  },
  {
   "cell_type": "code",
   "execution_count": null,
   "id": "9947e3c8-c688-48b8-a5b0-7897f590d31d",
   "metadata": {},
   "outputs": [],
   "source": []
  },
  {
   "cell_type": "code",
   "execution_count": null,
   "id": "daf63dfc-44e3-4bb1-a6e5-fd627ada4a4a",
   "metadata": {},
   "outputs": [],
   "source": []
  },
  {
   "cell_type": "code",
   "execution_count": null,
   "id": "9690607f-db23-4f66-b7a1-ee21e62c2ccc",
   "metadata": {},
   "outputs": [],
   "source": []
  },
  {
   "cell_type": "code",
   "execution_count": null,
   "id": "c7901b9b-9c06-44cd-b9a6-f9fdbc7e49f3",
   "metadata": {},
   "outputs": [],
   "source": []
  },
  {
   "cell_type": "code",
   "execution_count": null,
   "id": "6fb63e9a-67bc-4886-a9ca-fb2cb128f557",
   "metadata": {},
   "outputs": [],
   "source": []
  },
  {
   "cell_type": "code",
   "execution_count": null,
   "id": "594e3be6-bca9-482f-a64c-a46a89e1479e",
   "metadata": {},
   "outputs": [],
   "source": []
  },
  {
   "cell_type": "code",
   "execution_count": null,
   "id": "2b7d1132-3f0c-4834-9288-cc985458a91e",
   "metadata": {},
   "outputs": [],
   "source": []
  },
  {
   "cell_type": "code",
   "execution_count": null,
   "id": "7e9a908f-2be3-431b-a732-73727222ec67",
   "metadata": {},
   "outputs": [],
   "source": []
  },
  {
   "cell_type": "code",
   "execution_count": null,
   "id": "701669f9-92f7-4988-b3d3-38d2615c9a1d",
   "metadata": {},
   "outputs": [],
   "source": []
  },
  {
   "cell_type": "code",
   "execution_count": null,
   "id": "1cb5d06e-0e7d-4970-bf1e-201469cb9170",
   "metadata": {},
   "outputs": [],
   "source": []
  },
  {
   "cell_type": "code",
   "execution_count": null,
   "id": "a657da37-a7c4-4245-9641-f6b34e7a9cbe",
   "metadata": {},
   "outputs": [],
   "source": []
  },
  {
   "cell_type": "code",
   "execution_count": null,
   "id": "ca4588c6-8ae3-4e30-80cc-ed810175e95a",
   "metadata": {},
   "outputs": [],
   "source": []
  },
  {
   "cell_type": "code",
   "execution_count": null,
   "id": "2e50da0a-dfcf-4247-9e55-d3f866b20b1c",
   "metadata": {},
   "outputs": [],
   "source": []
  },
  {
   "cell_type": "code",
   "execution_count": null,
   "id": "99c8b64b-dbc8-407f-a1ad-f7b8d7e06a23",
   "metadata": {},
   "outputs": [],
   "source": []
  },
  {
   "cell_type": "code",
   "execution_count": null,
   "id": "70c80126-ba36-4b70-a527-2177f7564496",
   "metadata": {},
   "outputs": [],
   "source": []
  },
  {
   "cell_type": "markdown",
   "id": "2e29e7b6-141b-4061-904b-b8ad49510fc6",
   "metadata": {},
   "source": [
    "#### on the retail dataset\n",
    "X = retail['post']\n",
    "y = retail['subreddit']\n",
    "\n",
    "X_train, X_test, y_train, y_test = train_test_split(X,\n",
    "                                                    y,\n",
    "                                                    test_size=0.33,\n",
    "                                                    stratify=y,\n",
    "                                                    random_state=42)\n",
    "\n",
    "# Fit & transform the vectorizer \n",
    "Xcvec_train = cvec.fit_transform(X_train)\n",
    "\n",
    "# Transform\n",
    "Xcvec_test = cvec.transform(X_test)"
   ]
  }
 ],
 "metadata": {
  "kernelspec": {
   "display_name": "Python 3 (ipykernel)",
   "language": "python",
   "name": "python3"
  },
  "language_info": {
   "codemirror_mode": {
    "name": "ipython",
    "version": 3
   },
   "file_extension": ".py",
   "mimetype": "text/x-python",
   "name": "python",
   "nbconvert_exporter": "python",
   "pygments_lexer": "ipython3",
   "version": "3.9.7"
  }
 },
 "nbformat": 4,
 "nbformat_minor": 5
}
